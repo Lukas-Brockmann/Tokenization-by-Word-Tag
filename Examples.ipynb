{
 "cells": [
  {
   "cell_type": "code",
   "execution_count": 1,
   "id": "436f2e78",
   "metadata": {},
   "outputs": [],
   "source": [
    "from transformers import GPT2Tokenizer"
   ]
  },
  {
   "cell_type": "code",
   "execution_count": 2,
   "id": "14073568",
   "metadata": {},
   "outputs": [],
   "source": [
    "tokenizer = GPT2Tokenizer.from_pretrained(\"gpt2\")"
   ]
  },
  {
   "cell_type": "code",
   "execution_count": 4,
   "id": "1f60d3d4",
   "metadata": {},
   "outputs": [
    {
     "name": "stdout",
     "output_type": "stream",
     "text": [
      "antivirus -> ['ant', 'iv', 'irus']\n",
      "predefined -> ['pred', 'efined']\n",
      "restarted -> ['rest', 'arted']\n",
      "independently -> ['ind', 'epend', 'ently']\n"
     ]
    }
   ],
   "source": [
    "examples = [\n",
    "    \"antivirus\",\n",
    "    \"predefined\",\n",
    "    \"restarted\",\n",
    "    \"independently\"\n",
    "]\n",
    "\n",
    "for word in examples:\n",
    "    tokens = tokenizer.tokenize(word)\n",
    "    print(f\"{word} -> {tokens}\")"
   ]
  },
  {
   "cell_type": "code",
   "execution_count": null,
   "id": "b4b49320",
   "metadata": {},
   "outputs": [],
   "source": []
  }
 ],
 "metadata": {
  "kernelspec": {
   "display_name": "thesis",
   "language": "python",
   "name": "python3"
  },
  "language_info": {
   "codemirror_mode": {
    "name": "ipython",
    "version": 3
   },
   "file_extension": ".py",
   "mimetype": "text/x-python",
   "name": "python",
   "nbconvert_exporter": "python",
   "pygments_lexer": "ipython3",
   "version": "3.10.16"
  }
 },
 "nbformat": 4,
 "nbformat_minor": 5
}
