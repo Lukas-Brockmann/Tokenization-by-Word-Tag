{
 "cells": [
  {
   "cell_type": "code",
   "execution_count": 75,
   "metadata": {},
   "outputs": [],
   "source": [
    "import sys\n",
    "import os\n",
    "from IPython import get_ipython\n",
    "\n",
    "sys.path.append(os.path.abspath(\"./lib\"))\n",
    "if 'autoreload' not in get_ipython().magics_manager.magics['line']:\n",
    "    %load_ext autoreload\n",
    "%autoreload 2\n",
    "\n",
    "from lib import dataloading as dl\n",
    "from lib import tokenizer as tk\n",
    "import torch\n",
    "import tokenizers\n",
    "import warnings\n",
    "import numpy as np\n",
    "import pandas as pd\n",
    "from matplotlib_venn import venn2, venn3  \n",
    "from matplotlib import pyplot as plt \n",
    "import plotly.express as px\n",
    "from collections import defaultdict"
   ]
  },
  {
   "cell_type": "code",
   "execution_count": 76,
   "metadata": {},
   "outputs": [
    {
     "name": "stdout",
     "output_type": "stream",
     "text": [
      "Dropped 2810 rows with non-UPOS tags \n",
      "Tags dropped: ['_']\n",
      "            FORM         LEMMA   UPOS XPOS        FEATS HEAD DEPREL  \\\n",
      "ID                                                                    \n",
      "1      Aesthetic     aesthetic    ADJ   JJ   Degree=Pos    2   amod   \n",
      "2   Appreciation  appreciation   NOUN   NN  Number=Sing    0   root   \n",
      "3            and           and  CCONJ   CC            _    5     cc   \n",
      "4        Spanish       Spanish    ADJ   JJ   Degree=Pos    5   amod   \n",
      "5            Art           art   NOUN   NN  Number=Sing    2   conj   \n",
      "\n",
      "          DEPS                                               MISC  \n",
      "ID                                                                 \n",
      "1       2:amod  Discourse=organization-heading:1->57:8:grf-ly-...  \n",
      "2       0:root                       Entity=1)|MSeg=Appreciat-ion  \n",
      "3         5:cc                                                  _  \n",
      "4       5:amod     Entity=(2-abstract-new-cf2-2-sgl|MSeg=Span-ish  \n",
      "5   2:conj:and                            Entity=2)|SpaceAfter=No  \n"
     ]
    }
   ],
   "source": [
    "data_df = dl.load_conllu(\n",
    "    r\"D:\\Dropbox\\Bachlorarbeit\\Datasets\\Universal Dependencies 2.15\\ud-treebanks-v2.15\\UD_English-GUM\\en_gum-ud-train.conllu\"\n",
    ")\n",
    "data_df = dl.clear_non_UPOS_tags(data_df)\n",
    "print(data_df.head())"
   ]
  },
  {
   "cell_type": "code",
   "execution_count": 77,
   "metadata": {},
   "outputs": [
    {
     "data": {
      "text/html": [
       "<div>\n",
       "<style scoped>\n",
       "    .dataframe tbody tr th:only-of-type {\n",
       "        vertical-align: middle;\n",
       "    }\n",
       "\n",
       "    .dataframe tbody tr th {\n",
       "        vertical-align: top;\n",
       "    }\n",
       "\n",
       "    .dataframe thead th {\n",
       "        text-align: right;\n",
       "    }\n",
       "</style>\n",
       "<table border=\"1\" class=\"dataframe\">\n",
       "  <thead>\n",
       "    <tr style=\"text-align: right;\">\n",
       "      <th></th>\n",
       "      <th>FORM</th>\n",
       "      <th>LEMMA</th>\n",
       "      <th>UPOS</th>\n",
       "      <th>XPOS</th>\n",
       "      <th>FEATS</th>\n",
       "      <th>HEAD</th>\n",
       "      <th>DEPREL</th>\n",
       "      <th>DEPS</th>\n",
       "      <th>MISC</th>\n",
       "    </tr>\n",
       "  </thead>\n",
       "  <tbody>\n",
       "    <tr>\n",
       "      <th>count</th>\n",
       "      <td>164108</td>\n",
       "      <td>164108</td>\n",
       "      <td>164108</td>\n",
       "      <td>164108</td>\n",
       "      <td>164108</td>\n",
       "      <td>164108</td>\n",
       "      <td>164108</td>\n",
       "      <td>164108</td>\n",
       "      <td>164108</td>\n",
       "    </tr>\n",
       "    <tr>\n",
       "      <th>unique</th>\n",
       "      <td>17226</td>\n",
       "      <td>12957</td>\n",
       "      <td>17</td>\n",
       "      <td>47</td>\n",
       "      <td>181</td>\n",
       "      <td>106</td>\n",
       "      <td>51</td>\n",
       "      <td>10849</td>\n",
       "      <td>68967</td>\n",
       "    </tr>\n",
       "    <tr>\n",
       "      <th>top</th>\n",
       "      <td>,</td>\n",
       "      <td>,</td>\n",
       "      <td>NOUN</td>\n",
       "      <td>NN</td>\n",
       "      <td>_</td>\n",
       "      <td>4</td>\n",
       "      <td>punct</td>\n",
       "      <td>0:root</td>\n",
       "      <td>_</td>\n",
       "    </tr>\n",
       "    <tr>\n",
       "      <th>freq</th>\n",
       "      <td>8647</td>\n",
       "      <td>8647</td>\n",
       "      <td>27288</td>\n",
       "      <td>20260</td>\n",
       "      <td>53205</td>\n",
       "      <td>10049</td>\n",
       "      <td>22748</td>\n",
       "      <td>9409</td>\n",
       "      <td>62470</td>\n",
       "    </tr>\n",
       "  </tbody>\n",
       "</table>\n",
       "</div>"
      ],
      "text/plain": [
       "          FORM   LEMMA    UPOS    XPOS   FEATS    HEAD  DEPREL    DEPS    MISC\n",
       "count   164108  164108  164108  164108  164108  164108  164108  164108  164108\n",
       "unique   17226   12957      17      47     181     106      51   10849   68967\n",
       "top          ,       ,    NOUN      NN       _       4   punct  0:root       _\n",
       "freq      8647    8647   27288   20260   53205   10049   22748    9409   62470"
      ]
     },
     "execution_count": 77,
     "metadata": {},
     "output_type": "execute_result"
    }
   ],
   "source": [
    "data_df.describe()"
   ]
  },
  {
   "cell_type": "code",
   "execution_count": 78,
   "metadata": {},
   "outputs": [],
   "source": [
    "vocab_size = 1000\n",
    "upos_tags = [\n",
    "        \"ADJ\",\n",
    "        \"ADP\",\n",
    "        \"ADV\",\n",
    "        \"AUX\",\n",
    "        \"CCONJ\",\n",
    "        \"DET\",\n",
    "        \"INTJ\",\n",
    "        \"NOUN\",\n",
    "        \"NUM\",\n",
    "        \"PART\",\n",
    "        \"PRON\",\n",
    "        \"PROPN\",\n",
    "        \"PUNCT\",\n",
    "        \"SCONJ\",\n",
    "        \"SYM\",\n",
    "        \"VERB\",\n",
    "        \"X\",\n",
    "    ]\n",
    "special_tokens = [\"[UNK]\", \"[PAD]\", \"[CLS]\", \"[SEP]\", \"[MASK]\"]"
   ]
  },
  {
   "cell_type": "code",
   "execution_count": 79,
   "metadata": {},
   "outputs": [
    {
     "data": {
      "text/plain": [
       "[('a', 'l'),\n",
       " ('e', 'r'),\n",
       " ('▁', 's'),\n",
       " ('r', 'e'),\n",
       " ('t', 'i'),\n",
       " ('a', 'n'),\n",
       " ('l', 'e'),\n",
       " ('s', 't'),\n",
       " ('▁', 'm'),\n",
       " ('o', 'n'),\n",
       " ('a', 'r'),\n",
       " ('e', 'n'),\n",
       " ('i', 'c'),\n",
       " ('▁', 'f'),\n",
       " ('i', 'n'),\n",
       " ('▁', 'c'),\n",
       " ('▁', 'p'),\n",
       " ('▁', 'l'),\n",
       " ('o', 'r'),\n",
       " ('▁', 'o'),\n",
       " ('▁', 'n'),\n",
       " ('t', 'h'),\n",
       " ('▁', 'g'),\n",
       " ('▁', 'd'),\n",
       " ('▁', 'a'),\n",
       " ('▁', 'b'),\n",
       " ('▁', 'e'),\n",
       " ('u', 'l'),\n",
       " ('a', 't'),\n",
       " ('i', 'g'),\n",
       " ('o', 'u'),\n",
       " ('e', 'd'),\n",
       " ('en', 't'),\n",
       " ('v', 'e'),\n",
       " ('▁', 'h'),\n",
       " ('i', 't'),\n",
       " ('▁', 're'),\n",
       " ('b', 'le'),\n",
       " ('ti', 'c'),\n",
       " ('i', 'r'),\n",
       " ('▁n', 'e'),\n",
       " ('th', 'er'),\n",
       " ('s', 'i'),\n",
       " ('▁', 'in'),\n",
       " ('u', 'n'),\n",
       " ('a', 'ti'),\n",
       " ('on', 'al'),\n",
       " ('▁', 'w'),\n",
       " ('▁o', 'ther'),\n",
       " ('r', 'o'),\n",
       " ('m', 'p'),\n",
       " ('▁s', 'u'),\n",
       " ('o', 'l'),\n",
       " ('i', 'f'),\n",
       " ('c', 'h'),\n",
       " ('ou', 's'),\n",
       " ('ig', 'h'),\n",
       " ('i', 's'),\n",
       " ('▁m', 'o'),\n",
       " ('an', 't'),\n",
       " ('e', 'st'),\n",
       " ('▁ne', 'w'),\n",
       " ('r', 'a'),\n",
       " ('e', 'c'),\n",
       " ('▁f', 'ir'),\n",
       " ('▁fir', 'st'),\n",
       " ('u', 'r'),\n",
       " ('a', 'st'),\n",
       " ('t', 'er'),\n",
       " ('o', 'o'),\n",
       " ('▁', 'un'),\n",
       " ('in', 'g'),\n",
       " ('i', 'l'),\n",
       " ('▁m', 'an'),\n",
       " ('oo', 'd'),\n",
       " ('a', 'm'),\n",
       " ('a', 'ble'),\n",
       " ('▁man', 'y'),\n",
       " ('▁c', 'o'),\n",
       " ('▁g', 're'),\n",
       " ('▁g', 'ood'),\n",
       " ('i', 'al'),\n",
       " ('f', 'ul'),\n",
       " ('a', 'd'),\n",
       " ('v', 'er'),\n",
       " ('on', 'g'),\n",
       " ('ic', 'al'),\n",
       " ('q', 'u'),\n",
       " ('▁', 't'),\n",
       " ('o', 'c'),\n",
       " ('r', 'i'),\n",
       " ('ti', 've'),\n",
       " ('ar', 'y'),\n",
       " ('▁p', 'o'),\n",
       " ('s', 's'),\n",
       " ('▁gre', 'at'),\n",
       " ('t', 'le'),\n",
       " ('l', 'y'),\n",
       " ('if', 'f'),\n",
       " ('▁d', 'iff'),\n",
       " ('▁s', 't'),\n",
       " ('▁m', 'a'),\n",
       " ('▁l', 'it'),\n",
       " ('s', 'si'),\n",
       " ('▁e', 'x'),\n",
       " ('ati', 'onal'),\n",
       " ('igh', 't'),\n",
       " ('e', 't'),\n",
       " ('▁', 'r'),\n",
       " ('▁lit', 'tle'),\n",
       " ('▁', 'i'),\n",
       " ('ar', 'g'),\n",
       " ('or', 't'),\n",
       " ('e', 'm'),\n",
       " ('at', 'e'),\n",
       " ('a', 'c'),\n",
       " ('▁l', 'arg'),\n",
       " ('▁', 'le'),\n",
       " ('i', 'ous'),\n",
       " ('m', 'al'),\n",
       " ('w', 'n'),\n",
       " ('ur', 'al'),\n",
       " ('ati', 've'),\n",
       " ('▁mo', 're'),\n",
       " ('m', 'er'),\n",
       " ('er', 'ent'),\n",
       " ('i', 'd'),\n",
       " ('▁s', 'p'),\n",
       " ('▁diff', 'erent'),\n",
       " ('▁s', 'e'),\n",
       " ('l', 'd'),\n",
       " ('en', 'ti'),\n",
       " ('u', 'ti'),\n",
       " ('u', 'al'),\n",
       " ('ic', 'an'),\n",
       " ('▁su', 'ch'),\n",
       " ('am', 'e'),\n",
       " ('l', 'o'),\n",
       " ('▁o', 'ld'),\n",
       " ('ul', 't'),\n",
       " ('▁s', 'ame'),\n",
       " ('▁i', 'mp'),\n",
       " ('▁', 'v'),\n",
       " ('ul', 'ar'),\n",
       " ('▁in', 'ter'),\n",
       " ('e', 'l'),\n",
       " ('n', 'g'),\n",
       " ('e', 'a'),\n",
       " ('▁o', 'wn'),\n",
       " ('tic', 'al'),\n",
       " ('▁h', 'igh'),\n",
       " ('▁s', 'mal'),\n",
       " ('▁c', 'on'),\n",
       " ('▁l', 'ast'),\n",
       " ('s', 'e'),\n",
       " ('o', 'm'),\n",
       " ('▁f', 're'),\n",
       " ('u', 'e'),\n",
       " ('▁p', 'ro'),\n",
       " ('▁l', 'ong'),\n",
       " ('▁smal', 'l'),\n",
       " ('e', 'w'),\n",
       " ('▁m', 'u'),\n",
       " ('▁w', 'h'),\n",
       " ('a', 're'),\n",
       " ('u', 'b'),\n",
       " ('if', 'ic'),\n",
       " ('▁mo', 'st'),\n",
       " ('ort', 'ant'),\n",
       " ('i', 'm'),\n",
       " ('c', 't'),\n",
       " ('i', 'an'),\n",
       " ('or', 'al'),\n",
       " ('▁imp', 'ortant'),\n",
       " ('▁d', 'e'),\n",
       " ('is', 'h'),\n",
       " ('▁r', 'ight'),\n",
       " ('a', 's'),\n",
       " ('m', 'an'),\n",
       " ('▁', 'ar'),\n",
       " ('it', 'e'),\n",
       " ('▁sp', 'ec'),\n",
       " ('i', 'st'),\n",
       " ('u', 't'),\n",
       " ('ar', 'd'),\n",
       " ('▁f', 'ew'),\n",
       " ('▁p', 're'),\n",
       " ('p', 'er'),\n",
       " ('on', 'd'),\n",
       " ('▁c', 'h'),\n",
       " ('k', 'e'),\n",
       " ('l', 'ic'),\n",
       " ('▁a', 'mer'),\n",
       " ('ent', 'al'),\n",
       " ('▁larg', 'e'),\n",
       " ('▁mu', 'ch'),\n",
       " ('▁amer', 'ican'),\n",
       " ('o', 'g'),\n",
       " ('o', 't'),\n",
       " ('ver', 'al'),\n",
       " ('ssi', 'ble'),\n",
       " ('f', 'ic'),\n",
       " ('p', 'en'),\n",
       " ('▁re', 'l'),\n",
       " ('▁co', 'mp'),\n",
       " ('n', 't'),\n",
       " ('▁s', 'ec'),\n",
       " ('▁st', 'r'),\n",
       " ('▁m', 'oral'),\n",
       " ('▁a', 'c'),\n",
       " ('▁n', 'ational'),\n",
       " ('▁b', 'ig'),\n",
       " ('▁b', 'est'),\n",
       " ('▁h', 'u'),\n",
       " ('ult', 'ural'),\n",
       " ('▁', 'y'),\n",
       " ('▁', 'th'),\n",
       " ('in', 'e'),\n",
       " ('▁re', 'al'),\n",
       " ('i', 'v'),\n",
       " ('▁', 'an'),\n",
       " ('er', 'n'),\n",
       " ('▁f', 'ul'),\n",
       " ('▁f', 'un'),\n",
       " ('▁p', 'ub'),\n",
       " ('at', 'ed'),\n",
       " ('▁su', 're'),\n",
       " ('▁se', 'veral'),\n",
       " ('▁pub', 'lic'),\n",
       " ('▁', 'en'),\n",
       " ('▁p', 'er'),\n",
       " ('▁l', 'oc'),\n",
       " ('▁in', 'd'),\n",
       " ('c', 'e'),\n",
       " ('p', 'p'),\n",
       " ('▁p', 'ar'),\n",
       " ('▁co', 'm'),\n",
       " ('▁fre', 'e'),\n",
       " ('▁sec', 'ond'),\n",
       " ('▁ful', 'l'),\n",
       " ('▁', 'or'),\n",
       " ('▁b', 'ea'),\n",
       " ('uti', 'ful'),\n",
       " ('▁bea', 'utiful'),\n",
       " ('▁s', 'c'),\n",
       " ('▁c', 'ultural'),\n",
       " ('▁ma', 'in'),\n",
       " ('p', 'h'),\n",
       " ('u', 'c'),\n",
       " ('ti', 'onal'),\n",
       " ('in', 'al'),\n",
       " ('▁po', 'ssible'),\n",
       " ('▁loc', 'al'),\n",
       " ('si', 've'),\n",
       " ('a', 'in'),\n",
       " ('▁', 'on'),\n",
       " ('er', 'al'),\n",
       " ('▁p', 'ol'),\n",
       " ('▁b', 'l'),\n",
       " ('ig', 'n'),\n",
       " ('enti', 'al'),\n",
       " ('▁g', 'en'),\n",
       " ('▁s', 'qu'),\n",
       " ('▁c', 'ol'),\n",
       " ('▁h', 'ard'),\n",
       " ('▁le', 'ast'),\n",
       " ('▁squ', 'are'),\n",
       " ('g', 'e'),\n",
       " ('o', 'le'),\n",
       " ('ti', 'ng'),\n",
       " ('▁b', 'et'),\n",
       " ('▁bet', 'ter'),\n",
       " ('x', 't'),\n",
       " ('▁s', 'oc'),\n",
       " ('▁a', 'ble'),\n",
       " ('▁t', 'r'),\n",
       " ('▁str', 'ong'),\n",
       " ('a', 'il'),\n",
       " ('g', 'h'),\n",
       " ('u', 're'),\n",
       " ('▁s', 'h'),\n",
       " ('▁ne', 'xt'),\n",
       " ('ac', 'k'),\n",
       " ('s', 'h'),\n",
       " ('it', 'al'),\n",
       " ('is', 'tic'),\n",
       " ('d', 'd'),\n",
       " ('▁l', 'i'),\n",
       " ('▁o', 'pen'),\n",
       " ('▁re', 'g'),\n",
       " ('▁inter', 'n'),\n",
       " ('▁hu', 'man'),\n",
       " ('▁soc', 'ial'),\n",
       " ('a', 'v'),\n",
       " ('a', 'tic'),\n",
       " ('i', 'tical'),\n",
       " ('t', 'e'),\n",
       " ('ar', 'ly'),\n",
       " ('ou', 'ng'),\n",
       " ('▁w', 'or'),\n",
       " ('▁ma', 'j'),\n",
       " ('▁y', 'oung'),\n",
       " ('▁com', 'm'),\n",
       " ('i', 'ent'),\n",
       " ('o', 're'),\n",
       " ('r', 'al'),\n",
       " ('▁l', 'o'),\n",
       " ('lo', 'w'),\n",
       " ('▁wh', 'ite'),\n",
       " ('▁pol', 'itical'),\n",
       " ('▁maj', 'or'),\n",
       " ('▁', 'ro'),\n",
       " ('▁h', 'e'),\n",
       " ('▁re', 'd'),\n",
       " ('ro', 'p'),\n",
       " ('▁wh', 'ole'),\n",
       " ('▁on', 'ly'),\n",
       " ('▁intern', 'ational'),\n",
       " ('c', 'on'),\n",
       " ('g', 'n'),\n",
       " ('▁', 'u'),\n",
       " ('re', 'ct'),\n",
       " ('▁p', 'ri'),\n",
       " ('▁un', 'i'),\n",
       " ('e', 's'),\n",
       " ('on', 'e'),\n",
       " ('▁comm', 'on'),\n",
       " ('on', 'ary'),\n",
       " ('▁f', 'l'),\n",
       " ('▁a', 'f'),\n",
       " ('▁b', 'ad'),\n",
       " ('▁e', 'v'),\n",
       " ('▁re', 'c'),\n",
       " ('ir', 'd'),\n",
       " ('ssi', 've'),\n",
       " ('▁par', 'tic'),\n",
       " ('r', 'y'),\n",
       " ('re', 'd'),\n",
       " ('an', 'd'),\n",
       " ('le', 'ss'),\n",
       " ('▁e', 'arly'),\n",
       " ('ra', 'ph'),\n",
       " ('ec', 't'),\n",
       " ('em', 'oc'),\n",
       " ('og', 'ical'),\n",
       " ('▁gen', 'eral'),\n",
       " ('▁sh', 'ort'),\n",
       " ('▁partic', 'ular'),\n",
       " ('▁s', 'y'),\n",
       " ('▁s', 'ign'),\n",
       " ('▁f', 'or'),\n",
       " ('▁d', 'ue'),\n",
       " ('uti', 'onary'),\n",
       " ('▁spec', 'ific'),\n",
       " ('▁lo', 'w'),\n",
       " ('b', 'al'),\n",
       " ('n', 'y'),\n",
       " ('t', 'y'),\n",
       " ('▁', 'al'),\n",
       " ('▁s', 'ing'),\n",
       " ('ic', 'e'),\n",
       " ('ic', 'ult'),\n",
       " ('▁f', 'ut'),\n",
       " ('▁n', 'on'),\n",
       " ('▁d', 'emoc'),\n",
       " ('ig', 'ital'),\n",
       " ('ol', 'utionary'),\n",
       " ('ra', 'tic'),\n",
       " ('▁diff', 'icult'),\n",
       " ('▁ex', 't'),\n",
       " ('▁le', 'g'),\n",
       " ('▁se', 'x'),\n",
       " ('ific', 'ant'),\n",
       " ('▁tr', 'ue'),\n",
       " ('▁sign', 'ificant'),\n",
       " ('a', 'y'),\n",
       " ('p', 're'),\n",
       " ('ic', 'k'),\n",
       " ('▁c', 'le'),\n",
       " ('ol', 'ogical'),\n",
       " ('qu', 'al'),\n",
       " ('▁spec', 'ial'),\n",
       " ('▁comp', 'le'),\n",
       " ('ce', 'ss'),\n",
       " ('▁bl', 'ack'),\n",
       " ('▁sing', 'le'),\n",
       " ('▁fut', 'ure'),\n",
       " ('▁sex', 'ual'),\n",
       " ('u', 'st'),\n",
       " ('▁', 'ti'),\n",
       " ('▁m', 'e'),\n",
       " ('▁c', 'or'),\n",
       " ('▁n', 'ice'),\n",
       " ('▁d', 'igital'),\n",
       " ('at', 'ural'),\n",
       " ('ig', 'inal'),\n",
       " ('▁su', 'b'),\n",
       " ('▁or', 'iginal'),\n",
       " ('d', 'le'),\n",
       " ('▁', 'j'),\n",
       " ('▁s', 'i'),\n",
       " ('▁n', 'atural'),\n",
       " ('▁a', 'v'),\n",
       " ('▁e', 'con'),\n",
       " ('il', 'ar'),\n",
       " ('▁po', 'p'),\n",
       " ('om', 'ic'),\n",
       " ('og', 'raph'),\n",
       " ('ail', 'able'),\n",
       " ('▁li', 'ke'),\n",
       " ('▁democ', 'ratic'),\n",
       " ('f', 'e'),\n",
       " ('i', 'tive'),\n",
       " ('u', 'm'),\n",
       " ('▁', 'ra'),\n",
       " ('▁m', 'il'),\n",
       " ('▁m', 'id'),\n",
       " ('▁c', 'ur'),\n",
       " ('▁c', 'iv'),\n",
       " ('ou', 'n'),\n",
       " ('▁mo', 'd'),\n",
       " ('ec', 'tive'),\n",
       " ('ad', 'y'),\n",
       " ('▁larg', 'er'),\n",
       " ('▁av', 'ailable'),\n",
       " ('▁econ', 'omic'),\n",
       " ('f', 'fic'),\n",
       " ('i', 'enti'),\n",
       " ('t', 'ain'),\n",
       " ('u', 's'),\n",
       " ('▁s', 'a'),\n",
       " ('ar', 'k'),\n",
       " ('▁p', 'h'),\n",
       " ('▁n', 'or'),\n",
       " ('th', 'y'),\n",
       " ('▁g', 'lo'),\n",
       " ('▁a', 'w'),\n",
       " ('ou', 'gh'),\n",
       " ('▁great', 'er'),\n",
       " ('▁larg', 'est'),\n",
       " ('▁rel', 'ated'),\n",
       " ('▁non', '-'),\n",
       " ('▁cor', 'rect'),\n",
       " ('▁mid', 'dle'),\n",
       " ('ienti', 'fic'),\n",
       " ('▁glo', 'bal'),\n",
       " ('i', 'ti'),\n",
       " ('l', 'i'),\n",
       " ('▁', '1'),\n",
       " ('▁c', 'ent'),\n",
       " ('or', 'y'),\n",
       " ('▁b', 'ri'),\n",
       " ('▁in', 'c'),\n",
       " ('▁w', 'e'),\n",
       " ('em', 'ic'),\n",
       " ('▁de', 'ad'),\n",
       " ('▁sc', 'ientific'),\n",
       " ('▁ev', 'olutionary'),\n",
       " ('▁rec', 'ent'),\n",
       " ('▁pop', 'ular'),\n",
       " ('▁cent', 'ral'),\n",
       " ('a', 'z'),\n",
       " ('n', 'e'),\n",
       " ('s', 'onal'),\n",
       " ('er', 'tain'),\n",
       " ('re', 'nt'),\n",
       " ('▁d', 'is'),\n",
       " ('▁re', 'ady'),\n",
       " ('a', 'pp'),\n",
       " ('e', 'f'),\n",
       " ('▁', 've'),\n",
       " ('▁s', 'im'),\n",
       " ('▁f', 'am'),\n",
       " ('▁e', 'ast'),\n",
       " ('▁e', 'as'),\n",
       " ('▁h', 'ot'),\n",
       " ('it', 'ary'),\n",
       " ('si', 'ble'),\n",
       " ('mp', 'le'),\n",
       " ('▁co', 'gn'),\n",
       " ('ver', 's'),\n",
       " ('qu', 'e'),\n",
       " ('▁th', 'ird'),\n",
       " ('▁per', 'sonal'),\n",
       " ('▁mod', 'ern'),\n",
       " ('▁sim', 'ilar'),\n",
       " ('▁eas', 'y'),\n",
       " ('▁cogn', 'itive'),\n",
       " ('c', 'ial'),\n",
       " ('d', 'e'),\n",
       " ('d', 'uc'),\n",
       " ('e', 'tic'),\n",
       " ('f', 'f'),\n",
       " ('g', 'er'),\n",
       " ('l', 'a'),\n",
       " ('l', 'ing'),\n",
       " ('l', 'ish'),\n",
       " ('n', 'o'),\n",
       " ('o', 'p'),\n",
       " ('▁', 'qu'),\n",
       " ('▁s', 'o'),\n",
       " ('▁p', 'ast'),\n",
       " ('▁a', 'm'),\n",
       " ('ig', 'ious'),\n",
       " ('ou', 'd'),\n",
       " ('▁h', 'ist'),\n",
       " ('ro', 'ss'),\n",
       " ('▁ex', 'p'),\n",
       " ('▁ex', 'per'),\n",
       " ('el', 'low'),\n",
       " ('im', 'ental'),\n",
       " ('▁ar', 'ti'),\n",
       " ('▁reg', 'ular'),\n",
       " ('▁cur', 'rent'),\n",
       " ('▁hist', 'or'),\n",
       " ('▁exper', 'imental'),\n",
       " ('e', 'an'),\n",
       " ('g', 'an'),\n",
       " ('g', 'ant'),\n",
       " ('i', 'le'),\n",
       " ('i', 'onal'),\n",
       " ('s', 'ti'),\n",
       " ('s', 'ent'),\n",
       " ('v', 'ious'),\n",
       " ('al', 'thy'),\n",
       " ('▁f', 'a'),\n",
       " ('▁c', 're'),\n",
       " ('▁c', 'ertain'),\n",
       " ('▁l', 'ate'),\n",
       " ('▁a', 'dd'),\n",
       " ('▁b', 'ro'),\n",
       " ('ther', 'n'),\n",
       " ('▁rel', 'igious'),\n",
       " ('▁col', 'd'),\n",
       " ('▁reg', 'ional'),\n",
       " ('av', 'or'),\n",
       " ('▁for', 'mer'),\n",
       " ('▁cle', 'ar'),\n",
       " ('▁mil', 'itary'),\n",
       " ('app', 'y'),\n",
       " ('e', 'k'),\n",
       " ('e', 'p'),\n",
       " ('i', 'tional'),\n",
       " ('l', 'u'),\n",
       " ('r', 'on'),\n",
       " ('▁s', 'or'),\n",
       " ('▁m', 'ed'),\n",
       " ('en', 'd'),\n",
       " ('en', 'sive'),\n",
       " ('▁f', 'ine'),\n",
       " ('▁c', 'a'),\n",
       " ('▁o', 'b'),\n",
       " ('▁g', 'e'),\n",
       " ('▁g', 'l'),\n",
       " ('▁a', 'b'),\n",
       " ('▁e', 'qual'),\n",
       " ('it', 'ed'),\n",
       " ('si', 'd'),\n",
       " ('▁in', 'f'),\n",
       " ('ver', 'y'),\n",
       " ('▁ex', 'c'),\n",
       " ('▁uni', 'que'),\n",
       " ('oun', 'd'),\n",
       " ('ffic', 'ient'),\n",
       " ('0', 'th'),\n",
       " ('b', 'an'),\n",
       " ('r', 'u'),\n",
       " ('s', 'p'),\n",
       " ('t', 'ed'),\n",
       " ('u', 'rop'),\n",
       " ('▁', 'enti'),\n",
       " ('▁', 'ke'),\n",
       " ('er', 'ful'),\n",
       " ('an', 'ish'),\n",
       " ('▁f', 'ur'),\n",
       " ('▁f', 'avor'),\n",
       " ('▁l', 'at'),\n",
       " ('or', 'm'),\n",
       " ('or', 'ary'),\n",
       " ('▁o', 'k'),\n",
       " ('▁d', 'i'),\n",
       " ('▁a', 'pp'),\n",
       " ('▁b', 'as'),\n",
       " ('▁e', 'le'),\n",
       " ('▁e', 'urop'),\n",
       " ('▁h', 'appy'),\n",
       " ('si', 'tive'),\n",
       " ('ro', 'gant'),\n",
       " ('ra', 'c'),\n",
       " ('▁po', 'st'),\n",
       " ('▁st', 'ra'),\n",
       " ('▁old', 'er'),\n",
       " ('▁v', 'al'),\n",
       " ('▁v', 'ar'),\n",
       " ('▁ar', 'rogant'),\n",
       " ('▁ro', 'man'),\n",
       " ('▁pri', 'm'),\n",
       " ('▁cre', 'ative'),\n",
       " ('▁sor', 'ry'),\n",
       " ('▁enti', 're'),\n",
       " ('▁fur', 'ther'),\n",
       " ('▁bas', 'ic'),\n",
       " ('▁europ', 'ean'),\n",
       " ('i', 'able'),\n",
       " ('n', 'ch'),\n",
       " ('r', 'ic'),\n",
       " ('r', 'is'),\n",
       " ('x', 'ican'),\n",
       " ('▁', 'k'),\n",
       " ('er', 'ious'),\n",
       " ('▁s', 'ou'),\n",
       " ('re', 'm'),\n",
       " ('ti', 'sh'),\n",
       " ('▁m', 'et'),\n",
       " ('mp', 'orary'),\n",
       " ('▁co', 'ol'),\n",
       " ('▁inter', 'es'),\n",
       " ('▁fre', 'nch'),\n",
       " ('▁small', 'er'),\n",
       " ('▁an', 'c'),\n",
       " ('▁bl', 'ue'),\n",
       " ('▁pri', 'v'),\n",
       " ('▁me', 'xican'),\n",
       " ('▁si', 'mple'),\n",
       " ('ograph', 'ic'),\n",
       " ('▁east', 'ern'),\n",
       " ('▁am', 'az'),\n",
       " ('▁ke', 'y'),\n",
       " ('▁var', 'ious'),\n",
       " ('▁interes', 'ting'),\n",
       " ('b', 'or'),\n",
       " ('e', 'ful'),\n",
       " ('f', 't'),\n",
       " ('s', 'per'),\n",
       " ('t', 'uti'),\n",
       " ('u', 'istic'),\n",
       " ('▁', '2'),\n",
       " ('▁', 'ir'),\n",
       " ('an', 'ge'),\n",
       " ('st', 'ant'),\n",
       " ('▁m', 'in'),\n",
       " ('▁p', 'r'),\n",
       " ('▁g', 'r'),\n",
       " ('▁d', 'ark'),\n",
       " ('▁b', 'i'),\n",
       " ('ul', 'ti'),\n",
       " ('ou', 'r'),\n",
       " ('▁su', 'c'),\n",
       " ('is', 'l'),\n",
       " ('ad', 'emic'),\n",
       " ('ac', 't'),\n",
       " ('▁sp', 'anish'),\n",
       " ('▁ac', 'ademic'),\n",
       " ('▁hu', 'ge'),\n",
       " ('▁en', 'g'),\n",
       " ('▁fl', 'at'),\n",
       " ('▁low', 'er'),\n",
       " ('sti', 'tuti'),\n",
       " ('▁favor', 'ite'),\n",
       " ('▁ok', 'ay'),\n",
       " ('▁stra', 'ight'),\n",
       " ('▁anc', 'ient'),\n",
       " ('▁priv', 'ate'),\n",
       " ('▁amaz', 'ing'),\n",
       " ('stituti', 'onal'),\n",
       " ('f', 'ect'),\n",
       " ('i', 'red'),\n",
       " ('m', 'ent'),\n",
       " ('m', 'atic'),\n",
       " ('o', 's'),\n",
       " ('r', 'ical'),\n",
       " ('s', 'c'),\n",
       " ('v', 'ant'),\n",
       " ('▁s', 'erious'),\n",
       " ('le', 'vant'),\n",
       " ('▁c', 'lo'),\n",
       " ('▁l', 'ing'),\n",
       " ('▁l', 'ight'),\n",
       " ('▁d', 'ail'),\n",
       " ('▁a', 'g'),\n",
       " ('▁e', 'mp'),\n",
       " ('at', 'ory'),\n",
       " ('▁w', 'r'),\n",
       " ('▁w', 'il'),\n",
       " ('is', 'ual'),\n",
       " ('est', 'ed'),\n",
       " ('▁t', 'e'),\n",
       " ('ssi', 'onal'),\n",
       " ('▁r', 'u'),\n",
       " ('em', 'atic'),\n",
       " ('▁v', 'isual'),\n",
       " ('▁high', 'er'),\n",
       " ('ct', 'ual'),\n",
       " ('▁ch', 'ine'),\n",
       " ('▁ac', 'tive'),\n",
       " ('▁fun', 'ny'),\n",
       " ('▁per', 'fect'),\n",
       " ('▁u', 'p'),\n",
       " ('▁uni', 'vers'),\n",
       " ('cess', 'ful'),\n",
       " ('▁civ', 'il'),\n",
       " ('▁sa', 'fe'),\n",
       " ('▁ve', 'gan'),\n",
       " ('▁fam', 'ous'),\n",
       " ('no', 'wn'),\n",
       " ('▁exp', 'ired'),\n",
       " ('sid', 'ential'),\n",
       " ('▁pr', 'oud'),\n",
       " ('▁suc', 'cessful'),\n",
       " ('▁eng', 'lish'),\n",
       " ('▁dail', 'y'),\n",
       " ('▁chine', 'se'),\n",
       " ('▁univers', 'al'),\n",
       " ('a', 'k'),\n",
       " ('a', 'si'),\n",
       " ('c', 'ed'),\n",
       " ('h', 'etic'),\n",
       " ('p', 'le'),\n",
       " ('r', 'ight'),\n",
       " ('s', 'ical'),\n",
       " ('t', 'ential'),\n",
       " ('u', 'd'),\n",
       " ('y', 'al'),\n",
       " ('▁s', 'w'),\n",
       " ('re', 'ssive'),\n",
       " ('an', 'tic'),\n",
       " ('▁c', 'ross'),\n",
       " ('▁p', 'l'),\n",
       " ('▁n', 'o'),\n",
       " ('▁g', 'ra'),\n",
       " ('▁a', 'd'),\n",
       " ('▁a', 'est'),\n",
       " ('▁e', 'p'),\n",
       " ('ou', 'ble'),\n",
       " ('▁h', 'ea'),\n",
       " ('▁ne', 'cess'),\n",
       " ('▁in', 't'),\n",
       " ('▁w', 'est'),\n",
       " ('▁w', 'et'),\n",
       " ('is', 'e'),\n",
       " ('ur', 'ban'),\n",
       " ('▁gre', 'en'),\n",
       " ('▁gre', 'ek'),\n",
       " ('▁t', 'op'),\n",
       " ('▁po', 'or'),\n",
       " ('▁po', 'tential'),\n",
       " ('▁inter', 'ested'),\n",
       " ('▁con', 'te'),\n",
       " ('as', 'tic'),\n",
       " ('▁pre', 'vious'),\n",
       " ('▁en', 'ough'),\n",
       " ('▁par', 'al'),\n",
       " ('▁young', 'er'),\n",
       " ('▁ro', 'yal'),\n",
       " ('▁he', 'althy'),\n",
       " ('▁sy', 'st'),\n",
       " ('▁comple', 'te'),\n",
       " ('▁bri', 'tish'),\n",
       " ('▁fa', 'ir'),\n",
       " ('▁ele', 'ct'),\n",
       " ('▁ling', 'uistic'),\n",
       " ('▁wr', 'ong'),\n",
       " ('▁cross', '-'),\n",
       " ('▁aest', 'hetic'),\n",
       " ('▁hea', 'v'),\n",
       " ('▁necess', 'ary'),\n",
       " ('▁conte', 'mporary'),\n",
       " ('a', 'tical'),\n",
       " ('b', 'e'),\n",
       " ('d', 'am'),\n",
       " ('i', 'z'),\n",
       " ('i', 'et'),\n",
       " ('m', 'ate'),\n",
       " ('m', 'ental'),\n",
       " ('p', 'ar'),\n",
       " ('s', 'tic'),\n",
       " ('u', 'able'),\n",
       " ('▁', 'very'),\n",
       " ('▁', 'urban'),\n",
       " ('▁s', 'ol'),\n",
       " ('▁s', 'em'),\n",
       " ('▁s', 'low'),\n",
       " ('ti', 'n'),\n",
       " ('le', 'nt'),\n",
       " ('▁m', 'ulti'),\n",
       " ('ar', 'm'),\n",
       " ('▁l', 'im'),\n",
       " ('▁n', 'ar'),\n",
       " ('▁d', 'ouble'),\n",
       " ('▁a', 't'),\n",
       " ('▁b', 'u'),\n",
       " ('▁e', 'fficient'),\n",
       " ('it', 'able'),\n",
       " ('▁re', 'sidential'),\n",
       " ('▁ne', 'g'),\n",
       " ('si', 'an'),\n",
       " ('▁in', 'iti'),\n",
       " ('▁w', 'ond'),\n",
       " ('ra', 'g'),\n",
       " ('ter', 'n'),\n",
       " ('▁un', 'c'),\n",
       " ('il', 'i'),\n",
       " ('am', 'ic'),\n",
       " ('▁high', 'est'),\n",
       " ('▁ar', 'ch'),\n",
       " ('▁pre', 't'),\n",
       " ('▁pre', 'sent'),\n",
       " ('fic', 'ial'),\n",
       " ('pen', 'd'),\n",
       " ('▁y', 'ellow'),\n",
       " ('iv', 'id'),\n",
       " ('▁an', 'g'),\n",
       " ('▁fun', 'dam'),\n",
       " ('av', 'ian'),\n",
       " ('▁wor', 'se'),\n",
       " ('▁comple', 'x'),\n",
       " ('▁ti', 'ny'),\n",
       " ('▁ra', 're'),\n",
       " ('▁civ', 'ic'),\n",
       " ('▁non-', 'avian'),\n",
       " ('▁we', 'ird'),\n",
       " ('▁arti', 'stic'),\n",
       " ('▁histor', 'ic'),\n",
       " ('▁bro', 'ad'),\n",
       " ('▁gl', 'ad'),\n",
       " ('▁val', 'uable'),\n",
       " ('▁syst', 'ematic'),\n",
       " ('▁heav', 'y'),\n",
       " ('▁initi', 'al'),\n",
       " ('▁wond', 'erful'),\n",
       " ('▁fundam', 'ental'),\n",
       " ('7', 'th'),\n",
       " ('9', 'th'),\n",
       " ('a', 'g'),\n",
       " ('b', 'er'),\n",
       " ('c', 'tional'),\n",
       " ('d', 'u'),\n",
       " ('d', 'atory'),\n",
       " ('e', 'pend'),\n",
       " ('j', 'ective'),\n",
       " ('k', 'y'),\n",
       " ('r', 'ial'),\n",
       " ('y', 'mp'),\n",
       " ('y', 'sical'),\n",
       " ('▁', '3'),\n",
       " ('▁', 'il'),\n",
       " ('al', 'e'),\n",
       " ('er', 'v'),\n",
       " ('▁s', 'm'),\n",
       " ('▁s', 'en'),\n",
       " ('re', 'pre'),\n",
       " ('an', 'ger'),\n",
       " ('ic', 'h'),\n",
       " ('▁f', 'inal'),\n",
       " ('▁d', 'el'),\n",
       " ('▁a', 's'),\n",
       " ('▁a', 'ctual'),\n",
       " ('▁e', 'duc'),\n",
       " ('▁e', 'asi'),\n",
       " ('▁h', 'el'),\n",
       " ('▁re', 'm'),\n",
       " ('▁re', 'levant'),\n",
       " ('ir', 't'),\n",
       " ('▁w', 'id'),\n",
       " ('▁un', 'f'),\n",
       " ('ri', 'ate'),\n",
       " ('▁po', 'sitive'),\n",
       " ('▁great', 'est'),\n",
       " ('ssi', 'an'),\n",
       " ('▁r', 'ich'),\n",
       " ('ac', 'tic'),\n",
       " ('▁le', 'ss'),\n",
       " ('▁v', 'ast'),\n",
       " ('el', 'l'),\n",
       " ('om', 'e'),\n",
       " ('▁pro', '-'),\n",
       " ('▁pro', 'm'),\n",
       " ('▁pro', 'fe'),\n",
       " ('▁de', 'ep'),\n",
       " ('▁spec', 't'),\n",
       " ('▁rel', 'iable'),\n",
       " ('nt', 'actic'),\n",
       " ('▁ac', 'ce'),\n",
       " ('▁ind', 'ivid'),\n",
       " ('▁ind', 'epend'),\n",
       " ('▁tr', 'an'),\n",
       " ('gh', 'an'),\n",
       " ('rop', 'riate'),\n",
       " ('▁af', 'ghan'),\n",
       " ('▁sy', 'ntactic'),\n",
       " ('▁leg', 'isl'),\n",
       " ('ograph', 'ical'),\n",
       " ('▁bri', 'ef'),\n",
       " ('▁add', 'itional'),\n",
       " ('▁med', 'i'),\n",
       " ('▁sou', 'thern'),\n",
       " ('▁gr', 'and'),\n",
       " ('▁ru', 'ssian'),\n",
       " ('▁west', 'ern'),\n",
       " ('▁pret', 'ty'),\n",
       " ('▁educ', 'ational'),\n",
       " ('▁profe', 'ssional'),\n",
       " ('▁individ', 'ual'),\n",
       " ('▁independ', 'ent'),\n",
       " ('▁legisl', 'ative'),\n",
       " ('a', 'b'),\n",
       " ('d', 'en'),\n",
       " ('e', 'ac'),\n",
       " ('i', 'j'),\n",
       " ('k', 'nown'),\n",
       " ('l', 'im'),\n",
       " ('m', 'm'),\n",
       " ('o', 'd'),\n",
       " ('p', 'tive'),\n",
       " ('r', 'ican'),\n",
       " ('s', 'ec'),\n",
       " ('x', 'ical'),\n",
       " ('y', 'p'),\n",
       " ('▁', 'ent'),\n",
       " ('er', 'man'),\n",
       " ('▁s', 'ore'),\n",
       " ('▁s', 'ick'),\n",
       " ('ti', 'al'),\n",
       " ('an', 'e'),\n",
       " ('st', 'ell'),\n",
       " ('▁m', 'on'),\n",
       " ('▁m', 'ental'),\n",
       " ('▁f', 'em'),\n",
       " ('▁f', 'ore'),\n",
       " ('▁f', 'ron'),\n",
       " ('▁p', 'eac'),\n",
       " ('▁o', 'p'),\n",
       " ('th', 'em'),\n",
       " ('▁g', 'erman'),\n",
       " ('▁d', 'ist'),\n",
       " ('▁d', 'ry'),\n",
       " ('▁re', 'sp'),\n",
       " ('si', 'st'),\n",
       " ('ur', 'ial'),\n",
       " ('▁un', 'known'),\n",
       " ('ss', 'ential'),\n",
       " ('▁ma', 'them'),\n",
       " ('em', 'ical'),\n",
       " ('mer', 'cial'),\n",
       " ('▁inter', 'stell'),\n",
       " ('▁fre', 'sh'),\n",
       " ('▁pro', 'sper'),\n",
       " ('ish', 'ed'),\n",
       " ('▁ch', 'emical'),\n",
       " ('ot', 'al')]"
      ]
     },
     "execution_count": 79,
     "metadata": {},
     "output_type": "execute_result"
    }
   ],
   "source": [
    "merges_upos[\"ADJ\"]"
   ]
  },
  {
   "cell_type": "code",
   "execution_count": 80,
   "metadata": {},
   "outputs": [
    {
     "name": "stdout",
     "output_type": "stream",
     "text": [
      "Total merges: 1025\n",
      "{('u', 'ght'), ('at', 'ed'), ('▁', '\"'), ('▁l', 'i'), ('ic', 'e'), ('al', 's'), ('▁res', 'earch'), ('▁w', 'e'), ('o', 'r'), ('▁p', 'er'), ('i', 'st'), ('enc', 'es'), ('▁l', 'ine'), ('▁com', 'p'), ('s', 't'), ('▁p', 'ar'), ('▁of', 'f'), ('▁up', 'on'), ('v', 'er'), ('e', 't'), ('▁p', 'ers'), ('ens', 'e'), ('i', 'v'), ('i', 'ds'), ('▁s', 'a'), ('▁num', 'ber'), ('i', 'te'), ('s', 's'), ('e', 'n'), ('e', 's'), ('▁', 'out'), ('▁an', 'oth'), ('ic', 'k'), ('▁meth', 'od'), ('▁ho', 'me'), ('▁vide', 'o'), ('▁bo', 'x'), ('▁your', 'self'), ('▁gover', 'n'), ('▁sin', 'ce'), ('e', 'p'), ('▁mon', 'th'), ('▁re', 'v'), ('▁r', 'es'), ('▁tod', 'ay'), ('b', 'er'), ('eve', 'r'), ('▁m', 'on'), ('▁', 'f'), ('o', 'ver'), ('▁y', 'ear'), ('▁th', 'ings'), ('▁h', 'o'), (\"▁'\", 's'), ('▁’', 's'), ('▁sh', 'ow'), ('u', 't'), ('▁i', 't'), ('▁fin', 'd'), ('▁dis', 'c'), ('p', 't'), ('▁o', 'ver'), ('▁m', 'od'), ('▁', 'us'), ('▁st', 'ud'), ('a', 'k'), ('u', 'n'), ('er', 'v'), ('if', 'e'), ('u', 's'), ('gh', 't'), ('▁b', 're'), ('▁ha', 's'), ('a', 'll'), ('▁w', 'ould'), ('▁o', 'n'), ('r', 'ee'), ('f', 't'), ('h', 'ip'), ('u', 'p'), ('▁', 'or'), ('a', 'ir'), ('p', 'p'), ('▁wh', 'o'), ('▁s', 'tr'), ('▁a', 'l'), ('▁t', 'ra'), ('amp', 'le'), ('▁be', 'hin'), ('ang', 'u'), ('▁t', 'yp'), ('▁r', 'el'), ('or', 't'), ('▁the', 'se'), ('▁g', 'ot'), ('j', 'ect'), ('or', 's'), ('▁t', 'o'), ('▁ab', 'o'), ('w', 'ard'), ('▁n', 'either'), ('▁l', 'ot'), ('▁', ','), ('o', 'ok'), ('▁', '?'), ('i', 'd'), ('ov', 'er'), ('▁[..', '.]'), ('▁f', 'ro'), ('r', 'e'), ('▁be', 'for'), ('▁', 'd'), ('e', 'ar'), ('n', 'ess'), ('▁', 'e'), ('ag', 'e'), ('/', 'he'), ('▁s', 'he'), ('▁', 'g'), ('▁', 'it'), ('▁be', 'tw'), ('▁l', 'o'), ('▁th', 'o'), ('c', 'ess'), ('ic', 's'), ('u', 'ch'), ('▁c', 'ent'), ('▁t', 'r'), ('▁fro', 'm'), ('tr', 'y'), ('▁h', 'a'), ('e', 'st'), ('p', 'er'), ('▁stud', 'y'), ('y', 'p'), ('▁dat', 'a'), ('▁l', 'iv'), ('o', 'od'), ('▁any', 'body'), ('i', 'k'), ('▁t', 'h'), ('▁j', 'o'), ('f', 'er'), ('a', 'b'), ('i', 'll'), ('u', 'gh'), ('▁on', 'to'), ('▁', 'w'), ('a', 'r'), ('▁wor', 'ld'), ('s', 'in'), ('k', 'e'), ('olog', 'y'), ('▁in', 's'), ('▁their', 's'), ('▁tr', 'ans'), ('oth', 'er'), ('▁with', 'out'), ('▁s', 'ystem'), ('▁w', 'as'), ('▁d', 'i'), ('a', 'y'), ('n', 'o'), ('▁so', 'me'), ('▁met', 'h'), ('ti', 'm'), ('os', 'e'), ('▁', \"'s\"), ('t', 'ure'), ('▁who', 'se'), ('▁e', 'm'), ('el', 'l'), ('c', 'o'), ('ak', 'e'), ('▁ro', 'ot'), ('▁b', 'ir'), ('t', 'il'), ('at', 'ing'), ('p', 'ort'), ('a', 'c'), ('▁b', 'ec'), ('or', 'ts'), ('▁l', 'a'), ('▁a', 'n'), ('is', 'm'), ('▁res', 'p'), ('i', 'm'), ('ac', 'y'), ('ce', 'ss'), ('▁qu', 'es'), ('▁g', 'ame'), ('▁g', 'over'), ('▁', 'm'), ('▁o', 'f'), ('▁m', 'om'), ('▁w', 'ar'), ('ve', 'r'), ('al', 'ity'), ('▁f', 'or'), ('▁qu', 'ite'), ('o', 'nd'), ('▁', 'ex'), ('en', 'ti'), ('ac', 'e'), ('ult', 'ure'), ('h', 'e'), ('▁c', 'ol'), ('▁t', 'im'), ('▁', 'le'), ('▁', 'ou'), ('o', 'or'), ('as', 'on'), ('i', 'b'), ('▁every', 'thing'), ('c', 'h'), ('▁a', 'gain'), ('ear', 'ch'), ('▁', 't'), ('e', 'd'), ('▁tim', 'e'), ('i', 'r'), ('▁', 'both'), ('in', 'd'), ('▁', '…'), ('in', 'e'), ('▁durin', 'g'), ('▁b', 'o'), ('▁p', 'o'), ('▁', 'id'), ('▁', '/'), ('in', 'g'), ('▁u', 'nd'), ('a', 'me'), ('▁', 's'), ('l', 'd'), ('▁', 'ne'), ('▁prob', 'lem'), ('at', 'ion'), ('▁n', 'ot'), ('▁', ':'), ('l', 'e'), ('er', 'm'), ('▁', 'is'), ('ti', 'c'), ('it', 'y'), ('▁', '–'), ('▁mo', 'd'), ('is', 'h'), ('▁l', 'oc'), ('▁s', 'u'), ('▁toward', 's'), ('it', 'h'), ('▁', 'p'), ('▁f', 'e'), ('▁d', 'ec'), ('▁[', '..'), ('n', 'ed'), ('a', 'th'), ('ot', 'h'), ('e', 'en'), ('ac', 'k'), ('▁d', 'ay'), ('▁f', 'ac'), ('▁', 'others'), ('an', 'g'), ('▁f', 'iel'), ('c', 'a'), ('▁b', 'r'), ('▁some', 'body'), ('u', 'd'), ('▁t', 'od'), ('o', 'g'), ('▁y', 'a'), ('▁s', 'ide'), ('▁c', 'as'), ('am', 'e'), ('▁peop', 'le'), ('▁con', 'cep'), ('▁', '('), ('e', 'll'), ('i', 'c'), ('▁b', 'y'), ('b', 'o'), ('ec', 'tion'), ('e', 'ither'), ('k', 's'), ('i', 'ed'), ('it', 'ed'), ('i', 'a'), ('ug', 'h'), ('▁minut', 'es'), ('▁d', 'o'), ('▁pro', 'b'), ('ic', 'es'), ('pl', 'ication'), ('a', 'ted'), ('▁through', 'out'), ('▁re', 'c'), ('at', 'h'), ('▁m', 'an'), ('▁no', 'thing'), ('▁ca', 'll'), ('▁s', 'ur'), ('▁wor', 'ds'), ('▁com', 'm'), ('th', 'in'), ('ion', 's'), ('▁te', 'am'), ('▁ab', 'out'), ('▁', 'hal'), ('▁an', 'd'), ('▁d', 'r'), ('▁p', 'a'), ('▁c', 'ar'), ('▁w', 'ith'), ('▁h', 'ist'), ('▁wh', 'at'), ('form', 'ation'), ('er', 'ed'), ('▁', 'ar'), ('▁ques', 'tion'), ('o', 'ur'), ('sel', 'ves'), ('e', 'm'), ('▁e', 'v'), ('▁again', 'st'), ('c', 'ro'), ('v', 'ed'), ('i', 'th'), ('▁w', 'ater'), ('tit', 'u'), ('▁im', 'p'), ('▁', 'wh'), ('▁li', 'ke'), ('▁ex', 'ample'), ('t', 'ic'), ('▁s', 'erv'), ('▁', 'use'), ('▁', 'for'), ('▁the', 'm'), ('▁n', 'ame'), ('▁v', 'ide'), ('▁in', 'd'), ('▁a', 'cro'), ('▁', 'one'), ('▁', 'v'), ('em', 'ent'), ('m', 'ents'), ('r', 'in'), ('▁', 'un'), ('▁comm', 'un'), ('i', 're'), ('▁th', 'at'), ('▁it', 'self'), ('u', 'm'), ('▁', 'in'), ('a', 'nd'), ('▁', 're'), ('ys', 'tem'), ('▁a', 'pp'), ('▁t', 'ak'), ('▁g', 'en'), ('ec', 't'), ('▁a', 'ge'), ('a', 'ss'), ('an', 't'), ('▁s', 'p'), ('en', 't'), ('t', 'ers'), ('o', 'ol'), ('i', 've'), ('▁', 'either'), ('c', 'es'), ('o', 't'), ('an', 's'), ('▁b', 'ro'), ('tion', 's'), ('en', 's'), ('ur', 'e'), ('▁c', 'up'), ('▁b', 'ut'), ('▁wor', 'd'), ('ee', 'n'), ('▁cas', 'e'), ('u', 'b'), ('▁c', 'ulture'), ('o', 'n'), ('o', 's'), ('▁h', 'alf'), ('▁m', 'ar'), ('o', 'ne'), ('▁', 'ever'), ('▁w', 'ay'), ('▁th', 'ing'), ('p', 'r'), ('▁ch', 'ild'), ('or', 'm'), ('i', 'es'), ('o', 'p'), ('e', 'c'), ('▁th', 'ose'), ('▁a', 'd'), ('▁co', 'ur'), ('s', 'ed'), ('e', 'ed'), ('e', 'a'), ('▁throu', 'gh'), ('am', 'p'), ('▁me', 'an'), ('▁u', 'n'), ('▁o', 'p'), ('r', 'i'), ('▁a', 'g'), ('▁pu', 't'), ('▁', 'i'), ('▁sh', 'o'), ('a', 'l'), ('▁wor', 'k'), ('▁', 'qu'), ('▁l', 'ight'), ('▁u', 'p'), ('▁con', 't'), ('▁s', 'ch'), ('▁g', 'ra'), ('o', 'se'), ('▁be', 'cause'), ('▁n', \"'t\"), ('▁con', 's'), ('▁m', 'in'), ('▁', '['), ('▁fr', 'om'), ('▁what', 'ever'), ('u', 'c'), ('▁', '!'), ('or', 'y'), ('q', 'u'), ('▁in', 'ter'), ('▁inter', 'est'), ('▁who', 'm'), ('g', 'e'), ('n', 'ing'), ('i', 'el'), ('▁g', 'o'), ('▁go', 't'), ('▁u', 'se'), ('▁sch', 'ool'), ('ou', 'r'), ('an', 'ce'), ('▁h', 'and'), ('en', 'ce'), ('▁w', 'r'), ('ut', 'h'), ('▁h', 'our'), ('▁v', 'is'), ('se', 'l'), ('▁h', 'ad'), ('igh', 'ts'), ('t', 'or'), ('y', 's'), ('▁e', 'ither'), ('▁', 'en'), ('▁', 'op'), ('▁co', 'n'), ('▁abo', 've'), ('▁r', 'e'), ('t', 'i'), ('▁m', 'et'), ('ic', 'h'), ('▁w', 'h'), ('h', 'in'), ('▁g', 'r'), ('▁a', 'round'), ('w', 'or'), ('▁ex', 'per'), ('▁m', 'or'), ('▁', 'k'), ('il', 'd'), ('ic', 'ation'), (\"'\", 't'), ('▁wit', 'h'), ('▁them', 'selves'), ('▁d', 'es'), ('f', 'orm'), ('ec', 'ts'), ('▁', '—'), ('an', 'ts'), ('e', 're'), ('▁s', 'in'), ('en', 'ts'), ('▁sa', 'id'), (\"'\", 's'), ('u', 'th'), ('v', 'el'), ('▁with', 'in'), ('t', 'e'), ('i', 'l'), ('▁f', 'in'), ('at', 'or'), ('▁a', 'm'), ('e', 've'), ('▁sa', 'y'), ('▁pro', 'cess'), ('▁t', 'ech'), ('▁h', 'im'), ('▁the', 're'), ('▁ch', 'an'), ('▁st', 'r'), ('o', 'v'), ('ur', 'n'), ('▁de', 's'), ('o', 'un'), ('▁s', 'up'), ('▁m', 'e'), ('w', 'it'), ('▁re', 'l'), ('u', 're'), ('▁ro', 'om'), ('▁l', 'and'), ('▁st', 'ep'), ('▁s', 'et'), ('▁a', 't'), ('v', 'ing'), ('▁d', 'at'), ('▁tim', 'es'), ('rou', 'nd'), ('▁you', 'r'), ('▁in', 'c'), ('▁th', 'an'), ('▁s', 'ee'), ('▁b', 'l'), ('▁p', 'l'), ('▁par', 't'), ('▁ou', 'r'), ('▁c', 'o'), ('t', 'w'), ('r', 'o'), ('▁a', 's'), ('ation', 's'), ('ll', 'ow'), ('a', 'n'), ('▁', 'o'), ('▁b', 'u'), ('▁year', 's'), ('▁ha', 've'), ('at', 'e'), ('i', 'ence'), ('tin', 'g'), ('▁a', 'p'), ('▁', '@'), ('▁', '‘'), ('ig', 'h'), ('u', 'ff'), ('at', 'ure'), ('h', 'al'), ('ec', 'ted'), ('for', 'm'), ('id', 'e'), ('u', 'es'), ('le', 'v'), ('▁n', 'ight'), ('▁', 'b'), ('▁k', 'n'), ('et', 'y'), ('▁', 'r'), ('▁s', 'e'), ('▁be', 'yond'), ('▁', 'wit'), ('p', 'ite'), ('h', 'en'), ('b', 'l'), ('d', 's'), ('▁b', 'oth'), ('▁him', 'self'), ('▁u', 'sed'), ('▁a', 'c'), ('r', 'y'), ('e', 'ss'), ('▁', 'y'), ('ir', 'e'), ('▁s', 'ea'), ('an', 'd'), ('▁', 'h'), ('en', 'd'), ('▁v', 'iew'), ('ee', 'd'), ('▁co', 'un'), ('▁ad', 'd'), ('o', 'd'), ('▁her', 'self'), ('▁n', 'o'), ('▁ever', 'y'), ('▁', 'if'), ('al', 'l'), ('▁g', 'ro'), ('▁p', 'r'), ('▁the', 'ory'), ('▁t', 'erm'), ('or', 'ies'), ('▁every', 'body'), ('ia', 'n'), ('s', 'ing'), ('in', 'k'), ('▁', 'to'), ('▁ag', 'ain'), ('▁s', 'k'), ('▁some', 'one'), ('i', 'an'), ('▁', '’'), ('a', 'ce'), ('▁', 'c'), ('▁p', 'h'), ('▁c', 'a'), ('en', 'tion'), ('r', 'a'), ('r', 'ed'), ('▁some', 'thing'), ('b', 'oth'), ('▁', 'a'), ('d', 'ed'), ('t', 's'), ('e', 'l'), ('▁s', '/he'), ('oun', 't'), ('o', 'k'), ('▁l', 'ook'), ('o', 'w'), ('t', 'y'), ('▁the', 'ir'), ('el', 's'), ('d', 'er'), ('w', 's'), ('▁cl', 'ass'), ('a', 'st'), ('▁wan', 't'), ('ro', 'l'), ('▁g', 'ive'), ('▁su', 'ch'), ('▁b', 'ott'), ('k', 'ed'), ('ro', 'u'), ('u', 'l'), ('ti', 'on'), ('ol', 'og'), ('p', 'l'), ('▁a', 're'), ('bo', 'dy'), ('▁no', 'body'), ('▁exp', 'er'), ('a', 'tiv'), ('▁', 'th'), ('t', 'ed'), ('▁', '”'), ('▁h', 'e'), ('f', 'l'), ('igh', 't'), ('▁f', 'o'), ('▁am', 'ong'), ('u', 'rin'), ('▁s', 't'), ('▁m', 'ed'), ('e', 'r'), ('▁h', 'ea'), ('t', 'er'), ('o', 'o'), ('i', 'on'), ('o', 'm'), ('▁', 'sin'), ('i', 'ce'), ('▁c', 're'), ('▁ex', 'cept'), ('ac', 'h'), ('▁', 'on'), ('▁hist', 'ory'), ('▁e', 'ff'), ('▁al', 'l'), ('i', 'z'), ('y', 'ing'), ('▁ar', 'ea'), ('▁le', 'ad'), ('i', 'ted'), ('▁s', 'ub'), ('▁f', 'r'), ('▁your', 's'), ('▁', 'like'), ('a', 'ge'), ('▁on', 'e'), ('l', 'y'), ('▁di', 'ff'), ('▁p', 'ro'), ('ce', 'p'), ('▁ne', 'ar'), ('▁diff', 'er'), ('▁t', 'e'), ('▁st', 'at'), ('u', 'r'), ('▁the', 'y'), ('ec', 'h'), ('▁en', 'd'), ('▁min', 'ut'), ('▁day', 's'), ('r', 'es'), ('at', 'er'), ('▁s', 'c'), ('e', 'ver'), ('ag', 'es'), ('▁our', 'selves'), ('▁g', 'l'), ('a', 'd'), ('le', 'm'), ('▁exper', 'ience'), ('▁', '’s'), ('p', 'h'), ('▁l', 'e'), ('▁und', 'er'), ('▁w', 'om'), ('▁th', 'e'), ('▁m', 'ake'), ('a', 'g'), ('d', 'i'), ('l', 'ik'), ('▁g', 'u'), ('▁s', 'ome'), ('en', 'c'), ('i', 'f'), ('o', 'c'), ('ce', 'pt'), ('m', 'e'), ('▁co', 'm'), ('a', 'il'), ('a', 'tion'), ('▁ca', 'n'), ('▁', '.'), ('e', 'x'), ('▁l', 'angu'), ('▁a', 'll'), ('▁', 'at'), ('▁c', 'ity'), ('▁i', 'n'), ('▁', 'al'), ('▁f', 'orm'), ('▁an', 'y'), ('thin', 'g'), ('m', 'ent'), ('▁a', 'ir'), ('i', 'ti'), ('▁s', 'oc'), ('n', 'd'), ('ad', 'e'), ('▁e', 'ach'), ('n', 'e'), ('▁behin', 'd'), ('▁in', 'formation'), ('▁acro', 'ss'), ('▁wh', 'ich'), ('▁he', 'r'), ('▁ar', 't'), ('▁b', 'us'), ('c', 'e'), ('▁h', 'is'), ('o', 'me'), ('▁', 'em'), ('▁pl', 'ace'), ('▁im', 'age'), ('as', 't'), ('▁any', 'one'), ('ou', 'ld'), ('d', 'ing'), ('g', 'ain'), ('le', 'c'), ('▁d', 'urin'), ('.', '.'), ('as', 's'), ('▁th', 'rou'), ('o', 'th'), ('▁anoth', 'er'), ('▁.', '..'), ('▁.', '.'), ('il', 'ity'), ('▁any', 'thing'), ('▁bas', 'il'), ('i', 'e'), ('it', 'e'), ('sel', 'f'), ('▁w', 'ill'), ('▁c', 'l'), ('i', 'g'), ('▁f', 'am'), ('▁ap', 'p'), ('ou', 't'), ('▁gro', 'up'), ('▁w', 'an'), ('an', 'ds'), ('▁un', 'like'), ('▁', 'l'), ('en', 'ds'), ('▁h', 'as'), ('▁', 'tim'), ('ou', 'n'), ('a', 'm'), ('o', 'ut'), ('y', 'ond'), ('▁', 'u'), ('▁in', 'side'), ('ow', 'n'), ('ect', 's'), ('em', 'a'), ('▁in', 'to'), ('▁at', 't'), ('o', 're'), ('i', 'tion'), ('▁o', 'ut'), ('▁p', 'os'), ('▁fac', 't'), ('▁c', 'om'), ('om', 'e'), ('l', 'ly'), ('ur', 'y'), ('k', 'ing'), ('lik', 'e'), ('▁', ']'), ('al', 'f'), ('▁is', 'l'), ('▁b', 'e'), ('▁p', 'e'), ('▁a', 'b'), ('ca', 'use'), ('t', 'em'), ('in', 'es'), ('▁r', 'ec'), ('▁h', 'ome'), ('▁b', 'it'), ('a', 't'), ('▁a', 'r'), ('t', 'ing'), ('▁n', 'eed'), ('▁gu', 'ys'), ('l', 'es'), ('▁h', 'er'), ('oo', 'd'), ('▁p', 'u'), ('▁coun', 'try'), ('a', 's'), ('ing', 's'), ('il', 'l'), ('▁m', 'em'), ('▁', ';'), ('v', 'e'), ('tic', 's'), ('▁l', 'ife'), ('▁th', 'is'), ('re', 'd'), ('a', 'p'), ('▁al', 'ong'), ('▁n', 'e'), ('on', 'd'), ('i', 'ght'), ('▁c', 'ap'), ('re', 'e'), ('▁', '“'), ('on', 'e'), ('▁o', 'ff'), ('iz', 'ation'), ('▁-', '-'), ('on', 'g'), ('oth', 'ers'), ('▁c', 'r'), ('▁', 'j'), ('▁r', 'o'), ('am', 'es'), ('g', 'r'), ('.', ']'), ('ar', 'd'), ('b', 'e'), ('ith', 'er'), ('enc', 'y'), ('▁qu', 'ality'), ('▁my', 'self'), ('ul', 't'), ('▁v', 'ia'), ('▁aft', 'er'), ('oo', 'k'), ('▁d', 'e'), ('▁c', 'h'), ('▁befor', 'e'), ('ti', 't'), ('▁', \"'\"), ('ow', 'er'), ('g', 'h'), ('▁su', 'b'), ('▁ex', 'p'), ('▁w', 'ere'), ('ie', 'w'), ('d', 'y'), ('▁our', 's'), ('▁e', 'ver'), ('▁', '*'), ('ti', 'n'), ('ig', 'n'), ('▁le', 'g'), ('▁i', 'f'), ('▁per', 'c'), ('t', 'o'), ('▁y', 'ou'), ('es', 't'), ('▁k', 'ind'), ('▁th', 'ink'), ('ve', 's'), ('▁every', 'one'), ('a', 'ch'), ('es', 's'), ('▁ch', 'ar'), ('f', 'f'), ('i', 'le'), ('u', 'nd'), ('▁c', 'an'), ('▁m', 'o'), ('is', 't'), ('▁', 'and'), ('i', 't'), ('▁lo', 'c'), ('▁', 'an'), ('▁to', 'ward'), ('▁inter', 'v'), ('▁m', 'ov'), ('ot', 't'), ('▁dow', 'n'), ('s', 'e'), ('▁famil', 'y'), ('i', 'n'), ('e', 'e'), ('t', 'r'), ('i', 's'), ('it', 's'), ('▁month', 's'), ('▁t', 'ake'), ('▁', 'n'), ('▁e', 'x'), ('▁s', 'ec'), ('at', 'ors'), ('▁langu', 'age'), ('▁s', 'ay'), ('i', 'p'), ('f', 'or'), ('l', 'l'), ('▁it', \"'s\"), ('▁po', 'in'), ('▁m', 'ade'), ('t', 'h'), ('▁re', 's'), ('▁p', 'ol'), ('▁f', 'l'), ('l', 'u'), ('▁d', 'ow'), ('▁fam', 'il'), ('un', 'd'), ('▁st', 'ar'), ('s', 'ide'), ('▁s', 'uch'), ('▁hea', 'd'), ('▁m', 'y'), ('▁ha', 'd'), ('w', 'h'), ('o', 'l'), ('u', 'e'), ('n', 'er'), ('u', 'g'), ('a', 'v'), ('▁v', 'al'), ('us', 'e'), ('er', 's'), ('▁pro', 'duc'), ('o', 'u'), ('▁s', 'o'), ('▁', 'im'), ('▁pe', 'op'), ('▁', '-'), ('▁sp', 'ace'), ('a', 'in'), ('▁', ')'), ('▁d', 'own'), ('ur', 'es'), ('▁h', 'al'), ('iti', 'es'), ('u', 'tion'), ('▁w', 'or'), ('▁w', 'ee'), ('b', 'le'), ('▁c', 'ro'), ('’', 's'), ('▁kn', 'ow'), ('i', 'ch'), ('on', 's'), ('it', 'ch'), ('re', 's'), ('▁pers', 'on'), ('▁c', 'oun'), ('▁', 'ro'), ('▁betw', 'een'), ('or', 'e'), ('▁b', 'as'), ('it', 'er'), ('▁c', 'on'), ('▁', 'be'), ('▁g', 'et'), ('▁n', 'um'), ('▁des', 'pite'), ('▁', 'no'), ('b', 's'), ('d', 'uc'), ('▁go', 'ing'), ('▁un', 'der'), ('▁a', 'ft'), ('▁it', 's'), ('▁l', 'et'), ('a', 'sed'), ('iv', 'ers'), ('i', 'gh'), ('▁le', 't'), ('▁un', 'til'), ('▁s', 'h'), ('ti', 'v'), ('▁d', 'is'), ('▁fri', 'ends'), ('▁fr', 'i'), ('▁hal', 'f')}\n",
      "Total vocab size: 1000\n",
      "{'▁any', '▁ev', '▁fiel', '▁ind', 'ner', '▁it', '▁another', '▁inc', '▁cup', '▁peop', 'ated', '▁language', 'ge', 'itch', 're', '▁one', '▁her', '▁kind', '▁root', 'º', 'av', 'ass', 'hal', '▁ourselves', '▁/', '▁prob', '▁group', 'red', '1', 'ces', '..', 'ected', 'sed', '5', 'for', 'ʒ', 'ne', 'ward', 'b', '•', '▁hal', '▁aft', '°', '²', '▁months', \"▁'\", '▁—', 'u', '▁hour', 'acy', 'up', '=', '▁dec', 'uch', 'ro', '▁su', '▁everything', 'hin', '▁cont', '▁sch', 'oth', 'iew', '▁through', '▁sc', '▁!', 'ak', 'ign', '▁o', 'ear', '▁if', '▁tho', 'ue', '▁around', '▁an', 'side', '▁end', 'round', '▁l', '▁some', '▁time', 'ok', 'ab', 'ted', '▁dow', 'ol', '▁met', '▁for', ']', 'ire', 'els', 'ation', '▁bre', 'ety', '▁water', '▁produc', 'ot', '$', ',', 'enc', '2', '▁culture', 'gh', 'lec', 'ands', '▁pr', '▁vide', '▁vis', '▁fl', '▁art', '!', '▁think', 'il', '▁(', '▁via', '▁bec', '▁famil', 'ig', 'ight', 'h', 'ned', '▁comm', 'ators', 'yp', '▁throu', '±', 'et', 'est', 'ter', '▁month', '▁name', '▁pers', '▁rel', '▁image', 'uth', 'ea', '▁po', '▁see', 'ks', 'cause', '▁j', '▁is', 'ie', '▁video', '▁into', '▁bro', '▁between', '▁ro', 'ain', '▁mo', 'ded', 'ook', '▁down', 'als', '▁at', 'tin', '▁off', '▁such', '▁will', '▁ne', '▁near', '▁experience', 'yond', '▁[', '▁place', '▁fam', '▁ad', 'ʁ', 'lem', ')', '▁the', '▁[...]', 'di', 'o', '▁gr', 'ity', '▁sea', '▁person', '▁put', '▁‘', 'ure', 'ense', 'if', 'iel', 's', '▁onto', 'bl', '-', 'selves', '▁we', '▁quality', '▁ar', 'ory', '▁despite', '[PAD]', '▁itself', 'ld', '▁;', 'air', '▁call', '▁do', '▁somebody', '▁mod', '▁liv', '▁med', '▁or', 'ore', 'fl', '▁himself', 'urn', '▁make', 'ature', 'ked', '[MASK]', '▁sin', '▁before', '▁way', '▁fro', '▁has', 'ome', 'ut', 'lly', 'ip', 'ence', '▁mov', '▁cons', '▁anything', 'fer', '[UNK]', 'res', '_', 'plication', 'ating', '▁show', '▁things', '▁case', 'ds', '▁ag', 'ac', '▁anyone', '▁word', 'ema', '▁sho', 'wor', '▁wit', '—', '▁behind', 'oor', 'other', '▁mor', '▁game', 'x', 'ik', 'r', '▁to', '▁\"', '▁…', 'self', '▁use', '▁find', '▁work', '▁lot', '▁need', '▁isl', '▁would', '▁age', '▁system', 'ay', '▁’s', '▁diff', 'uc', '▁f', 'urin', '▁str', 'der', 'ow', '▁bit', '“', '▁days', \"▁n't\", '&', '▁life', '▁history', '▁minut', '▁und', '▁tech', 'tor', '▁stat', 'ience', 'lev', '▁qu', '▁space', 'ong', '▁neither', 'alf', '▁k', 'ould', 'z', '▁day', '[SEP]', '▁they', '▁thing', '▁these', '▁y', '▁above', '▁bo', 'over', '▁concep', 't', 'ose', \"▁'s\", '’s', '▁cap', 'und', 'ection', '▁since', '▁@', '▁this', '▁those', '▁u', '▁get', 'rou', '▁s/he', 'ugh', 'ason', 'pt', 'ε', '▁except', '▁form', 'ou', 'bo', 'ber', '▁par', '▁man', 'ist', '▁ac', 'ub', 'ght', '▁head', '▁mar', '▁gen', '▁across', 'ting', '▁ou', 'port', '▁pos', 'ate', 'ues', '▁step', '▁com', '▁meth', 'others', 'hen', '▁op', '▁know', \"'t\", '’', '▁ours', '▁let', 'ystem', '▁sp', '▁pe', 'amp', 'ion', 'ens', 'ec', '▁e', '▁their', '▁along', 'ib', 'ud', '▁h', '▁wr', 'uff', 'pl', '▁acro', 'ower', '▁city', '▁all', '▁during', 'ech', 'ake', '▁me', '▁look', 'all', '▁star', 'ti', 'tiv', 'ex', '▁c', '▁there', '▁cent', 'hip', '▁fr', '`', '▁cre', '@', 'ott', '9', '▁child', 'ects', '▁problem', 'ast', 'it', 'form', '▁whom', 'ames', 'me', 'ants', 'tion', 'like', 'ic', '▁“', '▁fo', '▁char', 'an', 'ife', 'm', '▁years', '▁go', '▁both', '▁can', 'ons', '▁ques', '▁', 'er', 'g', '▁comp', '▁tod', '▁al', 'se', 'iz', 'ines', 'n', '▁side', '▁langu', '▁hea', 'tics', '▁class', '[', 'ities', '▁exp', 'β', 'od', 'f', 'ort', 'a', 'iter', '▁in', '▁–', '▁gro', 'um', '▁part', '▁im', 'ath', '▁myself', ';', 'ication', '▁towards', '▁someone', 'oc', '▁cro', '▁tr', '▁col', '▁re', '▁fac', '▁had', '▁id', 'sin', 'erv', 'thing', '▁soc', '▁again', '▁bu', 'ver', '▁over', 've', 'ʃ', '▁g', 'ri', '▁something', 'titu', 'ul', '▁sa', 'ca', '▁said', '▁was', '▁att', 'ness', '▁going', '▁our', 'ited', 'æ', 'l', '▁bus', 'duc', '▁des', 'king', 'use', '▁mean', '▁abo', '▁half', 'bs', ':', 'sing', '▁ho', '(', 'ition', 'thin', '[CLS]', 'ive', '▁rec', '▁who', '▁us', '▁*', '.', '▁words', '▁study', 'eve', '▁by', '▁ca', 'til', '▁want', '▁serv', '▁en', 'i', 'ess', '▁’', '*', '▁hand', '▁perc', '▁ap', 'ə', '▁n', '▁ex', 'iv', '▁family', 'ator', 'out', '▁ya', '▁wee', 'ch', '▁but', '▁,', 'ught', '▁friends', '▁against', 'ution', 'ult', '▁v', '▁stud', 'ism', 'ention', 'per', '▁coun', '▁cr', 'ink', '▁that', 'ish', '▁imp', 'een', 'ell', '▁befor', '▁no', '▁he', '▁about', 'ine', '▁from', '▁term', 'wit', '▁everyone', 'earch', '▁:', '▁cour', '▁after', 'id', 'ments', 'am', '▁so', '▁school', 'our', '4', '▁val', 'ts', 'ag', 'ss', 'in', 'to', '#', '▁team', 'ool', 'op', '▁whose', 'formation', '\"', 'ar', '▁you', 'ury', 'co', '▁whatever', '▁a', '▁am', '▁le', 'ack', 'ance', '▁ins', 'ied', 'nd', 'ame', '▁ph', 'ir', '▁mom', 'ment', 'les', 'tr', 'ans', 'ur', '▁jo', '▁bir', 'no', 'gain', '▁ab', '▁la', '▁be', 'at', '▁-', 'y', 'angu', '▁]', 'en', 'both', '▁poin', '▁everybody', 'ased', 'cept', 'em', '8', '▁area', '▁leg', '▁interest', 'rol', 'ends', 'ount', '▁th', 'ɛ', '▁con', 'ood', '▁kn', '▁disc', '▁behin', 'ings', '▁are', '▁pro', '▁war', '▁guys', 'c', '▁bas', 'its', 'oun', '▁view', '▁bott', 'ra', 'ug', '▁up', '▁min', '▁lead', '▁line', '▁yourself', '▁..', '▁theory', '▁his', '▁beyond', 'vel', '▁times', 'tit', '▁as', 'ies', '▁others', '▁take', 'body', '▁dr', 'eed', 'one', '▁fri', '▁question', 'ble', 'os', 'ee', '▁te', '▁ever', '0', 'ject', 'el', '▁un', '3', 'ˈ', '▁say', '/', '▁de', '▁eff', 'orts', 'ying', '▁gra', '▁today', 'ology', 'ph', 'llow', '▁not', 'igh', '▁br', 'p', 'pr', 'ors', '▁quite', 'ad', '▁she', '▁process', 'ding', 'oo', 'ap', '▁year', '▁nobody', 'is', 'ang', 'ulture', 'pite', '▁set', 'ization', \"'\", '▁minutes', '▁until', 'ories', '▁betw', 'lu', '▁)', \"▁it's\", '6', '▁than', 'ither', '▁nothing', 'ree', '▁rev', '▁toward', 'ep', '▁within', '▁wom', 'ality', '▁of', '▁information', '▁differ', 'ile', 'es', 'ty', '▁country', '▁cas', '▁air', 'ters', '▁m', '▁trans', '▁app', '▁basil', '▁commun', '▁upon', '▁without', 'ility', '▁typ', 'olog', '▁fe', 'ights', '▁sec', '▁per', 'ent', 'orm', 'erm', '▁give', 'ond', 'll', '▁.', '▁car', '▁resp', 'j', '▁night', '▁which', '▁land', 'st', 'sel', 'w', '▁because', '▁di', '▁dat', '▁sub', 'om', 'wh', 'age', '▁theirs', '▁them', 'ild', '▁themselves', 'ids', '▁world', 'ith', 'ard', '▁dis', 'og', 'ater', '▁d', '▁him', 'try', '▁se', 'ick', 'ian', '▁wan', '▁interv', '▁exper', 'ving', 'he', 'iti', '▁s', 'ft', 'or', '▁were', 'ia', '…', '▁people', 'μ', '▁herself', '▁fact', '▁li', '▁t', '▁fin', '▁sur', '▁sup', 'ce', '.]', '▁hist', '▁tim', '▁have', 'either', 'k', 'as', '‘', 'be', 'ations', 'ages', '▁used', '–', 'ys', '▁b', 'enti', '▁inter', 'un', '▁tak', '▁home', 'ativ', 'tem', '▁p', '▁lo', '▁under', 'ant', 'ning', '▁...', 'ɔ', 'on', '▁ha', 'ere', '▁cl', 'v', 'ind', '▁sh', '▁made', 'ed', 'gr', '▁add', '▁?', '▁inside', '▁box', '▁its', 'ice', '7', '▁i', 'ite', '▁out', '▁”', '▁wor', 'ρ', 'ade', '▁anybody', 'cep', '▁sk', 'ions', '▁res', '▁throughout', 'ov', '”', '▁num', '▁yours', 'ke', 'rin', '▁your', 'ace', 'cess', 'ivers', '▁and', '▁gl', 'ich', '▁mem', 'ices', '▁st', '▁gu', '▁with', 'tions', '▁r', '▁tra', 'e', '▁among', '/he', 'ł', 'te', 'ide', 'ency', 'im', 'ɑ', 'ample', '▁gover', '▁got', '▁--', 'ly', 'ures', '▁durin', 'own', 'ics', '▁light', 'ved', '▁method', 'ered', 'ences', 'end', 'us', 'ach', '▁wh', 'tic', '▁bl', 'ture', '▁w', 'ry', '▁unlike', '▁my', '▁like', 'th', '▁example', '▁chan', '▁on', '▁pu', '▁either', '▁anoth', 'dy', '▁pl', '▁number', '▁ch', '▁loc', 'ents', 'ʊ', 'ø', 'ill', 'ect', 'ement', '?', '▁pol', '▁each', \"'s\", 'al', '▁what', 'ers', '▁data', '▁co', '+', 'ws', '▁mon', 'q', '▁[..', 'and', '▁pa', '▁room', 'tw', 'cro', 'tim', '▁every', 'ι', '▁em', 'lik', 'qu', '▁research', 'd', '▁govern', 'ves', 'pp', 'ail', 'ing', 'le', 'ever', 'ff'}\n"
     ]
    }
   ],
   "source": [
    "tokenizers_upos = {}\n",
    "merges_upos = {}\n",
    "vocab_upos = {}\n",
    "vocab_size = 1000\n",
    "special_tokens = [\"[UNK]\", \"[PAD]\", \"[CLS]\", \"[SEP]\", \"[MASK]\"]\n",
    "for upos_tag in upos_tags:\n",
    "    text = data_df[data_df[\"UPOS\"] == upos_tag][\"FORM\"].values.tolist()\n",
    "    tokenizers_upos[upos_tag] = tk.train_tokenizer(text, vocab_size)\n",
    "    vocab_upos[upos_tag], merges_upos[upos_tag] = tk.extract_vocab_and_merges(tokenizers_upos[upos_tag])\n",
    "\n",
    "target_allocation = data_df[\"UPOS\"].value_counts(normalize=True).sort_index() # Sort by index to match upos_tags order\n",
    "vocab_allocation = np.array([5] * len(upos_tags))  # Ensure space for five special tokens\n",
    "\n",
    "vocab_set = set()\n",
    "while len(vocab_set) < vocab_size:\n",
    "    vocab_allocation += tk.assign_proportionally(vocab_allocation, target_allocation, vocab_size - len(vocab_set))\n",
    "    for idx, upos_tag in enumerate(upos_tags):\n",
    "        vocab_set.update(list(vocab_upos[upos_tag])[:vocab_allocation[idx]])\n",
    "\n",
    "merges_set = set()\n",
    "for upos_tag in upos_tags:\n",
    "    for merge in merges_upos[upos_tag]:\n",
    "        if all(token in vocab_set for token in [merge[0], merge[1], merge[0] + merge[1]]):\n",
    "            merges_set.add(merge)\n",
    "\n",
    "print(f\"Total merges: {len(merges_set)}\")\n",
    "print(merges_set)\n",
    "print(f\"Total vocab size: {len(vocab_set)}\")\n",
    "print(vocab_set)"
   ]
  },
  {
   "cell_type": "code",
   "execution_count": 81,
   "metadata": {},
   "outputs": [],
   "source": [
    "vocab = {token: idx for idx, token in enumerate(vocab_set)}\n",
    "merges = list(merges_set)"
   ]
  },
  {
   "cell_type": "code",
   "execution_count": 82,
   "metadata": {},
   "outputs": [],
   "source": [
    "tokenizer = tokenizers.Tokenizer(tokenizers.models.BPE(\n",
    "    vocab=vocab,\n",
    "    merges=merges,\n",
    "    unknown_token=\"[UNK]\",\n",
    "    padding_token=\"[PAD]\",\n",
    "    cls_token=\"[CLS]\",\n",
    "    sep_token=\"[SEP]\",\n",
    "    mask_token=\"[MASK]\",\n",
    "))"
   ]
  },
  {
   "cell_type": "code",
   "execution_count": 83,
   "metadata": {},
   "outputs": [
    {
     "data": {
      "application/vnd.plotly.v1+json": {
       "config": {
        "plotlyServerURL": "https://plot.ly"
       },
       "data": [
        {
         "branchvalues": "total",
         "domain": {
          "x": [
           0,
           1
          ],
          "y": [
           0,
           1
          ]
         },
         "hovertemplate": "labels=%{label}<br>total_bill=%{value}<br>parent=%{parent}<br>id=%{id}<extra></extra>",
         "ids": [
          "all/Fri/Dinner/Female",
          "all/Sat/Dinner/Female",
          "all/Sun/Dinner/Female",
          "all/Thur/Dinner/Female",
          "all/Fri/Lunch/Female",
          "all/Thur/Lunch/Female",
          "all/Fri/Dinner/Male",
          "all/Sat/Dinner/Male",
          "all/Sun/Dinner/Male",
          "all/Fri/Lunch/Male",
          "all/Thur/Lunch/Male",
          "all/Fri/Dinner",
          "all/Sat/Dinner",
          "all/Sun/Dinner",
          "all/Thur/Dinner",
          "all/Fri/Lunch",
          "all/Thur/Lunch",
          "all/Fri",
          "all/Sat",
          "all/Sun",
          "all/Thur",
          "all"
         ],
         "labels": [
          "Female",
          "Female",
          "Female",
          "Female",
          "Female",
          "Female",
          "Male",
          "Male",
          "Male",
          "Male",
          "Male",
          "Dinner",
          "Dinner",
          "Dinner",
          "Dinner",
          "Lunch",
          "Lunch",
          "Fri",
          "Sat",
          "Sun",
          "Thur",
          "all"
         ],
         "name": "",
         "parents": [
          "all/Fri/Dinner",
          "all/Sat/Dinner",
          "all/Sun/Dinner",
          "all/Thur/Dinner",
          "all/Fri/Lunch",
          "all/Thur/Lunch",
          "all/Fri/Dinner",
          "all/Sat/Dinner",
          "all/Sun/Dinner",
          "all/Fri/Lunch",
          "all/Thur/Lunch",
          "all/Fri",
          "all/Sat",
          "all/Sun",
          "all/Thur",
          "all/Fri",
          "all/Thur",
          "all",
          "all",
          "all",
          "all",
          ""
         ],
         "root": {
          "color": "lightgrey"
         },
         "type": "treemap",
         "values": [
          71.55,
          551.05,
          357.7,
          18.78,
          55.760000000000005,
          516.11,
          164.41,
          1227.35,
          1269.46,
          34.16,
          561.4399999999999,
          235.96,
          1778.4,
          1627.16,
          18.78,
          89.92,
          1077.55,
          325.88,
          1778.4,
          1627.16,
          1096.33,
          4827.7699999999995
         ]
        }
       ],
       "layout": {
        "legend": {
         "tracegroupgap": 0
        },
        "margin": {
         "b": 25,
         "l": 25,
         "r": 25,
         "t": 50
        },
        "template": {
         "data": {
          "bar": [
           {
            "error_x": {
             "color": "#2a3f5f"
            },
            "error_y": {
             "color": "#2a3f5f"
            },
            "marker": {
             "line": {
              "color": "#E5ECF6",
              "width": 0.5
             },
             "pattern": {
              "fillmode": "overlay",
              "size": 10,
              "solidity": 0.2
             }
            },
            "type": "bar"
           }
          ],
          "barpolar": [
           {
            "marker": {
             "line": {
              "color": "#E5ECF6",
              "width": 0.5
             },
             "pattern": {
              "fillmode": "overlay",
              "size": 10,
              "solidity": 0.2
             }
            },
            "type": "barpolar"
           }
          ],
          "carpet": [
           {
            "aaxis": {
             "endlinecolor": "#2a3f5f",
             "gridcolor": "white",
             "linecolor": "white",
             "minorgridcolor": "white",
             "startlinecolor": "#2a3f5f"
            },
            "baxis": {
             "endlinecolor": "#2a3f5f",
             "gridcolor": "white",
             "linecolor": "white",
             "minorgridcolor": "white",
             "startlinecolor": "#2a3f5f"
            },
            "type": "carpet"
           }
          ],
          "choropleth": [
           {
            "colorbar": {
             "outlinewidth": 0,
             "ticks": ""
            },
            "type": "choropleth"
           }
          ],
          "contour": [
           {
            "colorbar": {
             "outlinewidth": 0,
             "ticks": ""
            },
            "colorscale": [
             [
              0,
              "#0d0887"
             ],
             [
              0.1111111111111111,
              "#46039f"
             ],
             [
              0.2222222222222222,
              "#7201a8"
             ],
             [
              0.3333333333333333,
              "#9c179e"
             ],
             [
              0.4444444444444444,
              "#bd3786"
             ],
             [
              0.5555555555555556,
              "#d8576b"
             ],
             [
              0.6666666666666666,
              "#ed7953"
             ],
             [
              0.7777777777777778,
              "#fb9f3a"
             ],
             [
              0.8888888888888888,
              "#fdca26"
             ],
             [
              1,
              "#f0f921"
             ]
            ],
            "type": "contour"
           }
          ],
          "contourcarpet": [
           {
            "colorbar": {
             "outlinewidth": 0,
             "ticks": ""
            },
            "type": "contourcarpet"
           }
          ],
          "heatmap": [
           {
            "colorbar": {
             "outlinewidth": 0,
             "ticks": ""
            },
            "colorscale": [
             [
              0,
              "#0d0887"
             ],
             [
              0.1111111111111111,
              "#46039f"
             ],
             [
              0.2222222222222222,
              "#7201a8"
             ],
             [
              0.3333333333333333,
              "#9c179e"
             ],
             [
              0.4444444444444444,
              "#bd3786"
             ],
             [
              0.5555555555555556,
              "#d8576b"
             ],
             [
              0.6666666666666666,
              "#ed7953"
             ],
             [
              0.7777777777777778,
              "#fb9f3a"
             ],
             [
              0.8888888888888888,
              "#fdca26"
             ],
             [
              1,
              "#f0f921"
             ]
            ],
            "type": "heatmap"
           }
          ],
          "heatmapgl": [
           {
            "colorbar": {
             "outlinewidth": 0,
             "ticks": ""
            },
            "colorscale": [
             [
              0,
              "#0d0887"
             ],
             [
              0.1111111111111111,
              "#46039f"
             ],
             [
              0.2222222222222222,
              "#7201a8"
             ],
             [
              0.3333333333333333,
              "#9c179e"
             ],
             [
              0.4444444444444444,
              "#bd3786"
             ],
             [
              0.5555555555555556,
              "#d8576b"
             ],
             [
              0.6666666666666666,
              "#ed7953"
             ],
             [
              0.7777777777777778,
              "#fb9f3a"
             ],
             [
              0.8888888888888888,
              "#fdca26"
             ],
             [
              1,
              "#f0f921"
             ]
            ],
            "type": "heatmapgl"
           }
          ],
          "histogram": [
           {
            "marker": {
             "pattern": {
              "fillmode": "overlay",
              "size": 10,
              "solidity": 0.2
             }
            },
            "type": "histogram"
           }
          ],
          "histogram2d": [
           {
            "colorbar": {
             "outlinewidth": 0,
             "ticks": ""
            },
            "colorscale": [
             [
              0,
              "#0d0887"
             ],
             [
              0.1111111111111111,
              "#46039f"
             ],
             [
              0.2222222222222222,
              "#7201a8"
             ],
             [
              0.3333333333333333,
              "#9c179e"
             ],
             [
              0.4444444444444444,
              "#bd3786"
             ],
             [
              0.5555555555555556,
              "#d8576b"
             ],
             [
              0.6666666666666666,
              "#ed7953"
             ],
             [
              0.7777777777777778,
              "#fb9f3a"
             ],
             [
              0.8888888888888888,
              "#fdca26"
             ],
             [
              1,
              "#f0f921"
             ]
            ],
            "type": "histogram2d"
           }
          ],
          "histogram2dcontour": [
           {
            "colorbar": {
             "outlinewidth": 0,
             "ticks": ""
            },
            "colorscale": [
             [
              0,
              "#0d0887"
             ],
             [
              0.1111111111111111,
              "#46039f"
             ],
             [
              0.2222222222222222,
              "#7201a8"
             ],
             [
              0.3333333333333333,
              "#9c179e"
             ],
             [
              0.4444444444444444,
              "#bd3786"
             ],
             [
              0.5555555555555556,
              "#d8576b"
             ],
             [
              0.6666666666666666,
              "#ed7953"
             ],
             [
              0.7777777777777778,
              "#fb9f3a"
             ],
             [
              0.8888888888888888,
              "#fdca26"
             ],
             [
              1,
              "#f0f921"
             ]
            ],
            "type": "histogram2dcontour"
           }
          ],
          "mesh3d": [
           {
            "colorbar": {
             "outlinewidth": 0,
             "ticks": ""
            },
            "type": "mesh3d"
           }
          ],
          "parcoords": [
           {
            "line": {
             "colorbar": {
              "outlinewidth": 0,
              "ticks": ""
             }
            },
            "type": "parcoords"
           }
          ],
          "pie": [
           {
            "automargin": true,
            "type": "pie"
           }
          ],
          "scatter": [
           {
            "fillpattern": {
             "fillmode": "overlay",
             "size": 10,
             "solidity": 0.2
            },
            "type": "scatter"
           }
          ],
          "scatter3d": [
           {
            "line": {
             "colorbar": {
              "outlinewidth": 0,
              "ticks": ""
             }
            },
            "marker": {
             "colorbar": {
              "outlinewidth": 0,
              "ticks": ""
             }
            },
            "type": "scatter3d"
           }
          ],
          "scattercarpet": [
           {
            "marker": {
             "colorbar": {
              "outlinewidth": 0,
              "ticks": ""
             }
            },
            "type": "scattercarpet"
           }
          ],
          "scattergeo": [
           {
            "marker": {
             "colorbar": {
              "outlinewidth": 0,
              "ticks": ""
             }
            },
            "type": "scattergeo"
           }
          ],
          "scattergl": [
           {
            "marker": {
             "colorbar": {
              "outlinewidth": 0,
              "ticks": ""
             }
            },
            "type": "scattergl"
           }
          ],
          "scattermapbox": [
           {
            "marker": {
             "colorbar": {
              "outlinewidth": 0,
              "ticks": ""
             }
            },
            "type": "scattermapbox"
           }
          ],
          "scatterpolar": [
           {
            "marker": {
             "colorbar": {
              "outlinewidth": 0,
              "ticks": ""
             }
            },
            "type": "scatterpolar"
           }
          ],
          "scatterpolargl": [
           {
            "marker": {
             "colorbar": {
              "outlinewidth": 0,
              "ticks": ""
             }
            },
            "type": "scatterpolargl"
           }
          ],
          "scatterternary": [
           {
            "marker": {
             "colorbar": {
              "outlinewidth": 0,
              "ticks": ""
             }
            },
            "type": "scatterternary"
           }
          ],
          "surface": [
           {
            "colorbar": {
             "outlinewidth": 0,
             "ticks": ""
            },
            "colorscale": [
             [
              0,
              "#0d0887"
             ],
             [
              0.1111111111111111,
              "#46039f"
             ],
             [
              0.2222222222222222,
              "#7201a8"
             ],
             [
              0.3333333333333333,
              "#9c179e"
             ],
             [
              0.4444444444444444,
              "#bd3786"
             ],
             [
              0.5555555555555556,
              "#d8576b"
             ],
             [
              0.6666666666666666,
              "#ed7953"
             ],
             [
              0.7777777777777778,
              "#fb9f3a"
             ],
             [
              0.8888888888888888,
              "#fdca26"
             ],
             [
              1,
              "#f0f921"
             ]
            ],
            "type": "surface"
           }
          ],
          "table": [
           {
            "cells": {
             "fill": {
              "color": "#EBF0F8"
             },
             "line": {
              "color": "white"
             }
            },
            "header": {
             "fill": {
              "color": "#C8D4E3"
             },
             "line": {
              "color": "white"
             }
            },
            "type": "table"
           }
          ]
         },
         "layout": {
          "annotationdefaults": {
           "arrowcolor": "#2a3f5f",
           "arrowhead": 0,
           "arrowwidth": 1
          },
          "autotypenumbers": "strict",
          "coloraxis": {
           "colorbar": {
            "outlinewidth": 0,
            "ticks": ""
           }
          },
          "colorscale": {
           "diverging": [
            [
             0,
             "#8e0152"
            ],
            [
             0.1,
             "#c51b7d"
            ],
            [
             0.2,
             "#de77ae"
            ],
            [
             0.3,
             "#f1b6da"
            ],
            [
             0.4,
             "#fde0ef"
            ],
            [
             0.5,
             "#f7f7f7"
            ],
            [
             0.6,
             "#e6f5d0"
            ],
            [
             0.7,
             "#b8e186"
            ],
            [
             0.8,
             "#7fbc41"
            ],
            [
             0.9,
             "#4d9221"
            ],
            [
             1,
             "#276419"
            ]
           ],
           "sequential": [
            [
             0,
             "#0d0887"
            ],
            [
             0.1111111111111111,
             "#46039f"
            ],
            [
             0.2222222222222222,
             "#7201a8"
            ],
            [
             0.3333333333333333,
             "#9c179e"
            ],
            [
             0.4444444444444444,
             "#bd3786"
            ],
            [
             0.5555555555555556,
             "#d8576b"
            ],
            [
             0.6666666666666666,
             "#ed7953"
            ],
            [
             0.7777777777777778,
             "#fb9f3a"
            ],
            [
             0.8888888888888888,
             "#fdca26"
            ],
            [
             1,
             "#f0f921"
            ]
           ],
           "sequentialminus": [
            [
             0,
             "#0d0887"
            ],
            [
             0.1111111111111111,
             "#46039f"
            ],
            [
             0.2222222222222222,
             "#7201a8"
            ],
            [
             0.3333333333333333,
             "#9c179e"
            ],
            [
             0.4444444444444444,
             "#bd3786"
            ],
            [
             0.5555555555555556,
             "#d8576b"
            ],
            [
             0.6666666666666666,
             "#ed7953"
            ],
            [
             0.7777777777777778,
             "#fb9f3a"
            ],
            [
             0.8888888888888888,
             "#fdca26"
            ],
            [
             1,
             "#f0f921"
            ]
           ]
          },
          "colorway": [
           "#636efa",
           "#EF553B",
           "#00cc96",
           "#ab63fa",
           "#FFA15A",
           "#19d3f3",
           "#FF6692",
           "#B6E880",
           "#FF97FF",
           "#FECB52"
          ],
          "font": {
           "color": "#2a3f5f"
          },
          "geo": {
           "bgcolor": "white",
           "lakecolor": "white",
           "landcolor": "#E5ECF6",
           "showlakes": true,
           "showland": true,
           "subunitcolor": "white"
          },
          "hoverlabel": {
           "align": "left"
          },
          "hovermode": "closest",
          "mapbox": {
           "style": "light"
          },
          "paper_bgcolor": "white",
          "plot_bgcolor": "#E5ECF6",
          "polar": {
           "angularaxis": {
            "gridcolor": "white",
            "linecolor": "white",
            "ticks": ""
           },
           "bgcolor": "#E5ECF6",
           "radialaxis": {
            "gridcolor": "white",
            "linecolor": "white",
            "ticks": ""
           }
          },
          "scene": {
           "xaxis": {
            "backgroundcolor": "#E5ECF6",
            "gridcolor": "white",
            "gridwidth": 2,
            "linecolor": "white",
            "showbackground": true,
            "ticks": "",
            "zerolinecolor": "white"
           },
           "yaxis": {
            "backgroundcolor": "#E5ECF6",
            "gridcolor": "white",
            "gridwidth": 2,
            "linecolor": "white",
            "showbackground": true,
            "ticks": "",
            "zerolinecolor": "white"
           },
           "zaxis": {
            "backgroundcolor": "#E5ECF6",
            "gridcolor": "white",
            "gridwidth": 2,
            "linecolor": "white",
            "showbackground": true,
            "ticks": "",
            "zerolinecolor": "white"
           }
          },
          "shapedefaults": {
           "line": {
            "color": "#2a3f5f"
           }
          },
          "ternary": {
           "aaxis": {
            "gridcolor": "white",
            "linecolor": "white",
            "ticks": ""
           },
           "baxis": {
            "gridcolor": "white",
            "linecolor": "white",
            "ticks": ""
           },
           "bgcolor": "#E5ECF6",
           "caxis": {
            "gridcolor": "white",
            "linecolor": "white",
            "ticks": ""
           }
          },
          "title": {
           "x": 0.05
          },
          "xaxis": {
           "automargin": true,
           "gridcolor": "white",
           "linecolor": "white",
           "ticks": "",
           "title": {
            "standoff": 15
           },
           "zerolinecolor": "white",
           "zerolinewidth": 2
          },
          "yaxis": {
           "automargin": true,
           "gridcolor": "white",
           "linecolor": "white",
           "ticks": "",
           "title": {
            "standoff": 15
           },
           "zerolinecolor": "white",
           "zerolinewidth": 2
          }
         }
        }
       }
      }
     },
     "metadata": {},
     "output_type": "display_data"
    }
   ],
   "source": [
    "df = px.data.tips()\n",
    "fig = px.treemap(df, path=[px.Constant(\"all\"), 'day', 'time', 'sex'], values='total_bill')\n",
    "fig.update_traces(root_color=\"lightgrey\")\n",
    "fig.update_layout(margin = dict(t=50, l=25, r=25, b=25))\n",
    "fig.show()"
   ]
  },
  {
   "cell_type": "code",
   "execution_count": null,
   "metadata": {},
   "outputs": [],
   "source": []
  }
 ],
 "metadata": {
  "kernelspec": {
   "display_name": "thesis",
   "language": "python",
   "name": "python3"
  },
  "language_info": {
   "codemirror_mode": {
    "name": "ipython",
    "version": 3
   },
   "file_extension": ".py",
   "mimetype": "text/x-python",
   "name": "python",
   "nbconvert_exporter": "python",
   "pygments_lexer": "ipython3",
   "version": "3.13.2"
  }
 },
 "nbformat": 4,
 "nbformat_minor": 2
}
