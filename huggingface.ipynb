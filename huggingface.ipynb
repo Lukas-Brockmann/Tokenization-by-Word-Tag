{
 "cells": [
  {
   "cell_type": "code",
   "execution_count": 1,
   "metadata": {},
   "outputs": [],
   "source": [
    "import sys\n",
    "import os\n",
    "from IPython import get_ipython\n",
    "\n",
    "sys.path.append(os.path.abspath(\"./lib\"))\n",
    "if 'autoreload' not in get_ipython().magics_manager.magics['line']:\n",
    "    %load_ext autoreload\n",
    "%autoreload 2\n",
    "\n",
    "from lib import dataloading as dl\n",
    "from lib import tokenizer as tk\n",
    "import tokenizers\n",
    "import warnings\n",
    "import numpy as np\n",
    "import pandas as pd\n",
    "from pathlib import Path"
   ]
  },
  {
   "cell_type": "code",
   "execution_count": 2,
   "metadata": {},
   "outputs": [
    {
     "ename": "FileNotFoundError",
     "evalue": "[Errno 2] No such file or directory: 'D:\\\\Dropbox\\\\Bachlorarbeit\\\\Datasets\\\\Universal Dependencies 2.15\\\\ud-treebanks-v2.15\\\\UD_English-GUM\\\\en_gum-ud-train.conllu'",
     "output_type": "error",
     "traceback": [
      "\u001b[1;31m---------------------------------------------------------------------------\u001b[0m",
      "\u001b[1;31mFileNotFoundError\u001b[0m                         Traceback (most recent call last)",
      "Cell \u001b[1;32mIn[2], line 1\u001b[0m\n\u001b[1;32m----> 1\u001b[0m data_df \u001b[38;5;241m=\u001b[39m \u001b[43mdl\u001b[49m\u001b[38;5;241;43m.\u001b[39;49m\u001b[43mload_conllu\u001b[49m\u001b[43m(\u001b[49m\n\u001b[0;32m      2\u001b[0m \u001b[43m    \u001b[49m\u001b[38;5;124;43mr\u001b[39;49m\u001b[38;5;124;43m\"\u001b[39;49m\u001b[38;5;124;43mD:\u001b[39;49m\u001b[38;5;124;43m\\\u001b[39;49m\u001b[38;5;124;43mDropbox\u001b[39;49m\u001b[38;5;124;43m\\\u001b[39;49m\u001b[38;5;124;43mBachlorarbeit\u001b[39;49m\u001b[38;5;124;43m\\\u001b[39;49m\u001b[38;5;124;43mDatasets\u001b[39;49m\u001b[38;5;124;43m\\\u001b[39;49m\u001b[38;5;124;43mUniversal Dependencies 2.15\u001b[39;49m\u001b[38;5;124;43m\\\u001b[39;49m\u001b[38;5;124;43mud-treebanks-v2.15\u001b[39;49m\u001b[38;5;124;43m\\\u001b[39;49m\u001b[38;5;124;43mUD_English-GUM\u001b[39;49m\u001b[38;5;124;43m\\\u001b[39;49m\u001b[38;5;124;43men_gum-ud-train.conllu\u001b[39;49m\u001b[38;5;124;43m\"\u001b[39;49m\n\u001b[0;32m      3\u001b[0m \u001b[43m)\u001b[49m\n\u001b[0;32m      4\u001b[0m data_df \u001b[38;5;241m=\u001b[39m dl\u001b[38;5;241m.\u001b[39mclear_non_UPOS_tags(data_df)\n\u001b[0;32m      5\u001b[0m \u001b[38;5;28mprint\u001b[39m(data_df\u001b[38;5;241m.\u001b[39mhead())\n",
      "File \u001b[1;32md:\\Dropbox\\Bachelorarbeit\\Tokenization by Word Tag\\lib\\dataloading.py:28\u001b[0m, in \u001b[0;36mload_conllu\u001b[1;34m(file_path)\u001b[0m\n\u001b[0;32m     14\u001b[0m columns \u001b[38;5;241m=\u001b[39m [\n\u001b[0;32m     15\u001b[0m     \u001b[38;5;124m\"\u001b[39m\u001b[38;5;124mID\u001b[39m\u001b[38;5;124m\"\u001b[39m,\n\u001b[0;32m     16\u001b[0m     \u001b[38;5;124m\"\u001b[39m\u001b[38;5;124mFORM\u001b[39m\u001b[38;5;124m\"\u001b[39m,\n\u001b[1;32m   (...)\u001b[0m\n\u001b[0;32m     24\u001b[0m     \u001b[38;5;124m\"\u001b[39m\u001b[38;5;124mMISC\u001b[39m\u001b[38;5;124m\"\u001b[39m,\n\u001b[0;32m     25\u001b[0m ]\n\u001b[0;32m     26\u001b[0m data \u001b[38;5;241m=\u001b[39m []\n\u001b[1;32m---> 28\u001b[0m \u001b[38;5;28;01mwith\u001b[39;00m \u001b[38;5;28;43mopen\u001b[39;49m\u001b[43m(\u001b[49m\u001b[43mfile_path\u001b[49m\u001b[43m,\u001b[49m\u001b[43m \u001b[49m\u001b[38;5;124;43m\"\u001b[39;49m\u001b[38;5;124;43mr\u001b[39;49m\u001b[38;5;124;43m\"\u001b[39;49m\u001b[43m,\u001b[49m\u001b[43m \u001b[49m\u001b[43mencoding\u001b[49m\u001b[38;5;241;43m=\u001b[39;49m\u001b[38;5;124;43m\"\u001b[39;49m\u001b[38;5;124;43mutf-8\u001b[39;49m\u001b[38;5;124;43m\"\u001b[39;49m\u001b[43m)\u001b[49m \u001b[38;5;28;01mas\u001b[39;00m f:\n\u001b[0;32m     29\u001b[0m     \u001b[38;5;28;01mfor\u001b[39;00m line \u001b[38;5;129;01min\u001b[39;00m f:\n\u001b[0;32m     30\u001b[0m         \u001b[38;5;28;01mif\u001b[39;00m line\u001b[38;5;241m.\u001b[39mstartswith(\u001b[38;5;124m\"\u001b[39m\u001b[38;5;124m#\u001b[39m\u001b[38;5;124m\"\u001b[39m) \u001b[38;5;129;01mor\u001b[39;00m \u001b[38;5;129;01mnot\u001b[39;00m line\u001b[38;5;241m.\u001b[39mstrip():\n",
      "\u001b[1;31mFileNotFoundError\u001b[0m: [Errno 2] No such file or directory: 'D:\\\\Dropbox\\\\Bachlorarbeit\\\\Datasets\\\\Universal Dependencies 2.15\\\\ud-treebanks-v2.15\\\\UD_English-GUM\\\\en_gum-ud-train.conllu'"
     ]
    }
   ],
   "source": [
    "data_df = dl.load_conllu(\n",
    "    r\"D:\\Dropbox\\Bachlorarbeit\\Datasets\\Universal Dependencies 2.15\\ud-treebanks-v2.15\\UD_English-GUM\\en_gum-ud-train.conllu\"\n",
    ")\n",
    "data_df = dl.clear_non_UPOS_tags(data_df)\n",
    "print(data_df.head())"
   ]
  },
  {
   "cell_type": "code",
   "execution_count": null,
   "metadata": {},
   "outputs": [],
   "source": [
    "vocab_size = 1000\n",
    "upos_tags = [\n",
    "        \"ADJ\",\n",
    "        \"ADP\",\n",
    "        \"ADV\",\n",
    "        \"AUX\",\n",
    "        \"CCONJ\",\n",
    "        \"DET\",\n",
    "        \"INTJ\",\n",
    "        \"NOUN\",\n",
    "        \"NUM\",\n",
    "        \"PART\",\n",
    "        \"PRON\",\n",
    "        \"PROPN\",\n",
    "        \"PUNCT\",\n",
    "        \"SCONJ\",\n",
    "        \"SYM\",\n",
    "        \"VERB\",\n",
    "        \"X\",\n",
    "    ]\n",
    "special_tokens = [\"[UNK]\", \"[PAD]\", \"[CLS]\", \"[SEP]\", \"[MASK]\"]"
   ]
  },
  {
   "cell_type": "code",
   "execution_count": null,
   "metadata": {},
   "outputs": [
    {
     "data": {
      "text/plain": [
       "UPOS\n",
       "ADJ      0.065591\n",
       "ADP      0.094304\n",
       "ADV      0.047767\n",
       "AUX      0.053751\n",
       "CCONJ    0.032844\n",
       "DET      0.081215\n",
       "INTJ     0.009768\n",
       "NOUN     0.166281\n",
       "NUM      0.019317\n",
       "PART     0.023972\n",
       "PRON     0.084079\n",
       "PROPN    0.058059\n",
       "PUNCT    0.138616\n",
       "SCONJ    0.016136\n",
       "SYM      0.001627\n",
       "VERB     0.104742\n",
       "X        0.001932\n",
       "Name: proportion, dtype: float64"
      ]
     },
     "execution_count": 21,
     "metadata": {},
     "output_type": "execute_result"
    }
   ],
   "source": [
    "data_df[\"UPOS\"].value_counts(normalize=True).sort_index()"
   ]
  },
  {
   "cell_type": "code",
   "execution_count": 22,
   "metadata": {},
   "outputs": [],
   "source": [
    "for algorithm in [\"BPE\", \"WordPiece\", \"Unigram\"]:\n",
    "    path = Path(r\"D:\\Dropbox\\Bachlorarbeit\\Tokenization by Word Tag\\Tokenization by Word Tag Tokenizers\") / f\"upos_{algorithm.lower()}_tokenizer.json\"\n",
    "    tokenizer = tk.train_and_merge_tokenizers(\n",
    "        data_df,\n",
    "        tokenizer_algorithm=algorithm,\n",
    "        vocab_size=1000,\n",
    "        allocation=\"proportional\",\n",
    "        save_path=str(path)\n",
    "    )"
   ]
  },
  {
   "cell_type": "code",
   "execution_count": 23,
   "metadata": {},
   "outputs": [],
   "source": [
    "vocab_size = 1000\n",
    "tokenizer = tk.train_tokenizer(data_df[\"FORM\"].values.tolist(), vocab_size, algorithm=\"bpe\")\n",
    "tokenizer.save(r\"D:\\Dropbox\\Bachlorarbeit\\Tokenization by Word Tag\\Tokenization by Word Tag Tokenizers\\classic_bpe_tokenizer.json\")\n",
    "\n",
    "tokenizer = tk.train_tokenizer(data_df[\"FORM\"].values.tolist(), vocab_size, algorithm=\"wordpiece\")\n",
    "tokenizer.save(r\"D:\\Dropbox\\Bachlorarbeit\\Tokenization by Word Tag\\Tokenization by Word Tag Tokenizers\\classic_wordpiece_tokenizer.json\")\n",
    "\n",
    "tokenizer = tk.train_tokenizer(data_df[\"FORM\"].values.tolist(), vocab_size, algorithm=\"unigram\")\n",
    "tokenizer.save(r\"D:\\Dropbox\\Bachlorarbeit\\Tokenization by Word Tag\\Tokenization by Word Tag Tokenizers\\classic_unigram_tokenizer.json\")"
   ]
  }
 ],
 "metadata": {
  "kernelspec": {
   "display_name": "thesis",
   "language": "python",
   "name": "python3"
  },
  "language_info": {
   "codemirror_mode": {
    "name": "ipython",
    "version": 3
   },
   "file_extension": ".py",
   "mimetype": "text/x-python",
   "name": "python",
   "nbconvert_exporter": "python",
   "pygments_lexer": "ipython3",
   "version": "3.10.16"
  }
 },
 "nbformat": 4,
 "nbformat_minor": 2
}
