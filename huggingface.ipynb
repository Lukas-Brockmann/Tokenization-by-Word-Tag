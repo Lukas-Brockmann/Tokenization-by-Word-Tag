{
 "cells": [
  {
   "cell_type": "code",
   "execution_count": 1,
   "metadata": {},
   "outputs": [
    {
     "ename": "SyntaxError",
     "evalue": "unmatched ')' (tokenizer.py, line 49)",
     "output_type": "error",
     "traceback": [
      "Traceback \u001b[36m(most recent call last)\u001b[39m:\n",
      "  File \u001b[92md:\\Utility\\Anaconda\\envs\\thesis\\Lib\\site-packages\\IPython\\core\\interactiveshell.py:3549\u001b[39m in \u001b[95mrun_code\u001b[39m\n    exec(code_obj, self.user_global_ns, self.user_ns)\n",
      "\u001b[36m  \u001b[39m\u001b[36mCell\u001b[39m\u001b[36m \u001b[39m\u001b[32mIn[1]\u001b[39m\u001b[32m, line 11\u001b[39m\n\u001b[31m    \u001b[39m\u001b[31mfrom lib import tokenizer as tk\u001b[39m\n",
      "  \u001b[36mFile \u001b[39m\u001b[32md:\\Dropbox\\Bachlorarbeit\\Tokenization by Word Tag\\lib\\tokenizer.py:49\u001b[39m\n\u001b[31m    \u001b[39m\u001b[31mmask_token=\"<MASK>\"))\u001b[39m\n                        ^\n\u001b[31mSyntaxError\u001b[39m\u001b[31m:\u001b[39m unmatched ')'\n"
     ]
    }
   ],
   "source": [
    "import sys\n",
    "import os\n",
    "from IPython import get_ipython\n",
    "\n",
    "sys.path.append(os.path.abspath(\"./lib\"))\n",
    "if 'autoreload' not in get_ipython().magics_manager.magics['line']:\n",
    "    %load_ext autoreload\n",
    "%autoreload 2\n",
    "\n",
    "from lib import dataloading as dl\n",
    "from lib import tokenizer as tk\n",
    "import torch\n",
    "import tokenizers\n",
    "import warnings\n",
    "import numpy as np\n",
    "import pandas as pd\n",
    "from matplotlib_venn import venn2, venn3  \n",
    "from matplotlib import pyplot as plt \n",
    "import plotly.express as px\n",
    "from collections import defaultdict"
   ]
  },
  {
   "cell_type": "code",
   "execution_count": null,
   "metadata": {},
   "outputs": [
    {
     "name": "stdout",
     "output_type": "stream",
     "text": [
      "Dropped 2810 rows with non-UPOS tags \n",
      "Tags dropped: ['_']\n",
      "            FORM         LEMMA   UPOS XPOS        FEATS HEAD DEPREL  \\\n",
      "ID                                                                    \n",
      "1      Aesthetic     aesthetic    ADJ   JJ   Degree=Pos    2   amod   \n",
      "2   Appreciation  appreciation   NOUN   NN  Number=Sing    0   root   \n",
      "3            and           and  CCONJ   CC            _    5     cc   \n",
      "4        Spanish       Spanish    ADJ   JJ   Degree=Pos    5   amod   \n",
      "5            Art           art   NOUN   NN  Number=Sing    2   conj   \n",
      "\n",
      "          DEPS                                               MISC  \n",
      "ID                                                                 \n",
      "1       2:amod  Discourse=organization-heading:1->57:8:grf-ly-...  \n",
      "2       0:root                       Entity=1)|MSeg=Appreciat-ion  \n",
      "3         5:cc                                                  _  \n",
      "4       5:amod     Entity=(2-abstract-new-cf2-2-sgl|MSeg=Span-ish  \n",
      "5   2:conj:and                            Entity=2)|SpaceAfter=No  \n"
     ]
    }
   ],
   "source": [
    "data_df = dl.load_conllu(\n",
    "    r\"D:\\Dropbox\\Bachlorarbeit\\Datasets\\Universal Dependencies 2.15\\ud-treebanks-v2.15\\UD_English-GUM\\en_gum-ud-train.conllu\"\n",
    ")\n",
    "data_df = dl.clear_non_UPOS_tags(data_df)\n",
    "print(data_df.head())"
   ]
  },
  {
   "cell_type": "code",
   "execution_count": null,
   "metadata": {},
   "outputs": [
    {
     "data": {
      "text/html": [
       "<div>\n",
       "<style scoped>\n",
       "    .dataframe tbody tr th:only-of-type {\n",
       "        vertical-align: middle;\n",
       "    }\n",
       "\n",
       "    .dataframe tbody tr th {\n",
       "        vertical-align: top;\n",
       "    }\n",
       "\n",
       "    .dataframe thead th {\n",
       "        text-align: right;\n",
       "    }\n",
       "</style>\n",
       "<table border=\"1\" class=\"dataframe\">\n",
       "  <thead>\n",
       "    <tr style=\"text-align: right;\">\n",
       "      <th></th>\n",
       "      <th>FORM</th>\n",
       "      <th>LEMMA</th>\n",
       "      <th>UPOS</th>\n",
       "      <th>XPOS</th>\n",
       "      <th>FEATS</th>\n",
       "      <th>HEAD</th>\n",
       "      <th>DEPREL</th>\n",
       "      <th>DEPS</th>\n",
       "      <th>MISC</th>\n",
       "    </tr>\n",
       "  </thead>\n",
       "  <tbody>\n",
       "    <tr>\n",
       "      <th>count</th>\n",
       "      <td>164108</td>\n",
       "      <td>164108</td>\n",
       "      <td>164108</td>\n",
       "      <td>164108</td>\n",
       "      <td>164108</td>\n",
       "      <td>164108</td>\n",
       "      <td>164108</td>\n",
       "      <td>164108</td>\n",
       "      <td>164108</td>\n",
       "    </tr>\n",
       "    <tr>\n",
       "      <th>unique</th>\n",
       "      <td>17226</td>\n",
       "      <td>12957</td>\n",
       "      <td>17</td>\n",
       "      <td>47</td>\n",
       "      <td>181</td>\n",
       "      <td>106</td>\n",
       "      <td>51</td>\n",
       "      <td>10849</td>\n",
       "      <td>68967</td>\n",
       "    </tr>\n",
       "    <tr>\n",
       "      <th>top</th>\n",
       "      <td>,</td>\n",
       "      <td>,</td>\n",
       "      <td>NOUN</td>\n",
       "      <td>NN</td>\n",
       "      <td>_</td>\n",
       "      <td>4</td>\n",
       "      <td>punct</td>\n",
       "      <td>0:root</td>\n",
       "      <td>_</td>\n",
       "    </tr>\n",
       "    <tr>\n",
       "      <th>freq</th>\n",
       "      <td>8647</td>\n",
       "      <td>8647</td>\n",
       "      <td>27288</td>\n",
       "      <td>20260</td>\n",
       "      <td>53205</td>\n",
       "      <td>10049</td>\n",
       "      <td>22748</td>\n",
       "      <td>9409</td>\n",
       "      <td>62470</td>\n",
       "    </tr>\n",
       "  </tbody>\n",
       "</table>\n",
       "</div>"
      ],
      "text/plain": [
       "          FORM   LEMMA    UPOS    XPOS   FEATS    HEAD  DEPREL    DEPS    MISC\n",
       "count   164108  164108  164108  164108  164108  164108  164108  164108  164108\n",
       "unique   17226   12957      17      47     181     106      51   10849   68967\n",
       "top          ,       ,    NOUN      NN       _       4   punct  0:root       _\n",
       "freq      8647    8647   27288   20260   53205   10049   22748    9409   62470"
      ]
     },
     "execution_count": 113,
     "metadata": {},
     "output_type": "execute_result"
    }
   ],
   "source": [
    "data_df.describe()"
   ]
  },
  {
   "cell_type": "code",
   "execution_count": null,
   "metadata": {},
   "outputs": [],
   "source": [
    "vocab_size = 1000\n",
    "upos_tags = [\n",
    "        \"ADJ\",\n",
    "        \"ADP\",\n",
    "        \"ADV\",\n",
    "        \"AUX\",\n",
    "        \"CCONJ\",\n",
    "        \"DET\",\n",
    "        \"INTJ\",\n",
    "        \"NOUN\",\n",
    "        \"NUM\",\n",
    "        \"PART\",\n",
    "        \"PRON\",\n",
    "        \"PROPN\",\n",
    "        \"PUNCT\",\n",
    "        \"SCONJ\",\n",
    "        \"SYM\",\n",
    "        \"VERB\",\n",
    "        \"X\",\n",
    "    ]\n",
    "special_tokens = [\"[UNK]\", \"[PAD]\", \"[CLS]\", \"[SEP]\", \"[MASK]\"]"
   ]
  },
  {
   "cell_type": "code",
   "execution_count": null,
   "metadata": {},
   "outputs": [
    {
     "name": "stdout",
     "output_type": "stream",
     "text": [
      "Total merges: 1025\n",
      "{('u', 'ght'), ('at', 'ed'), ('▁', '\"'), ('▁l', 'i'), ('ic', 'e'), ('al', 's'), ('▁res', 'earch'), ('▁w', 'e'), ('o', 'r'), ('▁p', 'er'), ('i', 'st'), ('enc', 'es'), ('▁l', 'ine'), ('▁com', 'p'), ('s', 't'), ('▁p', 'ar'), ('▁of', 'f'), ('▁up', 'on'), ('v', 'er'), ('e', 't'), ('▁p', 'ers'), ('ens', 'e'), ('i', 'v'), ('i', 'ds'), ('▁s', 'a'), ('▁num', 'ber'), ('i', 'te'), ('s', 's'), ('e', 'n'), ('e', 's'), ('▁', 'out'), ('▁an', 'oth'), ('ic', 'k'), ('▁meth', 'od'), ('▁ho', 'me'), ('▁vide', 'o'), ('▁bo', 'x'), ('▁your', 'self'), ('▁gover', 'n'), ('▁sin', 'ce'), ('e', 'p'), ('▁mon', 'th'), ('▁re', 'v'), ('▁r', 'es'), ('▁tod', 'ay'), ('b', 'er'), ('eve', 'r'), ('▁m', 'on'), ('▁', 'f'), ('o', 'ver'), ('▁y', 'ear'), ('▁th', 'ings'), ('▁h', 'o'), (\"▁'\", 's'), ('▁’', 's'), ('▁sh', 'ow'), ('u', 't'), ('▁i', 't'), ('▁fin', 'd'), ('▁dis', 'c'), ('p', 't'), ('▁o', 'ver'), ('▁m', 'od'), ('▁', 'us'), ('▁st', 'ud'), ('a', 'k'), ('u', 'n'), ('er', 'v'), ('if', 'e'), ('u', 's'), ('gh', 't'), ('▁b', 're'), ('▁ha', 's'), ('a', 'll'), ('▁w', 'ould'), ('▁o', 'n'), ('r', 'ee'), ('f', 't'), ('h', 'ip'), ('u', 'p'), ('▁', 'or'), ('a', 'ir'), ('p', 'p'), ('▁wh', 'o'), ('▁s', 'tr'), ('▁a', 'l'), ('▁t', 'ra'), ('amp', 'le'), ('▁be', 'hin'), ('ang', 'u'), ('▁t', 'yp'), ('▁r', 'el'), ('or', 't'), ('▁the', 'se'), ('▁g', 'ot'), ('j', 'ect'), ('or', 's'), ('▁t', 'o'), ('▁ab', 'o'), ('w', 'ard'), ('▁n', 'either'), ('▁l', 'ot'), ('▁', ','), ('o', 'ok'), ('▁', '?'), ('i', 'd'), ('ov', 'er'), ('▁[..', '.]'), ('▁f', 'ro'), ('r', 'e'), ('▁be', 'for'), ('▁', 'd'), ('e', 'ar'), ('n', 'ess'), ('▁', 'e'), ('ag', 'e'), ('/', 'he'), ('▁s', 'he'), ('▁', 'g'), ('▁', 'it'), ('▁be', 'tw'), ('▁l', 'o'), ('▁th', 'o'), ('c', 'ess'), ('ic', 's'), ('u', 'ch'), ('▁c', 'ent'), ('▁t', 'r'), ('▁fro', 'm'), ('tr', 'y'), ('▁h', 'a'), ('e', 'st'), ('p', 'er'), ('▁stud', 'y'), ('y', 'p'), ('▁dat', 'a'), ('▁l', 'iv'), ('o', 'od'), ('▁any', 'body'), ('i', 'k'), ('▁t', 'h'), ('▁j', 'o'), ('f', 'er'), ('a', 'b'), ('i', 'll'), ('u', 'gh'), ('▁on', 'to'), ('▁', 'w'), ('a', 'r'), ('▁wor', 'ld'), ('s', 'in'), ('k', 'e'), ('olog', 'y'), ('▁in', 's'), ('▁their', 's'), ('▁tr', 'ans'), ('oth', 'er'), ('▁with', 'out'), ('▁s', 'ystem'), ('▁w', 'as'), ('▁d', 'i'), ('a', 'y'), ('n', 'o'), ('▁so', 'me'), ('▁met', 'h'), ('ti', 'm'), ('os', 'e'), ('▁', \"'s\"), ('t', 'ure'), ('▁who', 'se'), ('▁e', 'm'), ('el', 'l'), ('c', 'o'), ('ak', 'e'), ('▁ro', 'ot'), ('▁b', 'ir'), ('t', 'il'), ('at', 'ing'), ('p', 'ort'), ('a', 'c'), ('▁b', 'ec'), ('or', 'ts'), ('▁l', 'a'), ('▁a', 'n'), ('is', 'm'), ('▁res', 'p'), ('i', 'm'), ('ac', 'y'), ('ce', 'ss'), ('▁qu', 'es'), ('▁g', 'ame'), ('▁g', 'over'), ('▁', 'm'), ('▁o', 'f'), ('▁m', 'om'), ('▁w', 'ar'), ('ve', 'r'), ('al', 'ity'), ('▁f', 'or'), ('▁qu', 'ite'), ('o', 'nd'), ('▁', 'ex'), ('en', 'ti'), ('ac', 'e'), ('ult', 'ure'), ('h', 'e'), ('▁c', 'ol'), ('▁t', 'im'), ('▁', 'le'), ('▁', 'ou'), ('o', 'or'), ('as', 'on'), ('i', 'b'), ('▁every', 'thing'), ('c', 'h'), ('▁a', 'gain'), ('ear', 'ch'), ('▁', 't'), ('e', 'd'), ('▁tim', 'e'), ('i', 'r'), ('▁', 'both'), ('in', 'd'), ('▁', '…'), ('in', 'e'), ('▁durin', 'g'), ('▁b', 'o'), ('▁p', 'o'), ('▁', 'id'), ('▁', '/'), ('in', 'g'), ('▁u', 'nd'), ('a', 'me'), ('▁', 's'), ('l', 'd'), ('▁', 'ne'), ('▁prob', 'lem'), ('at', 'ion'), ('▁n', 'ot'), ('▁', ':'), ('l', 'e'), ('er', 'm'), ('▁', 'is'), ('ti', 'c'), ('it', 'y'), ('▁', '–'), ('▁mo', 'd'), ('is', 'h'), ('▁l', 'oc'), ('▁s', 'u'), ('▁toward', 's'), ('it', 'h'), ('▁', 'p'), ('▁f', 'e'), ('▁d', 'ec'), ('▁[', '..'), ('n', 'ed'), ('a', 'th'), ('ot', 'h'), ('e', 'en'), ('ac', 'k'), ('▁d', 'ay'), ('▁f', 'ac'), ('▁', 'others'), ('an', 'g'), ('▁f', 'iel'), ('c', 'a'), ('▁b', 'r'), ('▁some', 'body'), ('u', 'd'), ('▁t', 'od'), ('o', 'g'), ('▁y', 'a'), ('▁s', 'ide'), ('▁c', 'as'), ('am', 'e'), ('▁peop', 'le'), ('▁con', 'cep'), ('▁', '('), ('e', 'll'), ('i', 'c'), ('▁b', 'y'), ('b', 'o'), ('ec', 'tion'), ('e', 'ither'), ('k', 's'), ('i', 'ed'), ('it', 'ed'), ('i', 'a'), ('ug', 'h'), ('▁minut', 'es'), ('▁d', 'o'), ('▁pro', 'b'), ('ic', 'es'), ('pl', 'ication'), ('a', 'ted'), ('▁through', 'out'), ('▁re', 'c'), ('at', 'h'), ('▁m', 'an'), ('▁no', 'thing'), ('▁ca', 'll'), ('▁s', 'ur'), ('▁wor', 'ds'), ('▁com', 'm'), ('th', 'in'), ('ion', 's'), ('▁te', 'am'), ('▁ab', 'out'), ('▁', 'hal'), ('▁an', 'd'), ('▁d', 'r'), ('▁p', 'a'), ('▁c', 'ar'), ('▁w', 'ith'), ('▁h', 'ist'), ('▁wh', 'at'), ('form', 'ation'), ('er', 'ed'), ('▁', 'ar'), ('▁ques', 'tion'), ('o', 'ur'), ('sel', 'ves'), ('e', 'm'), ('▁e', 'v'), ('▁again', 'st'), ('c', 'ro'), ('v', 'ed'), ('i', 'th'), ('▁w', 'ater'), ('tit', 'u'), ('▁im', 'p'), ('▁', 'wh'), ('▁li', 'ke'), ('▁ex', 'ample'), ('t', 'ic'), ('▁s', 'erv'), ('▁', 'use'), ('▁', 'for'), ('▁the', 'm'), ('▁n', 'ame'), ('▁v', 'ide'), ('▁in', 'd'), ('▁a', 'cro'), ('▁', 'one'), ('▁', 'v'), ('em', 'ent'), ('m', 'ents'), ('r', 'in'), ('▁', 'un'), ('▁comm', 'un'), ('i', 're'), ('▁th', 'at'), ('▁it', 'self'), ('u', 'm'), ('▁', 'in'), ('a', 'nd'), ('▁', 're'), ('ys', 'tem'), ('▁a', 'pp'), ('▁t', 'ak'), ('▁g', 'en'), ('ec', 't'), ('▁a', 'ge'), ('a', 'ss'), ('an', 't'), ('▁s', 'p'), ('en', 't'), ('t', 'ers'), ('o', 'ol'), ('i', 've'), ('▁', 'either'), ('c', 'es'), ('o', 't'), ('an', 's'), ('▁b', 'ro'), ('tion', 's'), ('en', 's'), ('ur', 'e'), ('▁c', 'up'), ('▁b', 'ut'), ('▁wor', 'd'), ('ee', 'n'), ('▁cas', 'e'), ('u', 'b'), ('▁c', 'ulture'), ('o', 'n'), ('o', 's'), ('▁h', 'alf'), ('▁m', 'ar'), ('o', 'ne'), ('▁', 'ever'), ('▁w', 'ay'), ('▁th', 'ing'), ('p', 'r'), ('▁ch', 'ild'), ('or', 'm'), ('i', 'es'), ('o', 'p'), ('e', 'c'), ('▁th', 'ose'), ('▁a', 'd'), ('▁co', 'ur'), ('s', 'ed'), ('e', 'ed'), ('e', 'a'), ('▁throu', 'gh'), ('am', 'p'), ('▁me', 'an'), ('▁u', 'n'), ('▁o', 'p'), ('r', 'i'), ('▁a', 'g'), ('▁pu', 't'), ('▁', 'i'), ('▁sh', 'o'), ('a', 'l'), ('▁wor', 'k'), ('▁', 'qu'), ('▁l', 'ight'), ('▁u', 'p'), ('▁con', 't'), ('▁s', 'ch'), ('▁g', 'ra'), ('o', 'se'), ('▁be', 'cause'), ('▁n', \"'t\"), ('▁con', 's'), ('▁m', 'in'), ('▁', '['), ('▁fr', 'om'), ('▁what', 'ever'), ('u', 'c'), ('▁', '!'), ('or', 'y'), ('q', 'u'), ('▁in', 'ter'), ('▁inter', 'est'), ('▁who', 'm'), ('g', 'e'), ('n', 'ing'), ('i', 'el'), ('▁g', 'o'), ('▁go', 't'), ('▁u', 'se'), ('▁sch', 'ool'), ('ou', 'r'), ('an', 'ce'), ('▁h', 'and'), ('en', 'ce'), ('▁w', 'r'), ('ut', 'h'), ('▁h', 'our'), ('▁v', 'is'), ('se', 'l'), ('▁h', 'ad'), ('igh', 'ts'), ('t', 'or'), ('y', 's'), ('▁e', 'ither'), ('▁', 'en'), ('▁', 'op'), ('▁co', 'n'), ('▁abo', 've'), ('▁r', 'e'), ('t', 'i'), ('▁m', 'et'), ('ic', 'h'), ('▁w', 'h'), ('h', 'in'), ('▁g', 'r'), ('▁a', 'round'), ('w', 'or'), ('▁ex', 'per'), ('▁m', 'or'), ('▁', 'k'), ('il', 'd'), ('ic', 'ation'), (\"'\", 't'), ('▁wit', 'h'), ('▁them', 'selves'), ('▁d', 'es'), ('f', 'orm'), ('ec', 'ts'), ('▁', '—'), ('an', 'ts'), ('e', 're'), ('▁s', 'in'), ('en', 'ts'), ('▁sa', 'id'), (\"'\", 's'), ('u', 'th'), ('v', 'el'), ('▁with', 'in'), ('t', 'e'), ('i', 'l'), ('▁f', 'in'), ('at', 'or'), ('▁a', 'm'), ('e', 've'), ('▁sa', 'y'), ('▁pro', 'cess'), ('▁t', 'ech'), ('▁h', 'im'), ('▁the', 're'), ('▁ch', 'an'), ('▁st', 'r'), ('o', 'v'), ('ur', 'n'), ('▁de', 's'), ('o', 'un'), ('▁s', 'up'), ('▁m', 'e'), ('w', 'it'), ('▁re', 'l'), ('u', 're'), ('▁ro', 'om'), ('▁l', 'and'), ('▁st', 'ep'), ('▁s', 'et'), ('▁a', 't'), ('v', 'ing'), ('▁d', 'at'), ('▁tim', 'es'), ('rou', 'nd'), ('▁you', 'r'), ('▁in', 'c'), ('▁th', 'an'), ('▁s', 'ee'), ('▁b', 'l'), ('▁p', 'l'), ('▁par', 't'), ('▁ou', 'r'), ('▁c', 'o'), ('t', 'w'), ('r', 'o'), ('▁a', 's'), ('ation', 's'), ('ll', 'ow'), ('a', 'n'), ('▁', 'o'), ('▁b', 'u'), ('▁year', 's'), ('▁ha', 've'), ('at', 'e'), ('i', 'ence'), ('tin', 'g'), ('▁a', 'p'), ('▁', '@'), ('▁', '‘'), ('ig', 'h'), ('u', 'ff'), ('at', 'ure'), ('h', 'al'), ('ec', 'ted'), ('for', 'm'), ('id', 'e'), ('u', 'es'), ('le', 'v'), ('▁n', 'ight'), ('▁', 'b'), ('▁k', 'n'), ('et', 'y'), ('▁', 'r'), ('▁s', 'e'), ('▁be', 'yond'), ('▁', 'wit'), ('p', 'ite'), ('h', 'en'), ('b', 'l'), ('d', 's'), ('▁b', 'oth'), ('▁him', 'self'), ('▁u', 'sed'), ('▁a', 'c'), ('r', 'y'), ('e', 'ss'), ('▁', 'y'), ('ir', 'e'), ('▁s', 'ea'), ('an', 'd'), ('▁', 'h'), ('en', 'd'), ('▁v', 'iew'), ('ee', 'd'), ('▁co', 'un'), ('▁ad', 'd'), ('o', 'd'), ('▁her', 'self'), ('▁n', 'o'), ('▁ever', 'y'), ('▁', 'if'), ('al', 'l'), ('▁g', 'ro'), ('▁p', 'r'), ('▁the', 'ory'), ('▁t', 'erm'), ('or', 'ies'), ('▁every', 'body'), ('ia', 'n'), ('s', 'ing'), ('in', 'k'), ('▁', 'to'), ('▁ag', 'ain'), ('▁s', 'k'), ('▁some', 'one'), ('i', 'an'), ('▁', '’'), ('a', 'ce'), ('▁', 'c'), ('▁p', 'h'), ('▁c', 'a'), ('en', 'tion'), ('r', 'a'), ('r', 'ed'), ('▁some', 'thing'), ('b', 'oth'), ('▁', 'a'), ('d', 'ed'), ('t', 's'), ('e', 'l'), ('▁s', '/he'), ('oun', 't'), ('o', 'k'), ('▁l', 'ook'), ('o', 'w'), ('t', 'y'), ('▁the', 'ir'), ('el', 's'), ('d', 'er'), ('w', 's'), ('▁cl', 'ass'), ('a', 'st'), ('▁wan', 't'), ('ro', 'l'), ('▁g', 'ive'), ('▁su', 'ch'), ('▁b', 'ott'), ('k', 'ed'), ('ro', 'u'), ('u', 'l'), ('ti', 'on'), ('ol', 'og'), ('p', 'l'), ('▁a', 're'), ('bo', 'dy'), ('▁no', 'body'), ('▁exp', 'er'), ('a', 'tiv'), ('▁', 'th'), ('t', 'ed'), ('▁', '”'), ('▁h', 'e'), ('f', 'l'), ('igh', 't'), ('▁f', 'o'), ('▁am', 'ong'), ('u', 'rin'), ('▁s', 't'), ('▁m', 'ed'), ('e', 'r'), ('▁h', 'ea'), ('t', 'er'), ('o', 'o'), ('i', 'on'), ('o', 'm'), ('▁', 'sin'), ('i', 'ce'), ('▁c', 're'), ('▁ex', 'cept'), ('ac', 'h'), ('▁', 'on'), ('▁hist', 'ory'), ('▁e', 'ff'), ('▁al', 'l'), ('i', 'z'), ('y', 'ing'), ('▁ar', 'ea'), ('▁le', 'ad'), ('i', 'ted'), ('▁s', 'ub'), ('▁f', 'r'), ('▁your', 's'), ('▁', 'like'), ('a', 'ge'), ('▁on', 'e'), ('l', 'y'), ('▁di', 'ff'), ('▁p', 'ro'), ('ce', 'p'), ('▁ne', 'ar'), ('▁diff', 'er'), ('▁t', 'e'), ('▁st', 'at'), ('u', 'r'), ('▁the', 'y'), ('ec', 'h'), ('▁en', 'd'), ('▁min', 'ut'), ('▁day', 's'), ('r', 'es'), ('at', 'er'), ('▁s', 'c'), ('e', 'ver'), ('ag', 'es'), ('▁our', 'selves'), ('▁g', 'l'), ('a', 'd'), ('le', 'm'), ('▁exper', 'ience'), ('▁', '’s'), ('p', 'h'), ('▁l', 'e'), ('▁und', 'er'), ('▁w', 'om'), ('▁th', 'e'), ('▁m', 'ake'), ('a', 'g'), ('d', 'i'), ('l', 'ik'), ('▁g', 'u'), ('▁s', 'ome'), ('en', 'c'), ('i', 'f'), ('o', 'c'), ('ce', 'pt'), ('m', 'e'), ('▁co', 'm'), ('a', 'il'), ('a', 'tion'), ('▁ca', 'n'), ('▁', '.'), ('e', 'x'), ('▁l', 'angu'), ('▁a', 'll'), ('▁', 'at'), ('▁c', 'ity'), ('▁i', 'n'), ('▁', 'al'), ('▁f', 'orm'), ('▁an', 'y'), ('thin', 'g'), ('m', 'ent'), ('▁a', 'ir'), ('i', 'ti'), ('▁s', 'oc'), ('n', 'd'), ('ad', 'e'), ('▁e', 'ach'), ('n', 'e'), ('▁behin', 'd'), ('▁in', 'formation'), ('▁acro', 'ss'), ('▁wh', 'ich'), ('▁he', 'r'), ('▁ar', 't'), ('▁b', 'us'), ('c', 'e'), ('▁h', 'is'), ('o', 'me'), ('▁', 'em'), ('▁pl', 'ace'), ('▁im', 'age'), ('as', 't'), ('▁any', 'one'), ('ou', 'ld'), ('d', 'ing'), ('g', 'ain'), ('le', 'c'), ('▁d', 'urin'), ('.', '.'), ('as', 's'), ('▁th', 'rou'), ('o', 'th'), ('▁anoth', 'er'), ('▁.', '..'), ('▁.', '.'), ('il', 'ity'), ('▁any', 'thing'), ('▁bas', 'il'), ('i', 'e'), ('it', 'e'), ('sel', 'f'), ('▁w', 'ill'), ('▁c', 'l'), ('i', 'g'), ('▁f', 'am'), ('▁ap', 'p'), ('ou', 't'), ('▁gro', 'up'), ('▁w', 'an'), ('an', 'ds'), ('▁un', 'like'), ('▁', 'l'), ('en', 'ds'), ('▁h', 'as'), ('▁', 'tim'), ('ou', 'n'), ('a', 'm'), ('o', 'ut'), ('y', 'ond'), ('▁', 'u'), ('▁in', 'side'), ('ow', 'n'), ('ect', 's'), ('em', 'a'), ('▁in', 'to'), ('▁at', 't'), ('o', 're'), ('i', 'tion'), ('▁o', 'ut'), ('▁p', 'os'), ('▁fac', 't'), ('▁c', 'om'), ('om', 'e'), ('l', 'ly'), ('ur', 'y'), ('k', 'ing'), ('lik', 'e'), ('▁', ']'), ('al', 'f'), ('▁is', 'l'), ('▁b', 'e'), ('▁p', 'e'), ('▁a', 'b'), ('ca', 'use'), ('t', 'em'), ('in', 'es'), ('▁r', 'ec'), ('▁h', 'ome'), ('▁b', 'it'), ('a', 't'), ('▁a', 'r'), ('t', 'ing'), ('▁n', 'eed'), ('▁gu', 'ys'), ('l', 'es'), ('▁h', 'er'), ('oo', 'd'), ('▁p', 'u'), ('▁coun', 'try'), ('a', 's'), ('ing', 's'), ('il', 'l'), ('▁m', 'em'), ('▁', ';'), ('v', 'e'), ('tic', 's'), ('▁l', 'ife'), ('▁th', 'is'), ('re', 'd'), ('a', 'p'), ('▁al', 'ong'), ('▁n', 'e'), ('on', 'd'), ('i', 'ght'), ('▁c', 'ap'), ('re', 'e'), ('▁', '“'), ('on', 'e'), ('▁o', 'ff'), ('iz', 'ation'), ('▁-', '-'), ('on', 'g'), ('oth', 'ers'), ('▁c', 'r'), ('▁', 'j'), ('▁r', 'o'), ('am', 'es'), ('g', 'r'), ('.', ']'), ('ar', 'd'), ('b', 'e'), ('ith', 'er'), ('enc', 'y'), ('▁qu', 'ality'), ('▁my', 'self'), ('ul', 't'), ('▁v', 'ia'), ('▁aft', 'er'), ('oo', 'k'), ('▁d', 'e'), ('▁c', 'h'), ('▁befor', 'e'), ('ti', 't'), ('▁', \"'\"), ('ow', 'er'), ('g', 'h'), ('▁su', 'b'), ('▁ex', 'p'), ('▁w', 'ere'), ('ie', 'w'), ('d', 'y'), ('▁our', 's'), ('▁e', 'ver'), ('▁', '*'), ('ti', 'n'), ('ig', 'n'), ('▁le', 'g'), ('▁i', 'f'), ('▁per', 'c'), ('t', 'o'), ('▁y', 'ou'), ('es', 't'), ('▁k', 'ind'), ('▁th', 'ink'), ('ve', 's'), ('▁every', 'one'), ('a', 'ch'), ('es', 's'), ('▁ch', 'ar'), ('f', 'f'), ('i', 'le'), ('u', 'nd'), ('▁c', 'an'), ('▁m', 'o'), ('is', 't'), ('▁', 'and'), ('i', 't'), ('▁lo', 'c'), ('▁', 'an'), ('▁to', 'ward'), ('▁inter', 'v'), ('▁m', 'ov'), ('ot', 't'), ('▁dow', 'n'), ('s', 'e'), ('▁famil', 'y'), ('i', 'n'), ('e', 'e'), ('t', 'r'), ('i', 's'), ('it', 's'), ('▁month', 's'), ('▁t', 'ake'), ('▁', 'n'), ('▁e', 'x'), ('▁s', 'ec'), ('at', 'ors'), ('▁langu', 'age'), ('▁s', 'ay'), ('i', 'p'), ('f', 'or'), ('l', 'l'), ('▁it', \"'s\"), ('▁po', 'in'), ('▁m', 'ade'), ('t', 'h'), ('▁re', 's'), ('▁p', 'ol'), ('▁f', 'l'), ('l', 'u'), ('▁d', 'ow'), ('▁fam', 'il'), ('un', 'd'), ('▁st', 'ar'), ('s', 'ide'), ('▁s', 'uch'), ('▁hea', 'd'), ('▁m', 'y'), ('▁ha', 'd'), ('w', 'h'), ('o', 'l'), ('u', 'e'), ('n', 'er'), ('u', 'g'), ('a', 'v'), ('▁v', 'al'), ('us', 'e'), ('er', 's'), ('▁pro', 'duc'), ('o', 'u'), ('▁s', 'o'), ('▁', 'im'), ('▁pe', 'op'), ('▁', '-'), ('▁sp', 'ace'), ('a', 'in'), ('▁', ')'), ('▁d', 'own'), ('ur', 'es'), ('▁h', 'al'), ('iti', 'es'), ('u', 'tion'), ('▁w', 'or'), ('▁w', 'ee'), ('b', 'le'), ('▁c', 'ro'), ('’', 's'), ('▁kn', 'ow'), ('i', 'ch'), ('on', 's'), ('it', 'ch'), ('re', 's'), ('▁pers', 'on'), ('▁c', 'oun'), ('▁', 'ro'), ('▁betw', 'een'), ('or', 'e'), ('▁b', 'as'), ('it', 'er'), ('▁c', 'on'), ('▁', 'be'), ('▁g', 'et'), ('▁n', 'um'), ('▁des', 'pite'), ('▁', 'no'), ('b', 's'), ('d', 'uc'), ('▁go', 'ing'), ('▁un', 'der'), ('▁a', 'ft'), ('▁it', 's'), ('▁l', 'et'), ('a', 'sed'), ('iv', 'ers'), ('i', 'gh'), ('▁le', 't'), ('▁un', 'til'), ('▁s', 'h'), ('ti', 'v'), ('▁d', 'is'), ('▁fri', 'ends'), ('▁fr', 'i'), ('▁hal', 'f')}\n",
      "Total vocab size: 1000\n",
      "{'▁any', '▁ev', '▁fiel', '▁ind', 'ner', '▁it', '▁another', '▁inc', '▁cup', '▁peop', 'ated', '▁language', 'ge', 'itch', 're', '▁one', '▁her', '▁kind', '▁root', 'º', 'av', 'ass', 'hal', '▁ourselves', '▁/', '▁prob', '▁group', 'red', '1', 'ces', '..', 'ected', 'sed', '5', 'for', 'ʒ', 'ne', 'ward', 'b', '•', '▁hal', '▁aft', '°', '²', '▁months', \"▁'\", '▁—', 'u', '▁hour', 'acy', 'up', '=', '▁dec', 'uch', 'ro', '▁su', '▁everything', 'hin', '▁cont', '▁sch', 'oth', 'iew', '▁through', '▁sc', '▁!', 'ak', 'ign', '▁o', 'ear', '▁if', '▁tho', 'ue', '▁around', '▁an', 'side', '▁end', 'round', '▁l', '▁some', '▁time', 'ok', 'ab', 'ted', '▁dow', 'ol', '▁met', '▁for', ']', 'ire', 'els', 'ation', '▁bre', 'ety', '▁water', '▁produc', 'ot', '$', ',', 'enc', '2', '▁culture', 'gh', 'lec', 'ands', '▁pr', '▁vide', '▁vis', '▁fl', '▁art', '!', '▁think', 'il', '▁(', '▁via', '▁bec', '▁famil', 'ig', 'ight', 'h', 'ned', '▁comm', 'ators', 'yp', '▁throu', '±', 'et', 'est', 'ter', '▁month', '▁name', '▁pers', '▁rel', '▁image', 'uth', 'ea', '▁po', '▁see', 'ks', 'cause', '▁j', '▁is', 'ie', '▁video', '▁into', '▁bro', '▁between', '▁ro', 'ain', '▁mo', 'ded', 'ook', '▁down', 'als', '▁at', 'tin', '▁off', '▁such', '▁will', '▁ne', '▁near', '▁experience', 'yond', '▁[', '▁place', '▁fam', '▁ad', 'ʁ', 'lem', ')', '▁the', '▁[...]', 'di', 'o', '▁gr', 'ity', '▁sea', '▁person', '▁put', '▁‘', 'ure', 'ense', 'if', 'iel', 's', '▁onto', 'bl', '-', 'selves', '▁we', '▁quality', '▁ar', 'ory', '▁despite', '[PAD]', '▁itself', 'ld', '▁;', 'air', '▁call', '▁do', '▁somebody', '▁mod', '▁liv', '▁med', '▁or', 'ore', 'fl', '▁himself', 'urn', '▁make', 'ature', 'ked', '[MASK]', '▁sin', '▁before', '▁way', '▁fro', '▁has', 'ome', 'ut', 'lly', 'ip', 'ence', '▁mov', '▁cons', '▁anything', 'fer', '[UNK]', 'res', '_', 'plication', 'ating', '▁show', '▁things', '▁case', 'ds', '▁ag', 'ac', '▁anyone', '▁word', 'ema', '▁sho', 'wor', '▁wit', '—', '▁behind', 'oor', 'other', '▁mor', '▁game', 'x', 'ik', 'r', '▁to', '▁\"', '▁…', 'self', '▁use', '▁find', '▁work', '▁lot', '▁need', '▁isl', '▁would', '▁age', '▁system', 'ay', '▁’s', '▁diff', 'uc', '▁f', 'urin', '▁str', 'der', 'ow', '▁bit', '“', '▁days', \"▁n't\", '&', '▁life', '▁history', '▁minut', '▁und', '▁tech', 'tor', '▁stat', 'ience', 'lev', '▁qu', '▁space', 'ong', '▁neither', 'alf', '▁k', 'ould', 'z', '▁day', '[SEP]', '▁they', '▁thing', '▁these', '▁y', '▁above', '▁bo', 'over', '▁concep', 't', 'ose', \"▁'s\", '’s', '▁cap', 'und', 'ection', '▁since', '▁@', '▁this', '▁those', '▁u', '▁get', 'rou', '▁s/he', 'ugh', 'ason', 'pt', 'ε', '▁except', '▁form', 'ou', 'bo', 'ber', '▁par', '▁man', 'ist', '▁ac', 'ub', 'ght', '▁head', '▁mar', '▁gen', '▁across', 'ting', '▁ou', 'port', '▁pos', 'ate', 'ues', '▁step', '▁com', '▁meth', 'others', 'hen', '▁op', '▁know', \"'t\", '’', '▁ours', '▁let', 'ystem', '▁sp', '▁pe', 'amp', 'ion', 'ens', 'ec', '▁e', '▁their', '▁along', 'ib', 'ud', '▁h', '▁wr', 'uff', 'pl', '▁acro', 'ower', '▁city', '▁all', '▁during', 'ech', 'ake', '▁me', '▁look', 'all', '▁star', 'ti', 'tiv', 'ex', '▁c', '▁there', '▁cent', 'hip', '▁fr', '`', '▁cre', '@', 'ott', '9', '▁child', 'ects', '▁problem', 'ast', 'it', 'form', '▁whom', 'ames', 'me', 'ants', 'tion', 'like', 'ic', '▁“', '▁fo', '▁char', 'an', 'ife', 'm', '▁years', '▁go', '▁both', '▁can', 'ons', '▁ques', '▁', 'er', 'g', '▁comp', '▁tod', '▁al', 'se', 'iz', 'ines', 'n', '▁side', '▁langu', '▁hea', 'tics', '▁class', '[', 'ities', '▁exp', 'β', 'od', 'f', 'ort', 'a', 'iter', '▁in', '▁–', '▁gro', 'um', '▁part', '▁im', 'ath', '▁myself', ';', 'ication', '▁towards', '▁someone', 'oc', '▁cro', '▁tr', '▁col', '▁re', '▁fac', '▁had', '▁id', 'sin', 'erv', 'thing', '▁soc', '▁again', '▁bu', 'ver', '▁over', 've', 'ʃ', '▁g', 'ri', '▁something', 'titu', 'ul', '▁sa', 'ca', '▁said', '▁was', '▁att', 'ness', '▁going', '▁our', 'ited', 'æ', 'l', '▁bus', 'duc', '▁des', 'king', 'use', '▁mean', '▁abo', '▁half', 'bs', ':', 'sing', '▁ho', '(', 'ition', 'thin', '[CLS]', 'ive', '▁rec', '▁who', '▁us', '▁*', '.', '▁words', '▁study', 'eve', '▁by', '▁ca', 'til', '▁want', '▁serv', '▁en', 'i', 'ess', '▁’', '*', '▁hand', '▁perc', '▁ap', 'ə', '▁n', '▁ex', 'iv', '▁family', 'ator', 'out', '▁ya', '▁wee', 'ch', '▁but', '▁,', 'ught', '▁friends', '▁against', 'ution', 'ult', '▁v', '▁stud', 'ism', 'ention', 'per', '▁coun', '▁cr', 'ink', '▁that', 'ish', '▁imp', 'een', 'ell', '▁befor', '▁no', '▁he', '▁about', 'ine', '▁from', '▁term', 'wit', '▁everyone', 'earch', '▁:', '▁cour', '▁after', 'id', 'ments', 'am', '▁so', '▁school', 'our', '4', '▁val', 'ts', 'ag', 'ss', 'in', 'to', '#', '▁team', 'ool', 'op', '▁whose', 'formation', '\"', 'ar', '▁you', 'ury', 'co', '▁whatever', '▁a', '▁am', '▁le', 'ack', 'ance', '▁ins', 'ied', 'nd', 'ame', '▁ph', 'ir', '▁mom', 'ment', 'les', 'tr', 'ans', 'ur', '▁jo', '▁bir', 'no', 'gain', '▁ab', '▁la', '▁be', 'at', '▁-', 'y', 'angu', '▁]', 'en', 'both', '▁poin', '▁everybody', 'ased', 'cept', 'em', '8', '▁area', '▁leg', '▁interest', 'rol', 'ends', 'ount', '▁th', 'ɛ', '▁con', 'ood', '▁kn', '▁disc', '▁behin', 'ings', '▁are', '▁pro', '▁war', '▁guys', 'c', '▁bas', 'its', 'oun', '▁view', '▁bott', 'ra', 'ug', '▁up', '▁min', '▁lead', '▁line', '▁yourself', '▁..', '▁theory', '▁his', '▁beyond', 'vel', '▁times', 'tit', '▁as', 'ies', '▁others', '▁take', 'body', '▁dr', 'eed', 'one', '▁fri', '▁question', 'ble', 'os', 'ee', '▁te', '▁ever', '0', 'ject', 'el', '▁un', '3', 'ˈ', '▁say', '/', '▁de', '▁eff', 'orts', 'ying', '▁gra', '▁today', 'ology', 'ph', 'llow', '▁not', 'igh', '▁br', 'p', 'pr', 'ors', '▁quite', 'ad', '▁she', '▁process', 'ding', 'oo', 'ap', '▁year', '▁nobody', 'is', 'ang', 'ulture', 'pite', '▁set', 'ization', \"'\", '▁minutes', '▁until', 'ories', '▁betw', 'lu', '▁)', \"▁it's\", '6', '▁than', 'ither', '▁nothing', 'ree', '▁rev', '▁toward', 'ep', '▁within', '▁wom', 'ality', '▁of', '▁information', '▁differ', 'ile', 'es', 'ty', '▁country', '▁cas', '▁air', 'ters', '▁m', '▁trans', '▁app', '▁basil', '▁commun', '▁upon', '▁without', 'ility', '▁typ', 'olog', '▁fe', 'ights', '▁sec', '▁per', 'ent', 'orm', 'erm', '▁give', 'ond', 'll', '▁.', '▁car', '▁resp', 'j', '▁night', '▁which', '▁land', 'st', 'sel', 'w', '▁because', '▁di', '▁dat', '▁sub', 'om', 'wh', 'age', '▁theirs', '▁them', 'ild', '▁themselves', 'ids', '▁world', 'ith', 'ard', '▁dis', 'og', 'ater', '▁d', '▁him', 'try', '▁se', 'ick', 'ian', '▁wan', '▁interv', '▁exper', 'ving', 'he', 'iti', '▁s', 'ft', 'or', '▁were', 'ia', '…', '▁people', 'μ', '▁herself', '▁fact', '▁li', '▁t', '▁fin', '▁sur', '▁sup', 'ce', '.]', '▁hist', '▁tim', '▁have', 'either', 'k', 'as', '‘', 'be', 'ations', 'ages', '▁used', '–', 'ys', '▁b', 'enti', '▁inter', 'un', '▁tak', '▁home', 'ativ', 'tem', '▁p', '▁lo', '▁under', 'ant', 'ning', '▁...', 'ɔ', 'on', '▁ha', 'ere', '▁cl', 'v', 'ind', '▁sh', '▁made', 'ed', 'gr', '▁add', '▁?', '▁inside', '▁box', '▁its', 'ice', '7', '▁i', 'ite', '▁out', '▁”', '▁wor', 'ρ', 'ade', '▁anybody', 'cep', '▁sk', 'ions', '▁res', '▁throughout', 'ov', '”', '▁num', '▁yours', 'ke', 'rin', '▁your', 'ace', 'cess', 'ivers', '▁and', '▁gl', 'ich', '▁mem', 'ices', '▁st', '▁gu', '▁with', 'tions', '▁r', '▁tra', 'e', '▁among', '/he', 'ł', 'te', 'ide', 'ency', 'im', 'ɑ', 'ample', '▁gover', '▁got', '▁--', 'ly', 'ures', '▁durin', 'own', 'ics', '▁light', 'ved', '▁method', 'ered', 'ences', 'end', 'us', 'ach', '▁wh', 'tic', '▁bl', 'ture', '▁w', 'ry', '▁unlike', '▁my', '▁like', 'th', '▁example', '▁chan', '▁on', '▁pu', '▁either', '▁anoth', 'dy', '▁pl', '▁number', '▁ch', '▁loc', 'ents', 'ʊ', 'ø', 'ill', 'ect', 'ement', '?', '▁pol', '▁each', \"'s\", 'al', '▁what', 'ers', '▁data', '▁co', '+', 'ws', '▁mon', 'q', '▁[..', 'and', '▁pa', '▁room', 'tw', 'cro', 'tim', '▁every', 'ι', '▁em', 'lik', 'qu', '▁research', 'd', '▁govern', 'ves', 'pp', 'ail', 'ing', 'le', 'ever', 'ff'}\n"
     ]
    }
   ],
   "source": [
    "tokenizers_upos = {}\n",
    "merges_upos = {}\n",
    "vocab_upos = {}\n",
    "vocab_size = 1000\n",
    "special_tokens = [\"[UNK]\", \"[PAD]\", \"[CLS]\", \"[SEP]\", \"[MASK]\"]\n",
    "for upos_tag in upos_tags:\n",
    "    text = data_df[data_df[\"UPOS\"] == upos_tag][\"FORM\"].values.tolist()\n",
    "    tokenizers_upos[upos_tag] = tk.train_tokenizer(text, vocab_size)\n",
    "    vocab_upos[upos_tag], merges_upos[upos_tag] = tk.extract_vocab_and_merges(tokenizers_upos[upos_tag])\n",
    "\n",
    "target_allocation = data_df[\"UPOS\"].value_counts(normalize=True).sort_index() # Sort by index to match upos_tags order\n",
    "vocab_allocation = np.array([5] * len(upos_tags))  # Ensure space for five special tokens\n",
    "\n",
    "vocab_set = set()\n",
    "while len(vocab_set) < vocab_size:\n",
    "    vocab_allocation += tk.assign_proportionally(vocab_allocation, target_allocation, vocab_size - len(vocab_set))\n",
    "    for idx, upos_tag in enumerate(upos_tags):\n",
    "        vocab_set.update(list(vocab_upos[upos_tag])[:vocab_allocation[idx]])\n",
    "\n",
    "merges_set = set()\n",
    "for upos_tag in upos_tags:\n",
    "    for merge in merges_upos[upos_tag]:\n",
    "        if all(token in vocab_set for token in [merge[0], merge[1], merge[0] + merge[1]]):\n",
    "            merges_set.add(merge)\n",
    "\n",
    "print(f\"Total merges: {len(merges_set)}\")\n",
    "print(merges_set)\n",
    "print(f\"Total vocab size: {len(vocab_set)}\")\n",
    "print(vocab_set)"
   ]
  },
  {
   "cell_type": "code",
   "execution_count": null,
   "metadata": {},
   "outputs": [],
   "source": [
    "vocab = {token: idx for idx, token in enumerate(vocab_set)}\n",
    "merges = list(merges_set)"
   ]
  },
  {
   "cell_type": "code",
   "execution_count": null,
   "metadata": {},
   "outputs": [],
   "source": [
    "tokenizer = tokenizers.Tokenizer(tokenizers.models.BPE(\n",
    "    vocab=vocab,\n",
    "    merges=merges,\n",
    "    unk_token=\"[UNK]\",\n",
    "    padding_token=\"[PAD]\",\n",
    "    cls_token=\"[CLS]\",\n",
    "    sep_token=\"[SEP]\",\n",
    "    mask_token=\"[MASK]\",\n",
    "))\n",
    "# Preprocessing\n",
    "tokenizer.normalizer = tokenizers.normalizers.Sequence(\n",
    "    [\n",
    "        tokenizers.normalizers.NFD(),  # Unicode Normalizer\n",
    "        tokenizers.normalizers.Lowercase(),\n",
    "        tokenizers.normalizers.StripAccents(),\n",
    "    ]\n",
    ")\n",
    "tokenizer.pre_tokenizer = tokenizers.pre_tokenizers.Sequence(\n",
    "    [tokenizers.pre_tokenizers.Metaspace()]\n",
    ")\n",
    "\n",
    "# Postprocessing\n",
    "tokenizer.post_processor = tokenizers.processors.TemplateProcessing(\n",
    "    single=f\"[CLS]:0 $A:0 [SEP]:0\",\n",
    "    pair=f\"[CLS]:0 $A:0 [SEP]:0 $B:1 [SEP]:1\",\n",
    "    special_tokens=[\n",
    "        (\"[CLS]\", tokenizer.token_to_id(\"[CLS]\")),\n",
    "        (\"[SEP]\", tokenizer.token_to_id(\"[SEP]\")),\n",
    "    ],\n",
    ")\n",
    "tokenizer.decoder = tokenizers.decoders.Metaspace(replacement=\"▁\")\n",
    "tokenizer.save(r\"Tokenizer jsons/upos_bpe_tokenizer.json\")"
   ]
  },
  {
   "cell_type": "code",
   "execution_count": null,
   "metadata": {},
   "outputs": [],
   "source": [
    "vocab_size = 1000\n",
    "tokenizer = tk.train_tokenizer(data_df[\"FORM\"].values.tolist(), vocab_size)\n",
    "tokenizer.save(r\"Tokenizer jsons/classic_bpe_tokenizer.json\")"
   ]
  },
  {
   "cell_type": "code",
   "execution_count": null,
   "metadata": {},
   "outputs": [
    {
     "data": {
      "application/vnd.plotly.v1+json": {
       "config": {
        "plotlyServerURL": "https://plot.ly"
       },
       "data": [
        {
         "branchvalues": "total",
         "domain": {
          "x": [
           0,
           1
          ],
          "y": [
           0,
           1
          ]
         },
         "hovertemplate": "labels=%{label}<br>total_bill=%{value}<br>parent=%{parent}<br>id=%{id}<extra></extra>",
         "ids": [
          "all/Fri/Dinner/Female",
          "all/Sat/Dinner/Female",
          "all/Sun/Dinner/Female",
          "all/Thur/Dinner/Female",
          "all/Fri/Lunch/Female",
          "all/Thur/Lunch/Female",
          "all/Fri/Dinner/Male",
          "all/Sat/Dinner/Male",
          "all/Sun/Dinner/Male",
          "all/Fri/Lunch/Male",
          "all/Thur/Lunch/Male",
          "all/Fri/Dinner",
          "all/Sat/Dinner",
          "all/Sun/Dinner",
          "all/Thur/Dinner",
          "all/Fri/Lunch",
          "all/Thur/Lunch",
          "all/Fri",
          "all/Sat",
          "all/Sun",
          "all/Thur",
          "all"
         ],
         "labels": [
          "Female",
          "Female",
          "Female",
          "Female",
          "Female",
          "Female",
          "Male",
          "Male",
          "Male",
          "Male",
          "Male",
          "Dinner",
          "Dinner",
          "Dinner",
          "Dinner",
          "Lunch",
          "Lunch",
          "Fri",
          "Sat",
          "Sun",
          "Thur",
          "all"
         ],
         "name": "",
         "parents": [
          "all/Fri/Dinner",
          "all/Sat/Dinner",
          "all/Sun/Dinner",
          "all/Thur/Dinner",
          "all/Fri/Lunch",
          "all/Thur/Lunch",
          "all/Fri/Dinner",
          "all/Sat/Dinner",
          "all/Sun/Dinner",
          "all/Fri/Lunch",
          "all/Thur/Lunch",
          "all/Fri",
          "all/Sat",
          "all/Sun",
          "all/Thur",
          "all/Fri",
          "all/Thur",
          "all",
          "all",
          "all",
          "all",
          ""
         ],
         "root": {
          "color": "lightgrey"
         },
         "type": "treemap",
         "values": [
          71.55,
          551.05,
          357.7,
          18.78,
          55.760000000000005,
          516.11,
          164.41,
          1227.35,
          1269.46,
          34.16,
          561.4399999999999,
          235.96,
          1778.4,
          1627.16,
          18.78,
          89.92,
          1077.55,
          325.88,
          1778.4,
          1627.16,
          1096.33,
          4827.7699999999995
         ]
        }
       ],
       "layout": {
        "legend": {
         "tracegroupgap": 0
        },
        "margin": {
         "b": 25,
         "l": 25,
         "r": 25,
         "t": 50
        },
        "template": {
         "data": {
          "bar": [
           {
            "error_x": {
             "color": "#2a3f5f"
            },
            "error_y": {
             "color": "#2a3f5f"
            },
            "marker": {
             "line": {
              "color": "#E5ECF6",
              "width": 0.5
             },
             "pattern": {
              "fillmode": "overlay",
              "size": 10,
              "solidity": 0.2
             }
            },
            "type": "bar"
           }
          ],
          "barpolar": [
           {
            "marker": {
             "line": {
              "color": "#E5ECF6",
              "width": 0.5
             },
             "pattern": {
              "fillmode": "overlay",
              "size": 10,
              "solidity": 0.2
             }
            },
            "type": "barpolar"
           }
          ],
          "carpet": [
           {
            "aaxis": {
             "endlinecolor": "#2a3f5f",
             "gridcolor": "white",
             "linecolor": "white",
             "minorgridcolor": "white",
             "startlinecolor": "#2a3f5f"
            },
            "baxis": {
             "endlinecolor": "#2a3f5f",
             "gridcolor": "white",
             "linecolor": "white",
             "minorgridcolor": "white",
             "startlinecolor": "#2a3f5f"
            },
            "type": "carpet"
           }
          ],
          "choropleth": [
           {
            "colorbar": {
             "outlinewidth": 0,
             "ticks": ""
            },
            "type": "choropleth"
           }
          ],
          "contour": [
           {
            "colorbar": {
             "outlinewidth": 0,
             "ticks": ""
            },
            "colorscale": [
             [
              0,
              "#0d0887"
             ],
             [
              0.1111111111111111,
              "#46039f"
             ],
             [
              0.2222222222222222,
              "#7201a8"
             ],
             [
              0.3333333333333333,
              "#9c179e"
             ],
             [
              0.4444444444444444,
              "#bd3786"
             ],
             [
              0.5555555555555556,
              "#d8576b"
             ],
             [
              0.6666666666666666,
              "#ed7953"
             ],
             [
              0.7777777777777778,
              "#fb9f3a"
             ],
             [
              0.8888888888888888,
              "#fdca26"
             ],
             [
              1,
              "#f0f921"
             ]
            ],
            "type": "contour"
           }
          ],
          "contourcarpet": [
           {
            "colorbar": {
             "outlinewidth": 0,
             "ticks": ""
            },
            "type": "contourcarpet"
           }
          ],
          "heatmap": [
           {
            "colorbar": {
             "outlinewidth": 0,
             "ticks": ""
            },
            "colorscale": [
             [
              0,
              "#0d0887"
             ],
             [
              0.1111111111111111,
              "#46039f"
             ],
             [
              0.2222222222222222,
              "#7201a8"
             ],
             [
              0.3333333333333333,
              "#9c179e"
             ],
             [
              0.4444444444444444,
              "#bd3786"
             ],
             [
              0.5555555555555556,
              "#d8576b"
             ],
             [
              0.6666666666666666,
              "#ed7953"
             ],
             [
              0.7777777777777778,
              "#fb9f3a"
             ],
             [
              0.8888888888888888,
              "#fdca26"
             ],
             [
              1,
              "#f0f921"
             ]
            ],
            "type": "heatmap"
           }
          ],
          "heatmapgl": [
           {
            "colorbar": {
             "outlinewidth": 0,
             "ticks": ""
            },
            "colorscale": [
             [
              0,
              "#0d0887"
             ],
             [
              0.1111111111111111,
              "#46039f"
             ],
             [
              0.2222222222222222,
              "#7201a8"
             ],
             [
              0.3333333333333333,
              "#9c179e"
             ],
             [
              0.4444444444444444,
              "#bd3786"
             ],
             [
              0.5555555555555556,
              "#d8576b"
             ],
             [
              0.6666666666666666,
              "#ed7953"
             ],
             [
              0.7777777777777778,
              "#fb9f3a"
             ],
             [
              0.8888888888888888,
              "#fdca26"
             ],
             [
              1,
              "#f0f921"
             ]
            ],
            "type": "heatmapgl"
           }
          ],
          "histogram": [
           {
            "marker": {
             "pattern": {
              "fillmode": "overlay",
              "size": 10,
              "solidity": 0.2
             }
            },
            "type": "histogram"
           }
          ],
          "histogram2d": [
           {
            "colorbar": {
             "outlinewidth": 0,
             "ticks": ""
            },
            "colorscale": [
             [
              0,
              "#0d0887"
             ],
             [
              0.1111111111111111,
              "#46039f"
             ],
             [
              0.2222222222222222,
              "#7201a8"
             ],
             [
              0.3333333333333333,
              "#9c179e"
             ],
             [
              0.4444444444444444,
              "#bd3786"
             ],
             [
              0.5555555555555556,
              "#d8576b"
             ],
             [
              0.6666666666666666,
              "#ed7953"
             ],
             [
              0.7777777777777778,
              "#fb9f3a"
             ],
             [
              0.8888888888888888,
              "#fdca26"
             ],
             [
              1,
              "#f0f921"
             ]
            ],
            "type": "histogram2d"
           }
          ],
          "histogram2dcontour": [
           {
            "colorbar": {
             "outlinewidth": 0,
             "ticks": ""
            },
            "colorscale": [
             [
              0,
              "#0d0887"
             ],
             [
              0.1111111111111111,
              "#46039f"
             ],
             [
              0.2222222222222222,
              "#7201a8"
             ],
             [
              0.3333333333333333,
              "#9c179e"
             ],
             [
              0.4444444444444444,
              "#bd3786"
             ],
             [
              0.5555555555555556,
              "#d8576b"
             ],
             [
              0.6666666666666666,
              "#ed7953"
             ],
             [
              0.7777777777777778,
              "#fb9f3a"
             ],
             [
              0.8888888888888888,
              "#fdca26"
             ],
             [
              1,
              "#f0f921"
             ]
            ],
            "type": "histogram2dcontour"
           }
          ],
          "mesh3d": [
           {
            "colorbar": {
             "outlinewidth": 0,
             "ticks": ""
            },
            "type": "mesh3d"
           }
          ],
          "parcoords": [
           {
            "line": {
             "colorbar": {
              "outlinewidth": 0,
              "ticks": ""
             }
            },
            "type": "parcoords"
           }
          ],
          "pie": [
           {
            "automargin": true,
            "type": "pie"
           }
          ],
          "scatter": [
           {
            "fillpattern": {
             "fillmode": "overlay",
             "size": 10,
             "solidity": 0.2
            },
            "type": "scatter"
           }
          ],
          "scatter3d": [
           {
            "line": {
             "colorbar": {
              "outlinewidth": 0,
              "ticks": ""
             }
            },
            "marker": {
             "colorbar": {
              "outlinewidth": 0,
              "ticks": ""
             }
            },
            "type": "scatter3d"
           }
          ],
          "scattercarpet": [
           {
            "marker": {
             "colorbar": {
              "outlinewidth": 0,
              "ticks": ""
             }
            },
            "type": "scattercarpet"
           }
          ],
          "scattergeo": [
           {
            "marker": {
             "colorbar": {
              "outlinewidth": 0,
              "ticks": ""
             }
            },
            "type": "scattergeo"
           }
          ],
          "scattergl": [
           {
            "marker": {
             "colorbar": {
              "outlinewidth": 0,
              "ticks": ""
             }
            },
            "type": "scattergl"
           }
          ],
          "scattermapbox": [
           {
            "marker": {
             "colorbar": {
              "outlinewidth": 0,
              "ticks": ""
             }
            },
            "type": "scattermapbox"
           }
          ],
          "scatterpolar": [
           {
            "marker": {
             "colorbar": {
              "outlinewidth": 0,
              "ticks": ""
             }
            },
            "type": "scatterpolar"
           }
          ],
          "scatterpolargl": [
           {
            "marker": {
             "colorbar": {
              "outlinewidth": 0,
              "ticks": ""
             }
            },
            "type": "scatterpolargl"
           }
          ],
          "scatterternary": [
           {
            "marker": {
             "colorbar": {
              "outlinewidth": 0,
              "ticks": ""
             }
            },
            "type": "scatterternary"
           }
          ],
          "surface": [
           {
            "colorbar": {
             "outlinewidth": 0,
             "ticks": ""
            },
            "colorscale": [
             [
              0,
              "#0d0887"
             ],
             [
              0.1111111111111111,
              "#46039f"
             ],
             [
              0.2222222222222222,
              "#7201a8"
             ],
             [
              0.3333333333333333,
              "#9c179e"
             ],
             [
              0.4444444444444444,
              "#bd3786"
             ],
             [
              0.5555555555555556,
              "#d8576b"
             ],
             [
              0.6666666666666666,
              "#ed7953"
             ],
             [
              0.7777777777777778,
              "#fb9f3a"
             ],
             [
              0.8888888888888888,
              "#fdca26"
             ],
             [
              1,
              "#f0f921"
             ]
            ],
            "type": "surface"
           }
          ],
          "table": [
           {
            "cells": {
             "fill": {
              "color": "#EBF0F8"
             },
             "line": {
              "color": "white"
             }
            },
            "header": {
             "fill": {
              "color": "#C8D4E3"
             },
             "line": {
              "color": "white"
             }
            },
            "type": "table"
           }
          ]
         },
         "layout": {
          "annotationdefaults": {
           "arrowcolor": "#2a3f5f",
           "arrowhead": 0,
           "arrowwidth": 1
          },
          "autotypenumbers": "strict",
          "coloraxis": {
           "colorbar": {
            "outlinewidth": 0,
            "ticks": ""
           }
          },
          "colorscale": {
           "diverging": [
            [
             0,
             "#8e0152"
            ],
            [
             0.1,
             "#c51b7d"
            ],
            [
             0.2,
             "#de77ae"
            ],
            [
             0.3,
             "#f1b6da"
            ],
            [
             0.4,
             "#fde0ef"
            ],
            [
             0.5,
             "#f7f7f7"
            ],
            [
             0.6,
             "#e6f5d0"
            ],
            [
             0.7,
             "#b8e186"
            ],
            [
             0.8,
             "#7fbc41"
            ],
            [
             0.9,
             "#4d9221"
            ],
            [
             1,
             "#276419"
            ]
           ],
           "sequential": [
            [
             0,
             "#0d0887"
            ],
            [
             0.1111111111111111,
             "#46039f"
            ],
            [
             0.2222222222222222,
             "#7201a8"
            ],
            [
             0.3333333333333333,
             "#9c179e"
            ],
            [
             0.4444444444444444,
             "#bd3786"
            ],
            [
             0.5555555555555556,
             "#d8576b"
            ],
            [
             0.6666666666666666,
             "#ed7953"
            ],
            [
             0.7777777777777778,
             "#fb9f3a"
            ],
            [
             0.8888888888888888,
             "#fdca26"
            ],
            [
             1,
             "#f0f921"
            ]
           ],
           "sequentialminus": [
            [
             0,
             "#0d0887"
            ],
            [
             0.1111111111111111,
             "#46039f"
            ],
            [
             0.2222222222222222,
             "#7201a8"
            ],
            [
             0.3333333333333333,
             "#9c179e"
            ],
            [
             0.4444444444444444,
             "#bd3786"
            ],
            [
             0.5555555555555556,
             "#d8576b"
            ],
            [
             0.6666666666666666,
             "#ed7953"
            ],
            [
             0.7777777777777778,
             "#fb9f3a"
            ],
            [
             0.8888888888888888,
             "#fdca26"
            ],
            [
             1,
             "#f0f921"
            ]
           ]
          },
          "colorway": [
           "#636efa",
           "#EF553B",
           "#00cc96",
           "#ab63fa",
           "#FFA15A",
           "#19d3f3",
           "#FF6692",
           "#B6E880",
           "#FF97FF",
           "#FECB52"
          ],
          "font": {
           "color": "#2a3f5f"
          },
          "geo": {
           "bgcolor": "white",
           "lakecolor": "white",
           "landcolor": "#E5ECF6",
           "showlakes": true,
           "showland": true,
           "subunitcolor": "white"
          },
          "hoverlabel": {
           "align": "left"
          },
          "hovermode": "closest",
          "mapbox": {
           "style": "light"
          },
          "paper_bgcolor": "white",
          "plot_bgcolor": "#E5ECF6",
          "polar": {
           "angularaxis": {
            "gridcolor": "white",
            "linecolor": "white",
            "ticks": ""
           },
           "bgcolor": "#E5ECF6",
           "radialaxis": {
            "gridcolor": "white",
            "linecolor": "white",
            "ticks": ""
           }
          },
          "scene": {
           "xaxis": {
            "backgroundcolor": "#E5ECF6",
            "gridcolor": "white",
            "gridwidth": 2,
            "linecolor": "white",
            "showbackground": true,
            "ticks": "",
            "zerolinecolor": "white"
           },
           "yaxis": {
            "backgroundcolor": "#E5ECF6",
            "gridcolor": "white",
            "gridwidth": 2,
            "linecolor": "white",
            "showbackground": true,
            "ticks": "",
            "zerolinecolor": "white"
           },
           "zaxis": {
            "backgroundcolor": "#E5ECF6",
            "gridcolor": "white",
            "gridwidth": 2,
            "linecolor": "white",
            "showbackground": true,
            "ticks": "",
            "zerolinecolor": "white"
           }
          },
          "shapedefaults": {
           "line": {
            "color": "#2a3f5f"
           }
          },
          "ternary": {
           "aaxis": {
            "gridcolor": "white",
            "linecolor": "white",
            "ticks": ""
           },
           "baxis": {
            "gridcolor": "white",
            "linecolor": "white",
            "ticks": ""
           },
           "bgcolor": "#E5ECF6",
           "caxis": {
            "gridcolor": "white",
            "linecolor": "white",
            "ticks": ""
           }
          },
          "title": {
           "x": 0.05
          },
          "xaxis": {
           "automargin": true,
           "gridcolor": "white",
           "linecolor": "white",
           "ticks": "",
           "title": {
            "standoff": 15
           },
           "zerolinecolor": "white",
           "zerolinewidth": 2
          },
          "yaxis": {
           "automargin": true,
           "gridcolor": "white",
           "linecolor": "white",
           "ticks": "",
           "title": {
            "standoff": 15
           },
           "zerolinecolor": "white",
           "zerolinewidth": 2
          }
         }
        }
       }
      }
     },
     "metadata": {},
     "output_type": "display_data"
    }
   ],
   "source": [
    "df = px.data.tips()\n",
    "fig = px.treemap(df, path=[px.Constant(\"all\"), 'day', 'time', 'sex'], values='total_bill')\n",
    "fig.update_traces(root_color=\"lightgrey\")\n",
    "fig.update_layout(margin = dict(t=50, l=25, r=25, b=25))\n",
    "fig.show()"
   ]
  },
  {
   "cell_type": "code",
   "execution_count": null,
   "metadata": {},
   "outputs": [],
   "source": []
  }
 ],
 "metadata": {
  "kernelspec": {
   "display_name": "thesis",
   "language": "python",
   "name": "python3"
  },
  "language_info": {
   "codemirror_mode": {
    "name": "ipython",
    "version": 3
   },
   "file_extension": ".py",
   "mimetype": "text/x-python",
   "name": "python",
   "nbconvert_exporter": "python",
   "pygments_lexer": "ipython3",
   "version": "3.13.2"
  }
 },
 "nbformat": 4,
 "nbformat_minor": 2
}
