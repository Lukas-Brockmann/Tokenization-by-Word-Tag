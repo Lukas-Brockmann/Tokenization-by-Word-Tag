{
 "cells": [
  {
   "cell_type": "code",
   "execution_count": 61,
   "id": "b4ceb2ed",
   "metadata": {},
   "outputs": [],
   "source": [
    "import tokenizers\n",
    "from pathlib import Path\n",
    "import pandas as pd\n",
    "import numpy as np\n",
    "import plotly.express as px"
   ]
  },
  {
   "cell_type": "code",
   "execution_count": 42,
   "id": "ad74ca89",
   "metadata": {},
   "outputs": [],
   "source": [
    "tokenizer_json_path = Path(\"Tokenizer jsons\")\n",
    "upos_bpe_tokenizer = tokenizers.Tokenizer.from_file(str(tokenizer_json_path / \"upos_bpe_tokenizer.json\"))\n",
    "classic_bpe_tokenizer = tokenizers.Tokenizer.from_file(str(tokenizer_json_path / \"classic_bpe_tokenizer.json\"))"
   ]
  },
  {
   "cell_type": "code",
   "execution_count": 71,
   "id": "b33d1d64",
   "metadata": {},
   "outputs": [],
   "source": [
    "upos_bpe_df = pd.DataFrame({'UPOS': True}, index=upos_bpe_tokenizer.get_vocab().keys())\n",
    "classic_bpe_df = pd.DataFrame({'CLASSIC': True}, index=classic_bpe_tokenizer.get_vocab().keys())\n",
    "df = upos_bpe_df.join(classic_bpe_df, how='outer').convert_dtypes().fillna(False)\n",
    "df['COMPARE'] = np.select(\n",
    "    [\n",
    "        df['UPOS'] & df['CLASSIC'],   # Common to both\n",
    "        df['UPOS'],                   # Unique to UPOS\n",
    "        df['CLASSIC']                 # Unique to CLASSIC\n",
    "    ],\n",
    "    [\n",
    "        'BOTH',\n",
    "        'UPOS',\n",
    "        'CLASSIC'\n",
    "    ],\n",
    "    default='NONE'\n",
    ")"
   ]
  },
  {
   "cell_type": "code",
   "execution_count": 123,
   "id": "7b5081ba",
   "metadata": {},
   "outputs": [
    {
     "data": {
      "application/vnd.plotly.v1+json": {
       "config": {
        "plotlyServerURL": "https://plot.ly"
       },
       "data": [
        {
         "branchvalues": "total",
         "customdata": [
          [
           "CLASSIC"
          ],
          [
           "BOTH"
          ],
          [
           "BOTH"
          ],
          [
           "UPOS"
          ],
          [
           "UPOS"
          ],
          [
           "UPOS"
          ],
          [
           "BOTH"
          ],
          [
           "CLASSIC"
          ],
          [
           "CLASSIC"
          ],
          [
           "CLASSIC"
          ],
          [
           "UPOS"
          ],
          [
           "UPOS"
          ],
          [
           "UPOS"
          ],
          [
           "CLASSIC"
          ],
          [
           "CLASSIC"
          ],
          [
           "CLASSIC"
          ],
          [
           "CLASSIC"
          ],
          [
           "CLASSIC"
          ],
          [
           "BOTH"
          ],
          [
           "BOTH"
          ],
          [
           "UPOS"
          ],
          [
           "UPOS"
          ],
          [
           "BOTH"
          ],
          [
           "UPOS"
          ],
          [
           "CLASSIC"
          ],
          [
           "BOTH"
          ],
          [
           "UPOS"
          ],
          [
           "UPOS"
          ],
          [
           "BOTH"
          ],
          [
           "BOTH"
          ],
          [
           "BOTH"
          ],
          [
           "UPOS"
          ],
          [
           "UPOS"
          ],
          [
           "BOTH"
          ],
          [
           "UPOS"
          ],
          [
           "CLASSIC"
          ],
          [
           "UPOS"
          ],
          [
           "CLASSIC"
          ],
          [
           "BOTH"
          ],
          [
           "CLASSIC"
          ],
          [
           "UPOS"
          ],
          [
           "BOTH"
          ],
          [
           "UPOS"
          ],
          [
           "CLASSIC"
          ],
          [
           "UPOS"
          ],
          [
           "UPOS"
          ],
          [
           "BOTH"
          ],
          [
           "CLASSIC"
          ],
          [
           "BOTH"
          ],
          [
           "UPOS"
          ],
          [
           "CLASSIC"
          ],
          [
           "CLASSIC"
          ],
          [
           "UPOS"
          ],
          [
           "CLASSIC"
          ],
          [
           "UPOS"
          ],
          [
           "CLASSIC"
          ],
          [
           "UPOS"
          ],
          [
           "CLASSIC"
          ],
          [
           "UPOS"
          ],
          [
           "BOTH"
          ],
          [
           "BOTH"
          ],
          [
           "CLASSIC"
          ],
          [
           "BOTH"
          ],
          [
           "CLASSIC"
          ],
          [
           "BOTH"
          ],
          [
           "CLASSIC"
          ],
          [
           "CLASSIC"
          ],
          [
           "BOTH"
          ],
          [
           "UPOS"
          ],
          [
           "UPOS"
          ],
          [
           "BOTH"
          ],
          [
           "CLASSIC"
          ],
          [
           "UPOS"
          ],
          [
           "CLASSIC"
          ],
          [
           "BOTH"
          ],
          [
           "BOTH"
          ],
          [
           "BOTH"
          ],
          [
           "CLASSIC"
          ],
          [
           "BOTH"
          ],
          [
           "BOTH"
          ],
          [
           "UPOS"
          ],
          [
           "BOTH"
          ],
          [
           "BOTH"
          ],
          [
           "BOTH"
          ],
          [
           "CLASSIC"
          ],
          [
           "BOTH"
          ],
          [
           "UPOS"
          ],
          [
           "UPOS"
          ],
          [
           "CLASSIC"
          ],
          [
           "CLASSIC"
          ],
          [
           "CLASSIC"
          ],
          [
           "BOTH"
          ],
          [
           "CLASSIC"
          ],
          [
           "UPOS"
          ],
          [
           "BOTH"
          ],
          [
           "UPOS"
          ],
          [
           "BOTH"
          ],
          [
           "CLASSIC"
          ],
          [
           "UPOS"
          ]
         ],
         "domain": {
          "x": [
           0,
           1
          ],
          "y": [
           0,
           1
          ]
         },
         "hovertemplate": "labels=%{label}<br>CATEGORY SIZE=%{value}<br>parent=%{parent}<br>id=%{id}<br>COMPARE=%{customdata[0]}<extra></extra>",
         "ids": [
          "CLASSIC/ational",
          "BOTH/▁exper",
          "BOTH/▁example",
          "UPOS/▁everything",
          "UPOS/▁everyone",
          "UPOS/▁everybody",
          "BOTH/▁every",
          "CLASSIC/▁doing",
          "CLASSIC/▁different",
          "CLASSIC/▁develop",
          "UPOS/▁despite",
          "UPOS/▁culture",
          "UPOS/▁country",
          "CLASSIC/▁count",
          "CLASSIC/▁could",
          "CLASSIC/▁called",
          "CLASSIC/▁differe",
          "CLASSIC/▁betwe",
          "BOTH/▁between",
          "BOTH/ations",
          "UPOS/formation",
          "UPOS/plication",
          "BOTH/▁about",
          "UPOS/▁against",
          "CLASSIC/▁americ",
          "BOTH/▁again",
          "UPOS/▁anybody",
          "UPOS/▁anything",
          "BOTH/▁around",
          "BOTH/▁because",
          "BOTH/▁before",
          "UPOS/▁another",
          "UPOS/▁neither",
          "BOTH/▁people",
          "UPOS/▁nothing",
          "CLASSIC/▁other",
          "UPOS/▁ourselves",
          "CLASSIC/▁partic",
          "BOTH/▁person",
          "CLASSIC/▁really",
          "UPOS/▁problem",
          "BOTH/▁process",
          "UPOS/▁quality",
          "CLASSIC/▁quest",
          "UPOS/▁question",
          "UPOS/▁minutes",
          "BOTH/▁place",
          "CLASSIC/▁little",
          "BOTH/▁light",
          "UPOS/▁language",
          "CLASSIC/▁first",
          "CLASSIC/▁found",
          "UPOS/▁friends",
          "CLASSIC/▁great",
          "UPOS/▁history",
          "CLASSIC/▁however",
          "UPOS/▁experience",
          "CLASSIC/▁includ",
          "UPOS/▁information",
          "BOTH/▁inter",
          "BOTH/▁interest",
          "CLASSIC/▁intern",
          "BOTH/▁langu",
          "CLASSIC/▁import",
          "BOTH/▁things",
          "CLASSIC/▁though",
          "CLASSIC/▁three",
          "BOTH/▁through",
          "UPOS/▁throughout",
          "UPOS/▁towards",
          "BOTH/▁which",
          "CLASSIC/▁univers",
          "UPOS/▁whatever",
          "CLASSIC/▁while",
          "BOTH/▁world",
          "BOTH/▁would",
          "BOTH/▁thing",
          "CLASSIC/▁united",
          "BOTH/▁these",
          "BOTH/▁something",
          "UPOS/▁themselves",
          "BOTH/▁their",
          "BOTH/▁system",
          "BOTH/▁study",
          "CLASSIC/▁still",
          "BOTH/▁years",
          "UPOS/▁someone",
          "UPOS/▁somebody",
          "CLASSIC/▁small",
          "CLASSIC/▁should",
          "CLASSIC/▁scient",
          "BOTH/▁school",
          "CLASSIC/▁right",
          "UPOS/▁research",
          "BOTH/▁there",
          "UPOS/▁yourself",
          "BOTH",
          "CLASSIC",
          "UPOS"
         ],
         "labels": [
          "ational",
          "▁exper",
          "▁example",
          "▁everything",
          "▁everyone",
          "▁everybody",
          "▁every",
          "▁doing",
          "▁different",
          "▁develop",
          "▁despite",
          "▁culture",
          "▁country",
          "▁count",
          "▁could",
          "▁called",
          "▁differe",
          "▁betwe",
          "▁between",
          "ations",
          "formation",
          "plication",
          "▁about",
          "▁against",
          "▁americ",
          "▁again",
          "▁anybody",
          "▁anything",
          "▁around",
          "▁because",
          "▁before",
          "▁another",
          "▁neither",
          "▁people",
          "▁nothing",
          "▁other",
          "▁ourselves",
          "▁partic",
          "▁person",
          "▁really",
          "▁problem",
          "▁process",
          "▁quality",
          "▁quest",
          "▁question",
          "▁minutes",
          "▁place",
          "▁little",
          "▁light",
          "▁language",
          "▁first",
          "▁found",
          "▁friends",
          "▁great",
          "▁history",
          "▁however",
          "▁experience",
          "▁includ",
          "▁information",
          "▁inter",
          "▁interest",
          "▁intern",
          "▁langu",
          "▁import",
          "▁things",
          "▁though",
          "▁three",
          "▁through",
          "▁throughout",
          "▁towards",
          "▁which",
          "▁univers",
          "▁whatever",
          "▁while",
          "▁world",
          "▁would",
          "▁thing",
          "▁united",
          "▁these",
          "▁something",
          "▁themselves",
          "▁their",
          "▁system",
          "▁study",
          "▁still",
          "▁years",
          "▁someone",
          "▁somebody",
          "▁small",
          "▁should",
          "▁scient",
          "▁school",
          "▁right",
          "▁research",
          "▁there",
          "▁yourself",
          "BOTH",
          "CLASSIC",
          "UPOS"
         ],
         "marker": {
          "colors": [
           "orange",
           "green",
           "green",
           "blue",
           "blue",
           "blue",
           "green",
           "orange",
           "orange",
           "orange",
           "blue",
           "blue",
           "blue",
           "orange",
           "orange",
           "orange",
           "orange",
           "orange",
           "green",
           "green",
           "blue",
           "blue",
           "green",
           "blue",
           "orange",
           "green",
           "blue",
           "blue",
           "green",
           "green",
           "green",
           "blue",
           "blue",
           "green",
           "blue",
           "orange",
           "blue",
           "orange",
           "green",
           "orange",
           "blue",
           "green",
           "blue",
           "orange",
           "blue",
           "blue",
           "green",
           "orange",
           "green",
           "blue",
           "orange",
           "orange",
           "blue",
           "orange",
           "blue",
           "orange",
           "blue",
           "orange",
           "blue",
           "green",
           "green",
           "orange",
           "green",
           "orange",
           "green",
           "orange",
           "orange",
           "green",
           "blue",
           "blue",
           "green",
           "orange",
           "blue",
           "orange",
           "green",
           "green",
           "green",
           "orange",
           "green",
           "green",
           "blue",
           "green",
           "green",
           "green",
           "orange",
           "green",
           "blue",
           "blue",
           "orange",
           "orange",
           "orange",
           "green",
           "orange",
           "blue",
           "green",
           "blue",
           "green",
           "orange",
           "blue"
          ]
         },
         "name": "",
         "parents": [
          "CLASSIC",
          "BOTH",
          "BOTH",
          "UPOS",
          "UPOS",
          "UPOS",
          "BOTH",
          "CLASSIC",
          "CLASSIC",
          "CLASSIC",
          "UPOS",
          "UPOS",
          "UPOS",
          "CLASSIC",
          "CLASSIC",
          "CLASSIC",
          "CLASSIC",
          "CLASSIC",
          "BOTH",
          "BOTH",
          "UPOS",
          "UPOS",
          "BOTH",
          "UPOS",
          "CLASSIC",
          "BOTH",
          "UPOS",
          "UPOS",
          "BOTH",
          "BOTH",
          "BOTH",
          "UPOS",
          "UPOS",
          "BOTH",
          "UPOS",
          "CLASSIC",
          "UPOS",
          "CLASSIC",
          "BOTH",
          "CLASSIC",
          "UPOS",
          "BOTH",
          "UPOS",
          "CLASSIC",
          "UPOS",
          "UPOS",
          "BOTH",
          "CLASSIC",
          "BOTH",
          "UPOS",
          "CLASSIC",
          "CLASSIC",
          "UPOS",
          "CLASSIC",
          "UPOS",
          "CLASSIC",
          "UPOS",
          "CLASSIC",
          "UPOS",
          "BOTH",
          "BOTH",
          "CLASSIC",
          "BOTH",
          "CLASSIC",
          "BOTH",
          "CLASSIC",
          "CLASSIC",
          "BOTH",
          "UPOS",
          "UPOS",
          "BOTH",
          "CLASSIC",
          "UPOS",
          "CLASSIC",
          "BOTH",
          "BOTH",
          "BOTH",
          "CLASSIC",
          "BOTH",
          "BOTH",
          "UPOS",
          "BOTH",
          "BOTH",
          "BOTH",
          "CLASSIC",
          "BOTH",
          "UPOS",
          "UPOS",
          "CLASSIC",
          "CLASSIC",
          "CLASSIC",
          "BOTH",
          "CLASSIC",
          "UPOS",
          "BOTH",
          "UPOS",
          "",
          "",
          ""
         ],
         "type": "treemap",
         "values": [
          346,
          654,
          654,
          346,
          346,
          346,
          654,
          346,
          346,
          346,
          346,
          346,
          346,
          346,
          346,
          346,
          346,
          346,
          654,
          654,
          346,
          346,
          654,
          346,
          346,
          654,
          346,
          346,
          654,
          654,
          654,
          346,
          346,
          654,
          346,
          346,
          346,
          346,
          654,
          346,
          346,
          654,
          346,
          346,
          346,
          346,
          654,
          346,
          654,
          346,
          346,
          346,
          346,
          346,
          346,
          346,
          346,
          346,
          346,
          654,
          654,
          346,
          654,
          346,
          654,
          346,
          346,
          654,
          346,
          346,
          654,
          346,
          346,
          346,
          654,
          654,
          654,
          346,
          654,
          654,
          346,
          654,
          654,
          654,
          346,
          654,
          346,
          346,
          346,
          346,
          346,
          654,
          346,
          346,
          654,
          346,
          20928,
          11072,
          11072
         ]
        }
       ],
       "layout": {
        "annotations": [
         {
          "align": "left",
          "font": {
           "color": "black",
           "size": 14
          },
          "showarrow": false,
          "text": "Sized by group size",
          "x": 0,
          "xref": "paper",
          "y": -0.15,
          "yref": "paper"
         }
        ],
        "legend": {
         "tracegroupgap": 0
        },
        "template": {
         "data": {
          "bar": [
           {
            "error_x": {
             "color": "#2a3f5f"
            },
            "error_y": {
             "color": "#2a3f5f"
            },
            "marker": {
             "line": {
              "color": "#E5ECF6",
              "width": 0.5
             },
             "pattern": {
              "fillmode": "overlay",
              "size": 10,
              "solidity": 0.2
             }
            },
            "type": "bar"
           }
          ],
          "barpolar": [
           {
            "marker": {
             "line": {
              "color": "#E5ECF6",
              "width": 0.5
             },
             "pattern": {
              "fillmode": "overlay",
              "size": 10,
              "solidity": 0.2
             }
            },
            "type": "barpolar"
           }
          ],
          "carpet": [
           {
            "aaxis": {
             "endlinecolor": "#2a3f5f",
             "gridcolor": "white",
             "linecolor": "white",
             "minorgridcolor": "white",
             "startlinecolor": "#2a3f5f"
            },
            "baxis": {
             "endlinecolor": "#2a3f5f",
             "gridcolor": "white",
             "linecolor": "white",
             "minorgridcolor": "white",
             "startlinecolor": "#2a3f5f"
            },
            "type": "carpet"
           }
          ],
          "choropleth": [
           {
            "colorbar": {
             "outlinewidth": 0,
             "ticks": ""
            },
            "type": "choropleth"
           }
          ],
          "contour": [
           {
            "colorbar": {
             "outlinewidth": 0,
             "ticks": ""
            },
            "colorscale": [
             [
              0,
              "#0d0887"
             ],
             [
              0.1111111111111111,
              "#46039f"
             ],
             [
              0.2222222222222222,
              "#7201a8"
             ],
             [
              0.3333333333333333,
              "#9c179e"
             ],
             [
              0.4444444444444444,
              "#bd3786"
             ],
             [
              0.5555555555555556,
              "#d8576b"
             ],
             [
              0.6666666666666666,
              "#ed7953"
             ],
             [
              0.7777777777777778,
              "#fb9f3a"
             ],
             [
              0.8888888888888888,
              "#fdca26"
             ],
             [
              1,
              "#f0f921"
             ]
            ],
            "type": "contour"
           }
          ],
          "contourcarpet": [
           {
            "colorbar": {
             "outlinewidth": 0,
             "ticks": ""
            },
            "type": "contourcarpet"
           }
          ],
          "heatmap": [
           {
            "colorbar": {
             "outlinewidth": 0,
             "ticks": ""
            },
            "colorscale": [
             [
              0,
              "#0d0887"
             ],
             [
              0.1111111111111111,
              "#46039f"
             ],
             [
              0.2222222222222222,
              "#7201a8"
             ],
             [
              0.3333333333333333,
              "#9c179e"
             ],
             [
              0.4444444444444444,
              "#bd3786"
             ],
             [
              0.5555555555555556,
              "#d8576b"
             ],
             [
              0.6666666666666666,
              "#ed7953"
             ],
             [
              0.7777777777777778,
              "#fb9f3a"
             ],
             [
              0.8888888888888888,
              "#fdca26"
             ],
             [
              1,
              "#f0f921"
             ]
            ],
            "type": "heatmap"
           }
          ],
          "heatmapgl": [
           {
            "colorbar": {
             "outlinewidth": 0,
             "ticks": ""
            },
            "colorscale": [
             [
              0,
              "#0d0887"
             ],
             [
              0.1111111111111111,
              "#46039f"
             ],
             [
              0.2222222222222222,
              "#7201a8"
             ],
             [
              0.3333333333333333,
              "#9c179e"
             ],
             [
              0.4444444444444444,
              "#bd3786"
             ],
             [
              0.5555555555555556,
              "#d8576b"
             ],
             [
              0.6666666666666666,
              "#ed7953"
             ],
             [
              0.7777777777777778,
              "#fb9f3a"
             ],
             [
              0.8888888888888888,
              "#fdca26"
             ],
             [
              1,
              "#f0f921"
             ]
            ],
            "type": "heatmapgl"
           }
          ],
          "histogram": [
           {
            "marker": {
             "pattern": {
              "fillmode": "overlay",
              "size": 10,
              "solidity": 0.2
             }
            },
            "type": "histogram"
           }
          ],
          "histogram2d": [
           {
            "colorbar": {
             "outlinewidth": 0,
             "ticks": ""
            },
            "colorscale": [
             [
              0,
              "#0d0887"
             ],
             [
              0.1111111111111111,
              "#46039f"
             ],
             [
              0.2222222222222222,
              "#7201a8"
             ],
             [
              0.3333333333333333,
              "#9c179e"
             ],
             [
              0.4444444444444444,
              "#bd3786"
             ],
             [
              0.5555555555555556,
              "#d8576b"
             ],
             [
              0.6666666666666666,
              "#ed7953"
             ],
             [
              0.7777777777777778,
              "#fb9f3a"
             ],
             [
              0.8888888888888888,
              "#fdca26"
             ],
             [
              1,
              "#f0f921"
             ]
            ],
            "type": "histogram2d"
           }
          ],
          "histogram2dcontour": [
           {
            "colorbar": {
             "outlinewidth": 0,
             "ticks": ""
            },
            "colorscale": [
             [
              0,
              "#0d0887"
             ],
             [
              0.1111111111111111,
              "#46039f"
             ],
             [
              0.2222222222222222,
              "#7201a8"
             ],
             [
              0.3333333333333333,
              "#9c179e"
             ],
             [
              0.4444444444444444,
              "#bd3786"
             ],
             [
              0.5555555555555556,
              "#d8576b"
             ],
             [
              0.6666666666666666,
              "#ed7953"
             ],
             [
              0.7777777777777778,
              "#fb9f3a"
             ],
             [
              0.8888888888888888,
              "#fdca26"
             ],
             [
              1,
              "#f0f921"
             ]
            ],
            "type": "histogram2dcontour"
           }
          ],
          "mesh3d": [
           {
            "colorbar": {
             "outlinewidth": 0,
             "ticks": ""
            },
            "type": "mesh3d"
           }
          ],
          "parcoords": [
           {
            "line": {
             "colorbar": {
              "outlinewidth": 0,
              "ticks": ""
             }
            },
            "type": "parcoords"
           }
          ],
          "pie": [
           {
            "automargin": true,
            "type": "pie"
           }
          ],
          "scatter": [
           {
            "fillpattern": {
             "fillmode": "overlay",
             "size": 10,
             "solidity": 0.2
            },
            "type": "scatter"
           }
          ],
          "scatter3d": [
           {
            "line": {
             "colorbar": {
              "outlinewidth": 0,
              "ticks": ""
             }
            },
            "marker": {
             "colorbar": {
              "outlinewidth": 0,
              "ticks": ""
             }
            },
            "type": "scatter3d"
           }
          ],
          "scattercarpet": [
           {
            "marker": {
             "colorbar": {
              "outlinewidth": 0,
              "ticks": ""
             }
            },
            "type": "scattercarpet"
           }
          ],
          "scattergeo": [
           {
            "marker": {
             "colorbar": {
              "outlinewidth": 0,
              "ticks": ""
             }
            },
            "type": "scattergeo"
           }
          ],
          "scattergl": [
           {
            "marker": {
             "colorbar": {
              "outlinewidth": 0,
              "ticks": ""
             }
            },
            "type": "scattergl"
           }
          ],
          "scattermapbox": [
           {
            "marker": {
             "colorbar": {
              "outlinewidth": 0,
              "ticks": ""
             }
            },
            "type": "scattermapbox"
           }
          ],
          "scatterpolar": [
           {
            "marker": {
             "colorbar": {
              "outlinewidth": 0,
              "ticks": ""
             }
            },
            "type": "scatterpolar"
           }
          ],
          "scatterpolargl": [
           {
            "marker": {
             "colorbar": {
              "outlinewidth": 0,
              "ticks": ""
             }
            },
            "type": "scatterpolargl"
           }
          ],
          "scatterternary": [
           {
            "marker": {
             "colorbar": {
              "outlinewidth": 0,
              "ticks": ""
             }
            },
            "type": "scatterternary"
           }
          ],
          "surface": [
           {
            "colorbar": {
             "outlinewidth": 0,
             "ticks": ""
            },
            "colorscale": [
             [
              0,
              "#0d0887"
             ],
             [
              0.1111111111111111,
              "#46039f"
             ],
             [
              0.2222222222222222,
              "#7201a8"
             ],
             [
              0.3333333333333333,
              "#9c179e"
             ],
             [
              0.4444444444444444,
              "#bd3786"
             ],
             [
              0.5555555555555556,
              "#d8576b"
             ],
             [
              0.6666666666666666,
              "#ed7953"
             ],
             [
              0.7777777777777778,
              "#fb9f3a"
             ],
             [
              0.8888888888888888,
              "#fdca26"
             ],
             [
              1,
              "#f0f921"
             ]
            ],
            "type": "surface"
           }
          ],
          "table": [
           {
            "cells": {
             "fill": {
              "color": "#EBF0F8"
             },
             "line": {
              "color": "white"
             }
            },
            "header": {
             "fill": {
              "color": "#C8D4E3"
             },
             "line": {
              "color": "white"
             }
            },
            "type": "table"
           }
          ]
         },
         "layout": {
          "annotationdefaults": {
           "arrowcolor": "#2a3f5f",
           "arrowhead": 0,
           "arrowwidth": 1
          },
          "autotypenumbers": "strict",
          "coloraxis": {
           "colorbar": {
            "outlinewidth": 0,
            "ticks": ""
           }
          },
          "colorscale": {
           "diverging": [
            [
             0,
             "#8e0152"
            ],
            [
             0.1,
             "#c51b7d"
            ],
            [
             0.2,
             "#de77ae"
            ],
            [
             0.3,
             "#f1b6da"
            ],
            [
             0.4,
             "#fde0ef"
            ],
            [
             0.5,
             "#f7f7f7"
            ],
            [
             0.6,
             "#e6f5d0"
            ],
            [
             0.7,
             "#b8e186"
            ],
            [
             0.8,
             "#7fbc41"
            ],
            [
             0.9,
             "#4d9221"
            ],
            [
             1,
             "#276419"
            ]
           ],
           "sequential": [
            [
             0,
             "#0d0887"
            ],
            [
             0.1111111111111111,
             "#46039f"
            ],
            [
             0.2222222222222222,
             "#7201a8"
            ],
            [
             0.3333333333333333,
             "#9c179e"
            ],
            [
             0.4444444444444444,
             "#bd3786"
            ],
            [
             0.5555555555555556,
             "#d8576b"
            ],
            [
             0.6666666666666666,
             "#ed7953"
            ],
            [
             0.7777777777777778,
             "#fb9f3a"
            ],
            [
             0.8888888888888888,
             "#fdca26"
            ],
            [
             1,
             "#f0f921"
            ]
           ],
           "sequentialminus": [
            [
             0,
             "#0d0887"
            ],
            [
             0.1111111111111111,
             "#46039f"
            ],
            [
             0.2222222222222222,
             "#7201a8"
            ],
            [
             0.3333333333333333,
             "#9c179e"
            ],
            [
             0.4444444444444444,
             "#bd3786"
            ],
            [
             0.5555555555555556,
             "#d8576b"
            ],
            [
             0.6666666666666666,
             "#ed7953"
            ],
            [
             0.7777777777777778,
             "#fb9f3a"
            ],
            [
             0.8888888888888888,
             "#fdca26"
            ],
            [
             1,
             "#f0f921"
            ]
           ]
          },
          "colorway": [
           "#636efa",
           "#EF553B",
           "#00cc96",
           "#ab63fa",
           "#FFA15A",
           "#19d3f3",
           "#FF6692",
           "#B6E880",
           "#FF97FF",
           "#FECB52"
          ],
          "font": {
           "color": "#2a3f5f"
          },
          "geo": {
           "bgcolor": "white",
           "lakecolor": "white",
           "landcolor": "#E5ECF6",
           "showlakes": true,
           "showland": true,
           "subunitcolor": "white"
          },
          "hoverlabel": {
           "align": "left"
          },
          "hovermode": "closest",
          "mapbox": {
           "style": "light"
          },
          "paper_bgcolor": "white",
          "plot_bgcolor": "#E5ECF6",
          "polar": {
           "angularaxis": {
            "gridcolor": "white",
            "linecolor": "white",
            "ticks": ""
           },
           "bgcolor": "#E5ECF6",
           "radialaxis": {
            "gridcolor": "white",
            "linecolor": "white",
            "ticks": ""
           }
          },
          "scene": {
           "xaxis": {
            "backgroundcolor": "#E5ECF6",
            "gridcolor": "white",
            "gridwidth": 2,
            "linecolor": "white",
            "showbackground": true,
            "ticks": "",
            "zerolinecolor": "white"
           },
           "yaxis": {
            "backgroundcolor": "#E5ECF6",
            "gridcolor": "white",
            "gridwidth": 2,
            "linecolor": "white",
            "showbackground": true,
            "ticks": "",
            "zerolinecolor": "white"
           },
           "zaxis": {
            "backgroundcolor": "#E5ECF6",
            "gridcolor": "white",
            "gridwidth": 2,
            "linecolor": "white",
            "showbackground": true,
            "ticks": "",
            "zerolinecolor": "white"
           }
          },
          "shapedefaults": {
           "line": {
            "color": "#2a3f5f"
           }
          },
          "ternary": {
           "aaxis": {
            "gridcolor": "white",
            "linecolor": "white",
            "ticks": ""
           },
           "baxis": {
            "gridcolor": "white",
            "linecolor": "white",
            "ticks": ""
           },
           "bgcolor": "#E5ECF6",
           "caxis": {
            "gridcolor": "white",
            "linecolor": "white",
            "ticks": ""
           }
          },
          "title": {
           "x": 0.05
          },
          "xaxis": {
           "automargin": true,
           "gridcolor": "white",
           "linecolor": "white",
           "ticks": "",
           "title": {
            "standoff": 15
           },
           "zerolinecolor": "white",
           "zerolinewidth": 2
          },
          "yaxis": {
           "automargin": true,
           "gridcolor": "white",
           "linecolor": "white",
           "ticks": "",
           "title": {
            "standoff": 15
           },
           "zerolinecolor": "white",
           "zerolinewidth": 2
          }
         }
        },
        "title": {
         "text": "Vocabulary Comparison: UPOS vs CLASSIC"
        }
       }
      }
     },
     "metadata": {},
     "output_type": "display_data"
    }
   ],
   "source": [
    "df_treemap = df.reset_index()\n",
    "df_treemap.rename(columns={'index': 'TOKEN'}, inplace=True)\n",
    "df_treemap['CATEGORY SIZE'] = df_treemap.groupby('COMPARE')['TOKEN'].transform('count')\n",
    "df_treemap['TOKEN LENGTH'] = df_treemap['TOKEN'].str.len()\n",
    "df_treemap.sort_values(by=['TOKEN LENGTH'], ascending=False, inplace=True)\n",
    "# print(df_treemap)\n",
    "\n",
    "max_example_tokens = 32\n",
    "df_treemap = (\n",
    "    df_treemap.groupby('COMPARE')[['TOKEN', 'TOKEN LENGTH', 'COMPARE', 'CATEGORY SIZE']]\n",
    "    .apply(lambda x: x.head(max_example_tokens))\n",
    "    .reset_index(drop=True)\n",
    ")\n",
    "fig = px.treemap(\n",
    "    df_treemap,\n",
    "    path=['COMPARE', 'TOKEN'], \n",
    "    values='CATEGORY SIZE', \n",
    "    color='COMPARE',\n",
    "    color_discrete_map={\n",
    "        'BOTH': 'green',\n",
    "        'UPOS': 'blue',\n",
    "        'CLASSIC': 'orange',\n",
    "        'NONE': 'gray'\n",
    "    },\n",
    "    title=\"Vocabulary Comparison: UPOS vs CLASSIC\"\n",
    ")\n",
    "fig.add_annotation(\n",
    "    text=\"Sized by group size\",  # Subtitle text\n",
    "    xref=\"paper\",  # x and y coordinates relative to the paper (canvas)\n",
    "    yref=\"paper\",\n",
    "    x=0,\n",
    "    y=-0.15, \n",
    "    showarrow=False,\n",
    "    font=dict(size=14, color=\"black\"),\n",
    "    align=\"left\",\n",
    ")\n",
    "fig.show()"
   ]
  },
  {
   "cell_type": "code",
   "execution_count": null,
   "id": "2585296b",
   "metadata": {},
   "outputs": [
    {
     "data": {
      "application/vnd.plotly.v1+json": {
       "config": {
        "plotlyServerURL": "https://plot.ly"
       },
       "data": [
        {
         "branchvalues": "total",
         "customdata": [
          [
           "CLASSIC"
          ],
          [
           "BOTH"
          ],
          [
           "BOTH"
          ],
          [
           "UPOS"
          ],
          [
           "UPOS"
          ],
          [
           "UPOS"
          ],
          [
           "BOTH"
          ],
          [
           "CLASSIC"
          ],
          [
           "CLASSIC"
          ],
          [
           "CLASSIC"
          ],
          [
           "UPOS"
          ],
          [
           "UPOS"
          ],
          [
           "UPOS"
          ],
          [
           "CLASSIC"
          ],
          [
           "CLASSIC"
          ],
          [
           "CLASSIC"
          ],
          [
           "CLASSIC"
          ],
          [
           "CLASSIC"
          ],
          [
           "BOTH"
          ],
          [
           "BOTH"
          ],
          [
           "UPOS"
          ],
          [
           "UPOS"
          ],
          [
           "BOTH"
          ],
          [
           "UPOS"
          ],
          [
           "CLASSIC"
          ],
          [
           "BOTH"
          ],
          [
           "UPOS"
          ],
          [
           "UPOS"
          ],
          [
           "BOTH"
          ],
          [
           "BOTH"
          ],
          [
           "BOTH"
          ],
          [
           "UPOS"
          ],
          [
           "UPOS"
          ],
          [
           "BOTH"
          ],
          [
           "UPOS"
          ],
          [
           "CLASSIC"
          ],
          [
           "UPOS"
          ],
          [
           "CLASSIC"
          ],
          [
           "BOTH"
          ],
          [
           "CLASSIC"
          ],
          [
           "UPOS"
          ],
          [
           "BOTH"
          ],
          [
           "UPOS"
          ],
          [
           "CLASSIC"
          ],
          [
           "UPOS"
          ],
          [
           "UPOS"
          ],
          [
           "BOTH"
          ],
          [
           "CLASSIC"
          ],
          [
           "BOTH"
          ],
          [
           "UPOS"
          ],
          [
           "CLASSIC"
          ],
          [
           "CLASSIC"
          ],
          [
           "UPOS"
          ],
          [
           "CLASSIC"
          ],
          [
           "UPOS"
          ],
          [
           "CLASSIC"
          ],
          [
           "UPOS"
          ],
          [
           "CLASSIC"
          ],
          [
           "UPOS"
          ],
          [
           "BOTH"
          ],
          [
           "BOTH"
          ],
          [
           "CLASSIC"
          ],
          [
           "BOTH"
          ],
          [
           "CLASSIC"
          ],
          [
           "BOTH"
          ],
          [
           "CLASSIC"
          ],
          [
           "CLASSIC"
          ],
          [
           "BOTH"
          ],
          [
           "UPOS"
          ],
          [
           "UPOS"
          ],
          [
           "BOTH"
          ],
          [
           "CLASSIC"
          ],
          [
           "UPOS"
          ],
          [
           "CLASSIC"
          ],
          [
           "BOTH"
          ],
          [
           "BOTH"
          ],
          [
           "BOTH"
          ],
          [
           "CLASSIC"
          ],
          [
           "BOTH"
          ],
          [
           "BOTH"
          ],
          [
           "UPOS"
          ],
          [
           "BOTH"
          ],
          [
           "BOTH"
          ],
          [
           "BOTH"
          ],
          [
           "CLASSIC"
          ],
          [
           "BOTH"
          ],
          [
           "UPOS"
          ],
          [
           "UPOS"
          ],
          [
           "CLASSIC"
          ],
          [
           "CLASSIC"
          ],
          [
           "CLASSIC"
          ],
          [
           "BOTH"
          ],
          [
           "CLASSIC"
          ],
          [
           "UPOS"
          ],
          [
           "BOTH"
          ],
          [
           "UPOS"
          ],
          [
           "BOTH"
          ],
          [
           "CLASSIC"
          ],
          [
           "UPOS"
          ]
         ],
         "domain": {
          "x": [
           0,
           1
          ],
          "y": [
           0,
           1
          ]
         },
         "hovertemplate": "labels=%{label}<br>TOKEN LENGTH=%{value}<br>parent=%{parent}<br>id=%{id}<br>COMPARE=%{customdata[0]}<extra></extra>",
         "ids": [
          "CLASSIC/ational",
          "BOTH/▁exper",
          "BOTH/▁example",
          "UPOS/▁everything",
          "UPOS/▁everyone",
          "UPOS/▁everybody",
          "BOTH/▁every",
          "CLASSIC/▁doing",
          "CLASSIC/▁different",
          "CLASSIC/▁develop",
          "UPOS/▁despite",
          "UPOS/▁culture",
          "UPOS/▁country",
          "CLASSIC/▁count",
          "CLASSIC/▁could",
          "CLASSIC/▁called",
          "CLASSIC/▁differe",
          "CLASSIC/▁betwe",
          "BOTH/▁between",
          "BOTH/ations",
          "UPOS/formation",
          "UPOS/plication",
          "BOTH/▁about",
          "UPOS/▁against",
          "CLASSIC/▁americ",
          "BOTH/▁again",
          "UPOS/▁anybody",
          "UPOS/▁anything",
          "BOTH/▁around",
          "BOTH/▁because",
          "BOTH/▁before",
          "UPOS/▁another",
          "UPOS/▁neither",
          "BOTH/▁people",
          "UPOS/▁nothing",
          "CLASSIC/▁other",
          "UPOS/▁ourselves",
          "CLASSIC/▁partic",
          "BOTH/▁person",
          "CLASSIC/▁really",
          "UPOS/▁problem",
          "BOTH/▁process",
          "UPOS/▁quality",
          "CLASSIC/▁quest",
          "UPOS/▁question",
          "UPOS/▁minutes",
          "BOTH/▁place",
          "CLASSIC/▁little",
          "BOTH/▁light",
          "UPOS/▁language",
          "CLASSIC/▁first",
          "CLASSIC/▁found",
          "UPOS/▁friends",
          "CLASSIC/▁great",
          "UPOS/▁history",
          "CLASSIC/▁however",
          "UPOS/▁experience",
          "CLASSIC/▁includ",
          "UPOS/▁information",
          "BOTH/▁inter",
          "BOTH/▁interest",
          "CLASSIC/▁intern",
          "BOTH/▁langu",
          "CLASSIC/▁import",
          "BOTH/▁things",
          "CLASSIC/▁though",
          "CLASSIC/▁three",
          "BOTH/▁through",
          "UPOS/▁throughout",
          "UPOS/▁towards",
          "BOTH/▁which",
          "CLASSIC/▁univers",
          "UPOS/▁whatever",
          "CLASSIC/▁while",
          "BOTH/▁world",
          "BOTH/▁would",
          "BOTH/▁thing",
          "CLASSIC/▁united",
          "BOTH/▁these",
          "BOTH/▁something",
          "UPOS/▁themselves",
          "BOTH/▁their",
          "BOTH/▁system",
          "BOTH/▁study",
          "CLASSIC/▁still",
          "BOTH/▁years",
          "UPOS/▁someone",
          "UPOS/▁somebody",
          "CLASSIC/▁small",
          "CLASSIC/▁should",
          "CLASSIC/▁scient",
          "BOTH/▁school",
          "CLASSIC/▁right",
          "UPOS/▁research",
          "BOTH/▁there",
          "UPOS/▁yourself",
          "BOTH",
          "CLASSIC",
          "UPOS"
         ],
         "labels": [
          "ational",
          "▁exper",
          "▁example",
          "▁everything",
          "▁everyone",
          "▁everybody",
          "▁every",
          "▁doing",
          "▁different",
          "▁develop",
          "▁despite",
          "▁culture",
          "▁country",
          "▁count",
          "▁could",
          "▁called",
          "▁differe",
          "▁betwe",
          "▁between",
          "ations",
          "formation",
          "plication",
          "▁about",
          "▁against",
          "▁americ",
          "▁again",
          "▁anybody",
          "▁anything",
          "▁around",
          "▁because",
          "▁before",
          "▁another",
          "▁neither",
          "▁people",
          "▁nothing",
          "▁other",
          "▁ourselves",
          "▁partic",
          "▁person",
          "▁really",
          "▁problem",
          "▁process",
          "▁quality",
          "▁quest",
          "▁question",
          "▁minutes",
          "▁place",
          "▁little",
          "▁light",
          "▁language",
          "▁first",
          "▁found",
          "▁friends",
          "▁great",
          "▁history",
          "▁however",
          "▁experience",
          "▁includ",
          "▁information",
          "▁inter",
          "▁interest",
          "▁intern",
          "▁langu",
          "▁import",
          "▁things",
          "▁though",
          "▁three",
          "▁through",
          "▁throughout",
          "▁towards",
          "▁which",
          "▁univers",
          "▁whatever",
          "▁while",
          "▁world",
          "▁would",
          "▁thing",
          "▁united",
          "▁these",
          "▁something",
          "▁themselves",
          "▁their",
          "▁system",
          "▁study",
          "▁still",
          "▁years",
          "▁someone",
          "▁somebody",
          "▁small",
          "▁should",
          "▁scient",
          "▁school",
          "▁right",
          "▁research",
          "▁there",
          "▁yourself",
          "BOTH",
          "CLASSIC",
          "UPOS"
         ],
         "marker": {
          "colors": [
           "orange",
           "green",
           "green",
           "blue",
           "blue",
           "blue",
           "green",
           "orange",
           "orange",
           "orange",
           "blue",
           "blue",
           "blue",
           "orange",
           "orange",
           "orange",
           "orange",
           "orange",
           "green",
           "green",
           "blue",
           "blue",
           "green",
           "blue",
           "orange",
           "green",
           "blue",
           "blue",
           "green",
           "green",
           "green",
           "blue",
           "blue",
           "green",
           "blue",
           "orange",
           "blue",
           "orange",
           "green",
           "orange",
           "blue",
           "green",
           "blue",
           "orange",
           "blue",
           "blue",
           "green",
           "orange",
           "green",
           "blue",
           "orange",
           "orange",
           "blue",
           "orange",
           "blue",
           "orange",
           "blue",
           "orange",
           "blue",
           "green",
           "green",
           "orange",
           "green",
           "orange",
           "green",
           "orange",
           "orange",
           "green",
           "blue",
           "blue",
           "green",
           "orange",
           "blue",
           "orange",
           "green",
           "green",
           "green",
           "orange",
           "green",
           "green",
           "blue",
           "green",
           "green",
           "green",
           "orange",
           "green",
           "blue",
           "blue",
           "orange",
           "orange",
           "orange",
           "green",
           "orange",
           "blue",
           "green",
           "blue",
           "green",
           "orange",
           "blue"
          ]
         },
         "name": "",
         "parents": [
          "CLASSIC",
          "BOTH",
          "BOTH",
          "UPOS",
          "UPOS",
          "UPOS",
          "BOTH",
          "CLASSIC",
          "CLASSIC",
          "CLASSIC",
          "UPOS",
          "UPOS",
          "UPOS",
          "CLASSIC",
          "CLASSIC",
          "CLASSIC",
          "CLASSIC",
          "CLASSIC",
          "BOTH",
          "BOTH",
          "UPOS",
          "UPOS",
          "BOTH",
          "UPOS",
          "CLASSIC",
          "BOTH",
          "UPOS",
          "UPOS",
          "BOTH",
          "BOTH",
          "BOTH",
          "UPOS",
          "UPOS",
          "BOTH",
          "UPOS",
          "CLASSIC",
          "UPOS",
          "CLASSIC",
          "BOTH",
          "CLASSIC",
          "UPOS",
          "BOTH",
          "UPOS",
          "CLASSIC",
          "UPOS",
          "UPOS",
          "BOTH",
          "CLASSIC",
          "BOTH",
          "UPOS",
          "CLASSIC",
          "CLASSIC",
          "UPOS",
          "CLASSIC",
          "UPOS",
          "CLASSIC",
          "UPOS",
          "CLASSIC",
          "UPOS",
          "BOTH",
          "BOTH",
          "CLASSIC",
          "BOTH",
          "CLASSIC",
          "BOTH",
          "CLASSIC",
          "CLASSIC",
          "BOTH",
          "UPOS",
          "UPOS",
          "BOTH",
          "CLASSIC",
          "UPOS",
          "CLASSIC",
          "BOTH",
          "BOTH",
          "BOTH",
          "CLASSIC",
          "BOTH",
          "BOTH",
          "UPOS",
          "BOTH",
          "BOTH",
          "BOTH",
          "CLASSIC",
          "BOTH",
          "UPOS",
          "UPOS",
          "CLASSIC",
          "CLASSIC",
          "CLASSIC",
          "BOTH",
          "CLASSIC",
          "UPOS",
          "BOTH",
          "UPOS",
          "",
          "",
          ""
         ],
         "type": "treemap",
         "values": [
          7,
          6,
          8,
          11,
          9,
          10,
          6,
          6,
          10,
          8,
          8,
          8,
          8,
          6,
          6,
          7,
          8,
          6,
          8,
          6,
          9,
          9,
          6,
          8,
          7,
          6,
          8,
          9,
          7,
          8,
          7,
          8,
          8,
          7,
          8,
          6,
          10,
          7,
          7,
          7,
          8,
          8,
          8,
          6,
          9,
          8,
          6,
          7,
          6,
          9,
          6,
          6,
          8,
          6,
          8,
          8,
          11,
          7,
          12,
          6,
          9,
          7,
          6,
          7,
          7,
          7,
          6,
          8,
          11,
          8,
          6,
          8,
          9,
          6,
          6,
          6,
          6,
          7,
          6,
          10,
          11,
          6,
          7,
          6,
          6,
          6,
          8,
          9,
          6,
          7,
          7,
          7,
          6,
          9,
          6,
          9,
          216,
          217,
          286
         ]
        }
       ],
       "layout": {
        "annotations": [
         {
          "align": "left",
          "font": {
           "color": "black",
           "size": 14
          },
          "showarrow": false,
          "text": "Sized by Token length",
          "x": 0,
          "xref": "paper",
          "y": -0.15,
          "yref": "paper"
         }
        ],
        "legend": {
         "tracegroupgap": 0
        },
        "template": {
         "data": {
          "bar": [
           {
            "error_x": {
             "color": "#2a3f5f"
            },
            "error_y": {
             "color": "#2a3f5f"
            },
            "marker": {
             "line": {
              "color": "#E5ECF6",
              "width": 0.5
             },
             "pattern": {
              "fillmode": "overlay",
              "size": 10,
              "solidity": 0.2
             }
            },
            "type": "bar"
           }
          ],
          "barpolar": [
           {
            "marker": {
             "line": {
              "color": "#E5ECF6",
              "width": 0.5
             },
             "pattern": {
              "fillmode": "overlay",
              "size": 10,
              "solidity": 0.2
             }
            },
            "type": "barpolar"
           }
          ],
          "carpet": [
           {
            "aaxis": {
             "endlinecolor": "#2a3f5f",
             "gridcolor": "white",
             "linecolor": "white",
             "minorgridcolor": "white",
             "startlinecolor": "#2a3f5f"
            },
            "baxis": {
             "endlinecolor": "#2a3f5f",
             "gridcolor": "white",
             "linecolor": "white",
             "minorgridcolor": "white",
             "startlinecolor": "#2a3f5f"
            },
            "type": "carpet"
           }
          ],
          "choropleth": [
           {
            "colorbar": {
             "outlinewidth": 0,
             "ticks": ""
            },
            "type": "choropleth"
           }
          ],
          "contour": [
           {
            "colorbar": {
             "outlinewidth": 0,
             "ticks": ""
            },
            "colorscale": [
             [
              0,
              "#0d0887"
             ],
             [
              0.1111111111111111,
              "#46039f"
             ],
             [
              0.2222222222222222,
              "#7201a8"
             ],
             [
              0.3333333333333333,
              "#9c179e"
             ],
             [
              0.4444444444444444,
              "#bd3786"
             ],
             [
              0.5555555555555556,
              "#d8576b"
             ],
             [
              0.6666666666666666,
              "#ed7953"
             ],
             [
              0.7777777777777778,
              "#fb9f3a"
             ],
             [
              0.8888888888888888,
              "#fdca26"
             ],
             [
              1,
              "#f0f921"
             ]
            ],
            "type": "contour"
           }
          ],
          "contourcarpet": [
           {
            "colorbar": {
             "outlinewidth": 0,
             "ticks": ""
            },
            "type": "contourcarpet"
           }
          ],
          "heatmap": [
           {
            "colorbar": {
             "outlinewidth": 0,
             "ticks": ""
            },
            "colorscale": [
             [
              0,
              "#0d0887"
             ],
             [
              0.1111111111111111,
              "#46039f"
             ],
             [
              0.2222222222222222,
              "#7201a8"
             ],
             [
              0.3333333333333333,
              "#9c179e"
             ],
             [
              0.4444444444444444,
              "#bd3786"
             ],
             [
              0.5555555555555556,
              "#d8576b"
             ],
             [
              0.6666666666666666,
              "#ed7953"
             ],
             [
              0.7777777777777778,
              "#fb9f3a"
             ],
             [
              0.8888888888888888,
              "#fdca26"
             ],
             [
              1,
              "#f0f921"
             ]
            ],
            "type": "heatmap"
           }
          ],
          "heatmapgl": [
           {
            "colorbar": {
             "outlinewidth": 0,
             "ticks": ""
            },
            "colorscale": [
             [
              0,
              "#0d0887"
             ],
             [
              0.1111111111111111,
              "#46039f"
             ],
             [
              0.2222222222222222,
              "#7201a8"
             ],
             [
              0.3333333333333333,
              "#9c179e"
             ],
             [
              0.4444444444444444,
              "#bd3786"
             ],
             [
              0.5555555555555556,
              "#d8576b"
             ],
             [
              0.6666666666666666,
              "#ed7953"
             ],
             [
              0.7777777777777778,
              "#fb9f3a"
             ],
             [
              0.8888888888888888,
              "#fdca26"
             ],
             [
              1,
              "#f0f921"
             ]
            ],
            "type": "heatmapgl"
           }
          ],
          "histogram": [
           {
            "marker": {
             "pattern": {
              "fillmode": "overlay",
              "size": 10,
              "solidity": 0.2
             }
            },
            "type": "histogram"
           }
          ],
          "histogram2d": [
           {
            "colorbar": {
             "outlinewidth": 0,
             "ticks": ""
            },
            "colorscale": [
             [
              0,
              "#0d0887"
             ],
             [
              0.1111111111111111,
              "#46039f"
             ],
             [
              0.2222222222222222,
              "#7201a8"
             ],
             [
              0.3333333333333333,
              "#9c179e"
             ],
             [
              0.4444444444444444,
              "#bd3786"
             ],
             [
              0.5555555555555556,
              "#d8576b"
             ],
             [
              0.6666666666666666,
              "#ed7953"
             ],
             [
              0.7777777777777778,
              "#fb9f3a"
             ],
             [
              0.8888888888888888,
              "#fdca26"
             ],
             [
              1,
              "#f0f921"
             ]
            ],
            "type": "histogram2d"
           }
          ],
          "histogram2dcontour": [
           {
            "colorbar": {
             "outlinewidth": 0,
             "ticks": ""
            },
            "colorscale": [
             [
              0,
              "#0d0887"
             ],
             [
              0.1111111111111111,
              "#46039f"
             ],
             [
              0.2222222222222222,
              "#7201a8"
             ],
             [
              0.3333333333333333,
              "#9c179e"
             ],
             [
              0.4444444444444444,
              "#bd3786"
             ],
             [
              0.5555555555555556,
              "#d8576b"
             ],
             [
              0.6666666666666666,
              "#ed7953"
             ],
             [
              0.7777777777777778,
              "#fb9f3a"
             ],
             [
              0.8888888888888888,
              "#fdca26"
             ],
             [
              1,
              "#f0f921"
             ]
            ],
            "type": "histogram2dcontour"
           }
          ],
          "mesh3d": [
           {
            "colorbar": {
             "outlinewidth": 0,
             "ticks": ""
            },
            "type": "mesh3d"
           }
          ],
          "parcoords": [
           {
            "line": {
             "colorbar": {
              "outlinewidth": 0,
              "ticks": ""
             }
            },
            "type": "parcoords"
           }
          ],
          "pie": [
           {
            "automargin": true,
            "type": "pie"
           }
          ],
          "scatter": [
           {
            "fillpattern": {
             "fillmode": "overlay",
             "size": 10,
             "solidity": 0.2
            },
            "type": "scatter"
           }
          ],
          "scatter3d": [
           {
            "line": {
             "colorbar": {
              "outlinewidth": 0,
              "ticks": ""
             }
            },
            "marker": {
             "colorbar": {
              "outlinewidth": 0,
              "ticks": ""
             }
            },
            "type": "scatter3d"
           }
          ],
          "scattercarpet": [
           {
            "marker": {
             "colorbar": {
              "outlinewidth": 0,
              "ticks": ""
             }
            },
            "type": "scattercarpet"
           }
          ],
          "scattergeo": [
           {
            "marker": {
             "colorbar": {
              "outlinewidth": 0,
              "ticks": ""
             }
            },
            "type": "scattergeo"
           }
          ],
          "scattergl": [
           {
            "marker": {
             "colorbar": {
              "outlinewidth": 0,
              "ticks": ""
             }
            },
            "type": "scattergl"
           }
          ],
          "scattermapbox": [
           {
            "marker": {
             "colorbar": {
              "outlinewidth": 0,
              "ticks": ""
             }
            },
            "type": "scattermapbox"
           }
          ],
          "scatterpolar": [
           {
            "marker": {
             "colorbar": {
              "outlinewidth": 0,
              "ticks": ""
             }
            },
            "type": "scatterpolar"
           }
          ],
          "scatterpolargl": [
           {
            "marker": {
             "colorbar": {
              "outlinewidth": 0,
              "ticks": ""
             }
            },
            "type": "scatterpolargl"
           }
          ],
          "scatterternary": [
           {
            "marker": {
             "colorbar": {
              "outlinewidth": 0,
              "ticks": ""
             }
            },
            "type": "scatterternary"
           }
          ],
          "surface": [
           {
            "colorbar": {
             "outlinewidth": 0,
             "ticks": ""
            },
            "colorscale": [
             [
              0,
              "#0d0887"
             ],
             [
              0.1111111111111111,
              "#46039f"
             ],
             [
              0.2222222222222222,
              "#7201a8"
             ],
             [
              0.3333333333333333,
              "#9c179e"
             ],
             [
              0.4444444444444444,
              "#bd3786"
             ],
             [
              0.5555555555555556,
              "#d8576b"
             ],
             [
              0.6666666666666666,
              "#ed7953"
             ],
             [
              0.7777777777777778,
              "#fb9f3a"
             ],
             [
              0.8888888888888888,
              "#fdca26"
             ],
             [
              1,
              "#f0f921"
             ]
            ],
            "type": "surface"
           }
          ],
          "table": [
           {
            "cells": {
             "fill": {
              "color": "#EBF0F8"
             },
             "line": {
              "color": "white"
             }
            },
            "header": {
             "fill": {
              "color": "#C8D4E3"
             },
             "line": {
              "color": "white"
             }
            },
            "type": "table"
           }
          ]
         },
         "layout": {
          "annotationdefaults": {
           "arrowcolor": "#2a3f5f",
           "arrowhead": 0,
           "arrowwidth": 1
          },
          "autotypenumbers": "strict",
          "coloraxis": {
           "colorbar": {
            "outlinewidth": 0,
            "ticks": ""
           }
          },
          "colorscale": {
           "diverging": [
            [
             0,
             "#8e0152"
            ],
            [
             0.1,
             "#c51b7d"
            ],
            [
             0.2,
             "#de77ae"
            ],
            [
             0.3,
             "#f1b6da"
            ],
            [
             0.4,
             "#fde0ef"
            ],
            [
             0.5,
             "#f7f7f7"
            ],
            [
             0.6,
             "#e6f5d0"
            ],
            [
             0.7,
             "#b8e186"
            ],
            [
             0.8,
             "#7fbc41"
            ],
            [
             0.9,
             "#4d9221"
            ],
            [
             1,
             "#276419"
            ]
           ],
           "sequential": [
            [
             0,
             "#0d0887"
            ],
            [
             0.1111111111111111,
             "#46039f"
            ],
            [
             0.2222222222222222,
             "#7201a8"
            ],
            [
             0.3333333333333333,
             "#9c179e"
            ],
            [
             0.4444444444444444,
             "#bd3786"
            ],
            [
             0.5555555555555556,
             "#d8576b"
            ],
            [
             0.6666666666666666,
             "#ed7953"
            ],
            [
             0.7777777777777778,
             "#fb9f3a"
            ],
            [
             0.8888888888888888,
             "#fdca26"
            ],
            [
             1,
             "#f0f921"
            ]
           ],
           "sequentialminus": [
            [
             0,
             "#0d0887"
            ],
            [
             0.1111111111111111,
             "#46039f"
            ],
            [
             0.2222222222222222,
             "#7201a8"
            ],
            [
             0.3333333333333333,
             "#9c179e"
            ],
            [
             0.4444444444444444,
             "#bd3786"
            ],
            [
             0.5555555555555556,
             "#d8576b"
            ],
            [
             0.6666666666666666,
             "#ed7953"
            ],
            [
             0.7777777777777778,
             "#fb9f3a"
            ],
            [
             0.8888888888888888,
             "#fdca26"
            ],
            [
             1,
             "#f0f921"
            ]
           ]
          },
          "colorway": [
           "#636efa",
           "#EF553B",
           "#00cc96",
           "#ab63fa",
           "#FFA15A",
           "#19d3f3",
           "#FF6692",
           "#B6E880",
           "#FF97FF",
           "#FECB52"
          ],
          "font": {
           "color": "#2a3f5f"
          },
          "geo": {
           "bgcolor": "white",
           "lakecolor": "white",
           "landcolor": "#E5ECF6",
           "showlakes": true,
           "showland": true,
           "subunitcolor": "white"
          },
          "hoverlabel": {
           "align": "left"
          },
          "hovermode": "closest",
          "mapbox": {
           "style": "light"
          },
          "paper_bgcolor": "white",
          "plot_bgcolor": "#E5ECF6",
          "polar": {
           "angularaxis": {
            "gridcolor": "white",
            "linecolor": "white",
            "ticks": ""
           },
           "bgcolor": "#E5ECF6",
           "radialaxis": {
            "gridcolor": "white",
            "linecolor": "white",
            "ticks": ""
           }
          },
          "scene": {
           "xaxis": {
            "backgroundcolor": "#E5ECF6",
            "gridcolor": "white",
            "gridwidth": 2,
            "linecolor": "white",
            "showbackground": true,
            "ticks": "",
            "zerolinecolor": "white"
           },
           "yaxis": {
            "backgroundcolor": "#E5ECF6",
            "gridcolor": "white",
            "gridwidth": 2,
            "linecolor": "white",
            "showbackground": true,
            "ticks": "",
            "zerolinecolor": "white"
           },
           "zaxis": {
            "backgroundcolor": "#E5ECF6",
            "gridcolor": "white",
            "gridwidth": 2,
            "linecolor": "white",
            "showbackground": true,
            "ticks": "",
            "zerolinecolor": "white"
           }
          },
          "shapedefaults": {
           "line": {
            "color": "#2a3f5f"
           }
          },
          "ternary": {
           "aaxis": {
            "gridcolor": "white",
            "linecolor": "white",
            "ticks": ""
           },
           "baxis": {
            "gridcolor": "white",
            "linecolor": "white",
            "ticks": ""
           },
           "bgcolor": "#E5ECF6",
           "caxis": {
            "gridcolor": "white",
            "linecolor": "white",
            "ticks": ""
           }
          },
          "title": {
           "x": 0.05
          },
          "xaxis": {
           "automargin": true,
           "gridcolor": "white",
           "linecolor": "white",
           "ticks": "",
           "title": {
            "standoff": 15
           },
           "zerolinecolor": "white",
           "zerolinewidth": 2
          },
          "yaxis": {
           "automargin": true,
           "gridcolor": "white",
           "linecolor": "white",
           "ticks": "",
           "title": {
            "standoff": 15
           },
           "zerolinecolor": "white",
           "zerolinewidth": 2
          }
         }
        },
        "title": {
         "text": "Vocabulary Comparison: UPOS vs CLASSIC "
        }
       }
      }
     },
     "metadata": {},
     "output_type": "display_data"
    }
   ],
   "source": [
    "df_treemap = df.reset_index()\n",
    "df_treemap.rename(columns={'index': 'TOKEN'}, inplace=True)\n",
    "df_treemap['CATEGORY SIZE'] = df_treemap.groupby('COMPARE')['TOKEN'].transform('count')\n",
    "df_treemap['TOKEN LENGTH'] = df_treemap['TOKEN'].str.len()\n",
    "df_treemap.sort_values(by=['TOKEN LENGTH'], ascending=False, inplace=True)\n",
    "\n",
    "max_example_tokens = 32\n",
    "df_treemap = (\n",
    "    df_treemap.groupby('COMPARE')[['TOKEN', 'TOKEN LENGTH', 'COMPARE', 'CATEGORY SIZE']]\n",
    "    .apply(lambda x: x.head(max_example_tokens))\n",
    "    .reset_index(drop=True)\n",
    ")\n",
    "fig = px.treemap(\n",
    "    df_treemap,\n",
    "    path=['COMPARE', 'TOKEN'], \n",
    "    values='TOKEN LENGTH', \n",
    "    color='COMPARE',\n",
    "    color_discrete_map={\n",
    "        'BOTH': 'green',\n",
    "        'UPOS': 'blue',\n",
    "        'CLASSIC': 'orange',\n",
    "        'NONE': 'gray'\n",
    "    },\n",
    "    title=\"Vocabulary Comparison: UPOS vs CLASSIC \"\n",
    ")\n",
    "fig.add_annotation(\n",
    "    text=\"Sized by Token length\",  # Subtitle text\n",
    "    xref=\"paper\",  # x and y coordinates relative to the paper (canvas)\n",
    "    yref=\"paper\",\n",
    "    x=0,\n",
    "    y=-0.15, \n",
    "    showarrow=False,\n",
    "    font=dict(size=14, color=\"black\"),\n",
    "    align=\"left\",\n",
    ")\n",
    "fig.show()"
   ]
  }
 ],
 "metadata": {
  "kernelspec": {
   "display_name": "thesis",
   "language": "python",
   "name": "python3"
  },
  "language_info": {
   "codemirror_mode": {
    "name": "ipython",
    "version": 3
   },
   "file_extension": ".py",
   "mimetype": "text/x-python",
   "name": "python",
   "nbconvert_exporter": "python",
   "pygments_lexer": "ipython3",
   "version": "3.13.2"
  }
 },
 "nbformat": 4,
 "nbformat_minor": 5
}
