{
 "cells": [
  {
   "cell_type": "code",
   "execution_count": 1,
   "id": "ae767532",
   "metadata": {},
   "outputs": [],
   "source": [
    "from lib import dataloading as dl\n",
    "from lib import tokenizer as tk\n",
    "import pandas as pd\n",
    "from pathlib import Path\n",
    "from tqdm import tqdm"
   ]
  },
  {
   "cell_type": "code",
   "execution_count": 2,
   "id": "dd54158b",
   "metadata": {},
   "outputs": [
    {
     "name": "stdout",
     "output_type": "stream",
     "text": [
      "Dropped 17911 rows with non-UPOS tags \n",
      "Tags dropped: ['_']\n",
      "Dropped 4791 rows with non-UPOS tags \n",
      "Tags dropped: ['_']\n",
      "Dropped 4541 rows with non-UPOS tags \n",
      "Tags dropped: ['_']\n",
      "Dropped 1209 rows with non-UPOS tags \n",
      "Tags dropped: ['_']\n"
     ]
    }
   ],
   "source": [
    "english_train_df = pd.read_csv('D:\\Dropbox\\Bachelorarbeit\\Datasets\\English\\Train\\english_train.csv', dtype={5: str})\n",
    "english_train_df = dl.clear_non_UPOS_tags(english_train_df)\n",
    "english_test_df = pd.read_csv('D:\\Dropbox\\Bachelorarbeit\\Datasets\\English\\Test\\english_test.csv', dtype={5: str})\n",
    "english_test_df = dl.clear_non_UPOS_tags(english_test_df)\n",
    "\n",
    "turkish_train_df = pd.read_csv('D:\\Dropbox\\Bachelorarbeit\\Datasets\\Turkish\\Train\\\\turkish_train.csv', dtype={5: str})\n",
    "turkish_train_df = dl.clear_non_UPOS_tags(turkish_train_df)\n",
    "turkish_test_df = pd.read_csv('D:\\Dropbox\\Bachelorarbeit\\Datasets\\Turkish\\Test\\\\turkish_test.csv', dtype={5: str})\n",
    "turkish_test_df = dl.clear_non_UPOS_tags(turkish_test_df)\n",
    "\n",
    "english_dir = Path(\"D:/Dropbox/Bachelorarbeit/Tokenization by Word Tag/Tokenizers/English\")\n",
    "english_dir.mkdir(parents=True, exist_ok=True)\n",
    "\n",
    "turkish_dir = Path(\"D:/Dropbox/Bachelorarbeit/Tokenization by Word Tag/Tokenizers/Turkish\")\n",
    "turkish_dir.mkdir(parents=True, exist_ok=True)"
   ]
  },
  {
   "cell_type": "code",
   "execution_count": 3,
   "id": "f88cecc5",
   "metadata": {},
   "outputs": [],
   "source": [
    "vocab_sizes = [4096, 8192, 16384]\n",
    "algortihms = [\"BPE\", \"WordPiece\", \"Unigram\"]"
   ]
  },
  {
   "cell_type": "code",
   "execution_count": 4,
   "id": "d2fec5ca",
   "metadata": {},
   "outputs": [
    {
     "name": "stderr",
     "output_type": "stream",
     "text": [
      "Training tokenizer with vocab_size 16384 using the Unigram algorithm: 100%|██████████| 9/9 [00:37<00:00,  4.18s/it]  \n"
     ]
    }
   ],
   "source": [
    "with tqdm(total=len(vocab_sizes) * len(algortihms), desc=\"Training Tokenizers\") as pbar:\n",
    "    for vocab_size in vocab_sizes:\n",
    "        for algorithm in algortihms:\n",
    "            pbar.set_description(f\"Training tokenizer with vocab_size {vocab_size} using the {algorithm} algorithm\")\n",
    "            path = english_dir / f\"upos_{algorithm.lower()}_{vocab_size}_tokenizer.json\"\n",
    "            tokenizer = tk.train_and_merge_tokenizers(\n",
    "                english_train_df,\n",
    "                tokenizer_algorithm=algorithm,\n",
    "                vocab_size=vocab_size,\n",
    "                allocation=\"proportional\",\n",
    "                save_path=str(path)\n",
    "            )\n",
    "            pbar.update(1)"
   ]
  },
  {
   "cell_type": "code",
   "execution_count": 5,
   "id": "f151c633",
   "metadata": {},
   "outputs": [
    {
     "name": "stderr",
     "output_type": "stream",
     "text": [
      "Training tokenizer with vocab_size 16384 using the Unigram algorithm: 100%|██████████| 9/9 [01:01<00:00,  6.88s/it]  \n"
     ]
    }
   ],
   "source": [
    "with tqdm(total=len(vocab_sizes) * len(algortihms), desc=\"Training Tokenizers\") as pbar:\n",
    "    for vocab_size in vocab_sizes:\n",
    "        for algorithm in algortihms:\n",
    "            pbar.set_description(f\"Training tokenizer with vocab_size {vocab_size} using the {algorithm} algorithm\")\n",
    "            path = turkish_dir / f\"upos_{algorithm.lower()}_{vocab_size}_tokenizer.json\"\n",
    "            tokenizer = tk.train_and_merge_tokenizers(\n",
    "                turkish_train_df,\n",
    "                tokenizer_algorithm=algorithm,\n",
    "                vocab_size=vocab_size,\n",
    "                allocation=\"proportional\",\n",
    "                save_path=str(path)\n",
    "            )\n",
    "            pbar.update(1)"
   ]
  }
 ],
 "metadata": {
  "kernelspec": {
   "display_name": "thesis",
   "language": "python",
   "name": "python3"
  },
  "language_info": {
   "codemirror_mode": {
    "name": "ipython",
    "version": 3
   },
   "file_extension": ".py",
   "mimetype": "text/x-python",
   "name": "python",
   "nbconvert_exporter": "python",
   "pygments_lexer": "ipython3",
   "version": "3.10.16"
  }
 },
 "nbformat": 4,
 "nbformat_minor": 5
}
