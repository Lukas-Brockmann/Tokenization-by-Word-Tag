{
 "cells": [
  {
   "cell_type": "code",
   "execution_count": 10,
   "id": "ae767532",
   "metadata": {},
   "outputs": [],
   "source": [
    "from lib import dataloading as dl\n",
    "from lib import tokenizer as tk\n",
    "import pandas as pd\n",
    "from pathlib import Path\n",
    "from tqdm import tqdm"
   ]
  },
  {
   "cell_type": "code",
   "execution_count": 11,
   "id": "dd54158b",
   "metadata": {},
   "outputs": [
    {
     "name": "stdout",
     "output_type": "stream",
     "text": [
      "Dropped 8 rows with NaN in 'FORM' column.\n",
      "Dropped 17911 rows with non-UPOS tags \n",
      "Tags dropped: ['_']\n",
      "Dropped 3 rows with NaN in 'FORM' column.\n",
      "Dropped 4791 rows with non-UPOS tags \n",
      "Tags dropped: ['_']\n",
      "Dropped 6 rows with NaN in 'FORM' column.\n",
      "Dropped 4541 rows with non-UPOS tags \n",
      "Tags dropped: ['_']\n",
      "Dropped 1209 rows with non-UPOS tags \n",
      "Tags dropped: ['_']\n"
     ]
    }
   ],
   "source": [
    "english_train_df = pd.read_csv('D:\\Dropbox\\Bachelorarbeit\\Datasets\\English\\Train\\english_train.csv', dtype={5: str})\n",
    "english_train_df = dl.preprocess(english_train_df, verbose=True)\n",
    "english_test_df = pd.read_csv('D:\\Dropbox\\Bachelorarbeit\\Datasets\\English\\Test\\english_test.csv', dtype={5: str})\n",
    "english_test_df = dl.preprocess(english_test_df, verbose=True)\n",
    "\n",
    "turkish_train_df = pd.read_csv('D:\\Dropbox\\Bachelorarbeit\\Datasets\\Turkish\\Train\\\\turkish_train.csv', dtype={5: str})\n",
    "turkish_train_df = dl.preprocess(turkish_train_df, verbose=True)\n",
    "turkish_test_df = pd.read_csv('D:\\Dropbox\\Bachelorarbeit\\Datasets\\Turkish\\Test\\\\turkish_test.csv', dtype={5: str})\n",
    "turkish_test_df = dl.preprocess(turkish_test_df, verbose=True)\n",
    "\n",
    "english_dir = Path(\"D:/Dropbox/Bachelorarbeit/Tokenization by Word Tag/Tokenizers/English\")\n",
    "english_dir.mkdir(parents=True, exist_ok=True)\n",
    "\n",
    "turkish_dir = Path(\"D:/Dropbox/Bachelorarbeit/Tokenization by Word Tag/Tokenizers/Turkish\")\n",
    "turkish_dir.mkdir(parents=True, exist_ok=True)\n"
   ]
  },
  {
   "cell_type": "code",
   "execution_count": 12,
   "id": "f88cecc5",
   "metadata": {},
   "outputs": [],
   "source": [
    "vocab_sizes = [4096, 8192, 16384]\n",
    "algorithms = [\"BPE\", \"WordPiece\", \"Unigram\"]"
   ]
  },
  {
   "cell_type": "markdown",
   "id": "6fae7203",
   "metadata": {},
   "source": [
    "## All UPOS-tags Tokenizers"
   ]
  },
  {
   "cell_type": "code",
   "execution_count": 13,
   "id": "d2fec5ca",
   "metadata": {},
   "outputs": [
    {
     "name": "stderr",
     "output_type": "stream",
     "text": [
      "Training tokenizer with vocab_size 16384 using the Unigram algorithm: 100%|██████████| 9/9 [00:36<00:00,  4.03s/it]  \n"
     ]
    }
   ],
   "source": [
    "with tqdm(total=len(vocab_sizes) * len(algorithms), desc=\"Training Tokenizers\") as pbar:\n",
    "    for vocab_size in vocab_sizes:\n",
    "        for algorithm in algorithms:\n",
    "            pbar.set_description(f\"Training tokenizer with vocab_size {vocab_size} using the {algorithm} algorithm\")\n",
    "            path = english_dir / f\"upos_{algorithm.lower()}_{vocab_size}_tokenizer.json\"\n",
    "            tokenizer = tk.train_and_merge_tokenizers(\n",
    "                english_train_df,\n",
    "                tokenizer_algorithm=algorithm,\n",
    "                vocab_size=vocab_size,\n",
    "                allocation=\"proportional\",\n",
    "                save_path=str(path)\n",
    "            )\n",
    "            pbar.update(1)"
   ]
  },
  {
   "cell_type": "code",
   "execution_count": 14,
   "id": "f151c633",
   "metadata": {},
   "outputs": [
    {
     "name": "stderr",
     "output_type": "stream",
     "text": [
      "Training tokenizer with vocab_size 16384 using the Unigram algorithm: 100%|██████████| 9/9 [00:56<00:00,  6.33s/it]  \n"
     ]
    }
   ],
   "source": [
    "with tqdm(total=len(vocab_sizes) * len(algorithms), desc=\"Training Tokenizers\") as pbar:\n",
    "    for vocab_size in vocab_sizes:\n",
    "        for algorithm in algorithms:\n",
    "            pbar.set_description(f\"Training tokenizer with vocab_size {vocab_size} using the {algorithm} algorithm\")\n",
    "            path = turkish_dir / f\"upos_{algorithm.lower()}_{vocab_size}_tokenizer.json\"\n",
    "            tokenizer = tk.train_and_merge_tokenizers(\n",
    "                turkish_train_df,\n",
    "                tokenizer_algorithm=algorithm,\n",
    "                vocab_size=vocab_size,\n",
    "                allocation=\"proportional\",\n",
    "                save_path=str(path)\n",
    "            )\n",
    "            pbar.update(1)"
   ]
  },
  {
   "cell_type": "markdown",
   "id": "88f20eca",
   "metadata": {},
   "source": [
    "## Baseline Tokenizers"
   ]
  },
  {
   "cell_type": "code",
   "execution_count": 15,
   "id": "966e1be9",
   "metadata": {},
   "outputs": [
    {
     "name": "stderr",
     "output_type": "stream",
     "text": [
      "Training tokenizer with vocab_size 16384 using the Unigram algorithm: 100%|██████████| 9/9 [00:24<00:00,  2.72s/it]  \n"
     ]
    }
   ],
   "source": [
    "with tqdm(total=len(vocab_sizes) * len(algorithms), desc=\"Training Tokenizers\") as pbar:\n",
    "    for vocab_size in vocab_sizes:\n",
    "        for algorithm in algorithms:\n",
    "            pbar.set_description(f\"Training tokenizer with vocab_size {vocab_size} using the {algorithm} algorithm\")\n",
    "            path = english_dir / f\"base_{algorithm.lower()}_{vocab_size}_tokenizer.json\"\n",
    "            tokenizer = tk.train_tokenizer(\n",
    "                english_train_df[\"FORM\"].values.tolist(),\n",
    "                vocab_size=vocab_size,\n",
    "                algorithm=algorithm,\n",
    "            )\n",
    "            tokenizer.save(str(path))\n",
    "            pbar.update(1)"
   ]
  },
  {
   "cell_type": "code",
   "execution_count": 16,
   "id": "f84a330d",
   "metadata": {},
   "outputs": [
    {
     "name": "stderr",
     "output_type": "stream",
     "text": [
      "Training tokenizer with vocab_size 16384 using the Unigram algorithm: 100%|██████████| 9/9 [01:00<00:00,  6.71s/it]  \n"
     ]
    }
   ],
   "source": [
    "with tqdm(total=len(vocab_sizes) * len(algorithms), desc=\"Training Tokenizers\") as pbar:\n",
    "    for vocab_size in vocab_sizes:\n",
    "        for algorithm in algorithms:\n",
    "            pbar.set_description(f\"Training tokenizer with vocab_size {vocab_size} using the {algorithm} algorithm\")\n",
    "            path = turkish_dir / f\"base_{algorithm.lower()}_{vocab_size}_tokenizer.json\"\n",
    "            tokenizer = tk.train_tokenizer(\n",
    "                turkish_train_df[\"FORM\"].values.tolist(),\n",
    "                vocab_size=vocab_size,\n",
    "                algorithm=algorithm,\n",
    "            )\n",
    "            tokenizer.save(str(path))\n",
    "            pbar.update(1)"
   ]
  },
  {
   "cell_type": "markdown",
   "id": "1cf2da03",
   "metadata": {},
   "source": [
    "## Lexical - Grammatical - Other Tokenizers"
   ]
  },
  {
   "cell_type": "code",
   "execution_count": 17,
   "id": "90c08665",
   "metadata": {},
   "outputs": [],
   "source": [
    "lexical = [\"ADJ\", \"ADV\", \"INTJ\", \"NOUN\", \"PROPN\", \"VERB\"]\n",
    "grammatical = [\"ADP\", \"AUX\", \"CCONJ\", \"DET\", \"NUM\", \"PART\", \"PRON\", \"SCONJ\"]\n",
    "other = [\"PUNCT\", \"SYM\", \"X\"]\n",
    "grouping = [lexical, grammatical, other]\n",
    "allocations = [\"proportional\", \"weighted_proportional\"]\n",
    "allocations_weights = [[2, 1, 1], [1, 2, 1]]\n",
    "allocations_weight_names = [\"lexical\", \"grammatical\"]"
   ]
  },
  {
   "cell_type": "code",
   "execution_count": 18,
   "id": "b64420c0",
   "metadata": {},
   "outputs": [
    {
     "name": "stderr",
     "output_type": "stream",
     "text": [
      "Training tokenizer with vocab_size 16384 using the Unigram algorithm and weighted proportional allocation.: 100%|██████████| 27/27 [01:32<00:00,  3.41s/it]  \n"
     ]
    }
   ],
   "source": [
    "with tqdm(total=int(len(vocab_sizes) * len(algorithms) * 1.5 * len(allocations)), desc=\"Training Tokenizers\") as pbar:\n",
    "    # Allocation proportional\n",
    "    for vocab_size in vocab_sizes:\n",
    "        for algorithm in algorithms:\n",
    "            pbar.set_description(f\"Training tokenizer with vocab_size {vocab_size} using the {algorithm} algorithm and proportional allocation.\")\n",
    "            path = english_dir / f\"lego_{algorithm.lower()}_{vocab_size}_proportional_tokenizer.json\"\n",
    "            tokenizer = tk.train_and_merge_tokenizers(\n",
    "                english_train_df,\n",
    "                tokenizer_algorithm=algorithm,\n",
    "                vocab_size=vocab_size,\n",
    "                allocation='proportional',\n",
    "                grouping=grouping,\n",
    "                save_path=str(path)\n",
    "            )\n",
    "            pbar.update(1)\n",
    "    # Allocation weighted proportional\n",
    "    for favored, weights in enumerate(allocations_weights):\n",
    "        for vocab_size in vocab_sizes:\n",
    "            for algorithm in algorithms:\n",
    "                favored = 'lexical' if favored == 0 else 'grammatical'\n",
    "                pbar.set_description(f\"Training tokenizer with vocab_size {vocab_size} using the {algorithm} algorithm and weighted proportional allocation.\")\n",
    "                path = english_dir / f\"lego_{algorithm.lower()}_{vocab_size}_{favored}_weightedproportional_tokenizer.json\"\n",
    "                tokenizer = tk.train_and_merge_tokenizers(\n",
    "                    english_train_df,\n",
    "                    tokenizer_algorithm=algorithm,\n",
    "                    vocab_size=vocab_size,\n",
    "                    allocation='weighted_proportional',\n",
    "                    allocation_weights=weights,\n",
    "                    grouping=grouping,\n",
    "                    save_path=str(path)\n",
    "                )\n",
    "                pbar.update(1)"
   ]
  },
  {
   "cell_type": "code",
   "execution_count": 19,
   "id": "8321b426",
   "metadata": {},
   "outputs": [
    {
     "name": "stderr",
     "output_type": "stream",
     "text": [
      "Training tokenizer with vocab_size 16384 using the Unigram algorithm and weighted proportional allocation.: 100%|██████████| 27/27 [03:01<00:00,  6.70s/it]  \n"
     ]
    }
   ],
   "source": [
    "with tqdm(total=int(len(vocab_sizes) * len(algorithms) * 1.5 * len(allocations)), desc=\"Training Tokenizers\") as pbar:\n",
    "    # Allocation proportional\n",
    "    for vocab_size in vocab_sizes:\n",
    "            for algorithm in algorithms:\n",
    "                pbar.set_description(f\"Training tokenizer with vocab_size {vocab_size} using the {algorithm} algorithm and proportional allocation.\")\n",
    "                path = turkish_dir / f\"lego_{algorithm.lower()}_{vocab_size}_proportional_tokenizer.json\"\n",
    "                tokenizer = tk.train_and_merge_tokenizers(\n",
    "                    turkish_train_df,\n",
    "                    tokenizer_algorithm=algorithm,\n",
    "                    vocab_size=vocab_size,\n",
    "                    allocation='proportional',\n",
    "                    grouping=grouping,\n",
    "                    save_path=str(path)\n",
    "                )\n",
    "                pbar.update(1)\n",
    "    # Allocation weighted proportional\n",
    "    for favored, weights in enumerate(allocations_weights):\n",
    "        for vocab_size in vocab_sizes:\n",
    "            for algorithm in algorithms:\n",
    "                favored = 'lexical' if favored == 0 else 'grammatical'\n",
    "                pbar.set_description(f\"Training tokenizer with vocab_size {vocab_size} using the {algorithm} algorithm and weighted proportional allocation.\")\n",
    "                path = turkish_dir / f\"lego_{algorithm.lower()}_{vocab_size}_{favored}_weightedproportional_tokenizer.json\"\n",
    "                tokenizer = tk.train_and_merge_tokenizers(\n",
    "                    turkish_train_df,\n",
    "                    tokenizer_algorithm=algorithm,\n",
    "                    vocab_size=vocab_size,\n",
    "                    allocation='weighted_proportional',\n",
    "                    allocation_weights=weights,\n",
    "                    grouping=grouping,\n",
    "                    save_path=str(path)\n",
    "                )\n",
    "                pbar.update(1)"
   ]
  }
 ],
 "metadata": {
  "kernelspec": {
   "display_name": "thesis",
   "language": "python",
   "name": "python3"
  },
  "language_info": {
   "codemirror_mode": {
    "name": "ipython",
    "version": 3
   },
   "file_extension": ".py",
   "mimetype": "text/x-python",
   "name": "python",
   "nbconvert_exporter": "python",
   "pygments_lexer": "ipython3",
   "version": "3.10.16"
  }
 },
 "nbformat": 4,
 "nbformat_minor": 5
}
