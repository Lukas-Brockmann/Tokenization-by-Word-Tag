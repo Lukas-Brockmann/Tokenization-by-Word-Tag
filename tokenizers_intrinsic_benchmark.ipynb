{
 "cells": [
  {
   "cell_type": "code",
   "execution_count": 1,
   "id": "4b144bbd",
   "metadata": {},
   "outputs": [],
   "source": [
    "import os\n",
    "import tokenizers\n",
    "import tokenization_scorer\n",
    "import datasets\n",
    "from lib import dataloading as dl\n",
    "from lib import tokenizer as tk\n",
    "import pandas as pd\n",
    "from pathlib import Path\n",
    "import ast\n",
    "\n",
    "import sys\n",
    "sys.path.append(r\"D:\\Dropbox\\Bachlorarbeit\\tokenizers_intrinsic_benchmark-main\")\n",
    "from benchmark_objects import BenchmarkTokenizer"
   ]
  },
  {
   "cell_type": "code",
   "execution_count": 2,
   "id": "474870c3",
   "metadata": {},
   "outputs": [],
   "source": [
    "tokenizer = BenchmarkTokenizer(r\"D:\\Dropbox\\Bachlorarbeit\\Tokenization by Word Tag\\Intrinsic Benchmark Tokenisers\\bpe_40960.json\")"
   ]
  },
  {
   "cell_type": "code",
   "execution_count": 3,
   "id": "42488228",
   "metadata": {},
   "outputs": [
    {
     "name": "stdout",
     "output_type": "stream",
     "text": [
      "prefix_space Ġ\n",
      "heartache ['Ġheart', 'ache'] ['Ġheart', 'ache'] [6] [6]\n",
      "prefix_space Ġ\n",
      "yellowest ['Ġyellow', 'est'] ['Ġyellow', 'est'] [7] [7]\n",
      "prefix_space Ġ\n",
      "abeam ['Ġa', 'beam'] ['Ġab', 'e', 'am'] [2] [3, 4]\n",
      "prefix_space Ġ\n",
      "unheap ['Ġun', 'heap'] ['Ġun', 'heap'] [3] [3]\n",
      "prefix_space Ġ\n",
      "administerings ['Ġadministering', 's'] ['Ġadminister', 'ings'] [14] [11]\n",
      "prefix_space Ġ\n",
      "eggceptional ['Ġe', 'gg', 'ception', 'al'] ['Ġegg', 'ception', 'al'] [2, 4, 11] [4, 11]\n",
      "prefix_space Ġ\n",
      "thumbmark ['Ġthumb', 'mark'] ['Ġthumb', 'mark'] [6] [6]\n"
     ]
    }
   ],
   "source": [
    "from Intrinsic_measures import ling, ling_utils\n",
    "df = pd.read_csv(r\"D:\\Dropbox\\Bachlorarbeit\\tokenizers_intrinsic_benchmark-main\\Resources\\en\\ling\\combined_resources.csv\", sep=\",\")\n",
    "df['Gold_standard_segmentation'] = df['Gold_standard_segmentation'].apply(ast.literal_eval)\n",
    "datasets = [\"Ladec\", \"MorphoLex\", \"MorphyNet\", \"Dago_Bert\", \"UniMorph\", \"UnBlend\", \"CompoundPiece\"]\n",
    "coverage = {}\n",
    "avg_f1 = 0\n",
    "for dataset in datasets:\n",
    "    curr_coverage = ling_utils.get_seg_coverage(df.loc[df['Origin'] == dataset], tokenizer)\n",
    "    avg_f1 += curr_coverage['f1']\n",
    "    curr_coverage = {dataset + \"_\" + key: val for key, val in curr_coverage.items()}\n",
    "    coverage.update(curr_coverage)\n",
    "coverage[\"avg_f1\"] = avg_f1 / len(datasets)"
   ]
  },
  {
   "cell_type": "code",
   "execution_count": 4,
   "id": "4c94a6fb",
   "metadata": {},
   "outputs": [
    {
     "data": {
      "text/plain": [
       "{'Ladec_f1': 0.8159710439995476,\n",
       " 'MorphoLex_f1': 0.6780653316479276,\n",
       " 'MorphyNet_f1': 0.6132011239079777,\n",
       " 'Dago_Bert_f1': 0.6195143785186615,\n",
       " 'UniMorph_f1': 0.32333746385790996,\n",
       " 'UnBlend_f1': 0.6096997690531177,\n",
       " 'CompoundPiece_f1': 0.7567892875949748,\n",
       " 'avg_f1': 0.630939771225731}"
      ]
     },
     "execution_count": 4,
     "metadata": {},
     "output_type": "execute_result"
    }
   ],
   "source": [
    "coverage"
   ]
  }
 ],
 "metadata": {
  "kernelspec": {
   "display_name": "thesis",
   "language": "python",
   "name": "python3"
  },
  "language_info": {
   "codemirror_mode": {
    "name": "ipython",
    "version": 3
   },
   "file_extension": ".py",
   "mimetype": "text/x-python",
   "name": "python",
   "nbconvert_exporter": "python",
   "pygments_lexer": "ipython3",
   "version": "3.13.2"
  }
 },
 "nbformat": 4,
 "nbformat_minor": 5
}
