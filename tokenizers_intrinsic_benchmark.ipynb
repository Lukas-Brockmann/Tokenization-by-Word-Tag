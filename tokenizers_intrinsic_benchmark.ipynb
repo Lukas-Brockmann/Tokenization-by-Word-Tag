{
 "cells": [
  {
   "cell_type": "code",
   "execution_count": 1,
   "id": "4b144bbd",
   "metadata": {},
   "outputs": [],
   "source": [
    "import os\n",
    "import tokenizers\n",
    "import tokenization_scorer\n",
    "import datasets\n",
    "from lib import dataloading as dl\n",
    "from lib import tokenizer as tk\n",
    "import pandas as pd\n",
    "from pathlib import Path\n",
    "import ast\n",
    "import subprocess\n",
    "\n",
    "import sys\n",
    "sys.path.append(\"D:\\\\Dropbox\\\\Bachelorarbeit\\\\tokenizers_intrinsic_benchmark-main\")\n",
    "from benchmark_objects import BenchmarkTokenizer"
   ]
  },
  {
   "cell_type": "code",
   "execution_count": 2,
   "id": "474870c3",
   "metadata": {},
   "outputs": [],
   "source": [
    "tokenizer = BenchmarkTokenizer(r\"D:\\Dropbox\\Bachlorarbeit\\Tokenization by Word Tag\\Intrinsic Benchmark Tokenisers\\bpe_40960.json\")"
   ]
  },
  {
   "cell_type": "code",
   "execution_count": 3,
   "id": "42488228",
   "metadata": {},
   "outputs": [
    {
     "name": "stdout",
     "output_type": "stream",
     "text": [
      "prefix_space Ġ\n",
      "heartache ['Ġheart', 'ache'] ['Ġheart', 'ache'] [6] [6]\n",
      "prefix_space Ġ\n",
      "yellowest ['Ġyellow', 'est'] ['Ġyellow', 'est'] [7] [7]\n",
      "prefix_space Ġ\n",
      "abeam ['Ġa', 'beam'] ['Ġab', 'e', 'am'] [2] [3, 4]\n",
      "prefix_space Ġ\n",
      "unheap ['Ġun', 'heap'] ['Ġun', 'heap'] [3] [3]\n",
      "prefix_space Ġ\n",
      "administerings ['Ġadministering', 's'] ['Ġadminister', 'ings'] [14] [11]\n",
      "prefix_space Ġ\n",
      "eggceptional ['Ġe', 'gg', 'ception', 'al'] ['Ġegg', 'ception', 'al'] [2, 4, 11] [4, 11]\n",
      "prefix_space Ġ\n",
      "thumbmark ['Ġthumb', 'mark'] ['Ġthumb', 'mark'] [6] [6]\n"
     ]
    }
   ],
   "source": [
    "from Intrinsic_measures import ling, ling_utils\n",
    "df = pd.read_csv(r\"D:\\Dropbox\\Bachlorarbeit\\tokenizers_intrinsic_benchmark-main\\Resources\\en\\ling\\combined_resources.csv\", sep=\",\")\n",
    "df['Gold_standard_segmentation'] = df['Gold_standard_segmentation'].apply(ast.literal_eval)\n",
    "datasets = [\"Ladec\", \"MorphoLex\", \"MorphyNet\", \"Dago_Bert\", \"UniMorph\", \"UnBlend\", \"CompoundPiece\"]\n",
    "coverage = {}\n",
    "avg_f1 = 0\n",
    "for dataset in datasets:\n",
    "    curr_coverage = ling_utils.get_seg_coverage(df.loc[df['Origin'] == dataset], tokenizer)\n",
    "    avg_f1 += curr_coverage['f1']\n",
    "    curr_coverage = {dataset + \"_\" + key: val for key, val in curr_coverage.items()}\n",
    "    coverage.update(curr_coverage)\n",
    "coverage[\"avg_f1\"] = avg_f1 / len(datasets)"
   ]
  },
  {
   "cell_type": "code",
   "execution_count": 4,
   "id": "4c94a6fb",
   "metadata": {},
   "outputs": [
    {
     "data": {
      "text/plain": [
       "{'Ladec_f1': 0.8159710439995476,\n",
       " 'MorphoLex_f1': 0.6780653316479276,\n",
       " 'MorphyNet_f1': 0.6132011239079777,\n",
       " 'Dago_Bert_f1': 0.6195143785186615,\n",
       " 'UniMorph_f1': 0.32333746385790996,\n",
       " 'UnBlend_f1': 0.6096997690531177,\n",
       " 'CompoundPiece_f1': 0.7567892875949748,\n",
       " 'avg_f1': 0.630939771225731}"
      ]
     },
     "execution_count": 4,
     "metadata": {},
     "output_type": "execute_result"
    }
   ],
   "source": [
    "coverage"
   ]
  },
  {
   "cell_type": "code",
   "execution_count": 3,
   "id": "f6dca7ec",
   "metadata": {},
   "outputs": [
    {
     "name": "stdout",
     "output_type": "stream",
     "text": [
      "Dropped 3373 rows with non-UPOS tags \n",
      "Tags dropped: ['_']\n",
      "Dropped 354 rows with non-UPOS tags \n",
      "Tags dropped: ['_']\n",
      "Dropped 180 rows with non-UPOS tags \n",
      "Tags dropped: ['_']\n",
      "Dropped 412 rows with non-UPOS tags \n",
      "Tags dropped: ['_']\n",
      "Dropped 34 rows with non-UPOS tags \n",
      "Tags dropped: ['_']\n",
      "Dropped 228 rows with non-UPOS tags \n",
      "Tags dropped: ['_']\n",
      "Dropped 16 rows with non-UPOS tags \n",
      "Tags dropped: ['_']\n",
      "Dropped 65 rows with non-UPOS tags \n",
      "Tags dropped: ['_']\n",
      "Dropped 129 rows with non-UPOS tags \n",
      "Tags dropped: ['_']\n",
      "Dropped 194 rows with non-UPOS tags \n",
      "Tags dropped: ['_']\n",
      "Dropped 371 rows with non-UPOS tags \n",
      "Tags dropped: ['_']\n",
      "Dropped 278 rows with non-UPOS tags \n",
      "Tags dropped: ['_']\n",
      "Dropped 346 rows with non-UPOS tags \n",
      "Tags dropped: ['_']\n",
      "Dropped 20 rows with non-UPOS tags \n",
      "Tags dropped: ['_']\n"
     ]
    }
   ],
   "source": [
    "english_test_dir = Path(\"D:\\\\Dropbox\\\\Bachelorarbeit\\\\Datasets\\\\English\\\\Test\\\\\")\n",
    "txt_path = english_test_dir / \"english_test.txt\"\n",
    "\n",
    "with open(txt_path, \"w\", encoding=\"utf-8\") as f:\n",
    "    for filename in os.listdir(english_test_dir):\n",
    "        if filename.endswith(\".conllu\"):\n",
    "            path = os.path.join(english_test_dir, filename)\n",
    "            english_test = dl.conllu_to_list_of_sentences(path)\n",
    "            for sentence in english_test:\n",
    "                f.write(sentence + \"\\n\")\n",
    "\n",
    "turkish_test_dir = Path(\"D:\\\\Dropbox\\\\Bachelorarbeit\\\\Datasets\\\\Turkish\\\\Test\\\\\")\n",
    "txt_path = turkish_test_dir / \"turkish_test.txt\"\n",
    "\n",
    "with open(txt_path, \"w\", encoding=\"utf-8\") as f:\n",
    "    for filename in os.listdir(turkish_test_dir):\n",
    "        if filename.endswith(\".conllu\"):\n",
    "            path = os.path.join(turkish_test_dir, filename)\n",
    "            turkish_test = dl.conllu_to_list_of_sentences(path)\n",
    "            for sentence in turkish_test:\n",
    "                f.write(sentence + \"\\n\")"
   ]
  },
  {
   "cell_type": "code",
   "execution_count": 5,
   "id": "aba78f7a",
   "metadata": {},
   "outputs": [],
   "source": [
    "with open(\"D:\\\\Dropbox\\\\Bachelorarbeit\\\\tokenizers_intrinsic_benchmark-main\\\\english_tokenizers.txt\", \"w\", encoding=\"utf-8\") as f:\n",
    "    for filename in os.listdir(\"D:\\\\Dropbox\\\\Bachelorarbeit\\\\Tokenization by Word Tag\\\\Tokenizers\\\\English\"):\n",
    "        if filename.endswith(\".json\"):\n",
    "            file_path = os.path.join(\"D:\\\\Dropbox\\\\Bachelorarbeit\\\\Tokenization by Word Tag\\\\Tokenizers\\\\English\", filename)\n",
    "            f.write(file_path + \"\\n\")\n",
    "\n",
    "with open(\"D:\\\\Dropbox\\\\Bachelorarbeit\\\\tokenizers_intrinsic_benchmark-main\\\\turkish_tokenizers.txt\", \"w\", encoding=\"utf-8\") as f:\n",
    "    for filename in os.listdir(\"D:\\\\Dropbox\\\\Bachelorarbeit\\\\Tokenization by Word Tag\\\\Tokenizers\\\\Turkish\"):\n",
    "        if filename.endswith(\".json\"):\n",
    "            file_path = os.path.join(\"D:\\\\Dropbox\\\\Bachelorarbeit\\\\Tokenization by Word Tag\\\\Tokenizers\\\\Turkish\", filename)\n",
    "            f.write(file_path + \"\\n\")"
   ]
  },
  {
   "cell_type": "code",
   "execution_count": 6,
   "id": "47d56358",
   "metadata": {},
   "outputs": [
    {
     "data": {
      "text/plain": [
       "CompletedProcess(args=['python', 'main.py', '--tokenizer', 'D:\\\\Dropbox\\\\Bachelorarbeit\\\\tokenizers_intrinsic_benchmark-main\\\\english_tokenizers.txt', '--static_corpus', 'D:\\\\Dropbox\\\\Bachelorarbeit\\\\Datasets\\\\English\\\\Test\\\\english_test.txt', '--output', 'D:\\\\Dropbox\\\\Bachelorarbeit\\\\Tokenization by Word Tag\\\\Benchmark output\\\\english_benchmark_output.csv'], returncode=0)"
      ]
     },
     "execution_count": 6,
     "metadata": {},
     "output_type": "execute_result"
    }
   ],
   "source": [
    "subprocess.run([\n",
    "    \"python\", \"main.py\",\n",
    "    \"--tokenizer\", r\"D:\\Dropbox\\Bachelorarbeit\\tokenizers_intrinsic_benchmark-main\\english_tokenizers.txt\",\n",
    "    \"--static_corpus\", r\"D:\\Dropbox\\Bachelorarbeit\\Datasets\\English\\Test\\english_test.txt\",\n",
    "    \"--output\", r\"D:\\Dropbox\\Bachelorarbeit\\Tokenization by Word Tag\\Benchmark output\\english_benchmark_output.csv\"\n",
    "], cwd=r\"D:\\Dropbox\\Bachelorarbeit\\tokenizers_intrinsic_benchmark-main\")"
   ]
  },
  {
   "cell_type": "code",
   "execution_count": 3,
   "id": "21b04390",
   "metadata": {},
   "outputs": [
    {
     "data": {
      "text/plain": [
       "CompletedProcess(args=['python', 'main.py', '--tokenizer', 'D:\\\\Dropbox\\\\Bachelorarbeit\\\\tokenizers_intrinsic_benchmark-main\\\\turkish_tokenizers.txt', '--linguistic_corpus', 'D:\\\\Dropbox\\\\Bachelorarbeit\\\\Datasets\\\\Turkish\\\\Segmentation\\\\turkish_segmentation.csv', '--static_corpus', 'D:\\\\Dropbox\\\\Bachelorarbeit\\\\Datasets\\\\Turkish\\\\Test\\\\turkish_test.txt', '--output', 'D:\\\\Dropbox\\\\Bachelorarbeit\\\\Tokenization by Word Tag\\\\Benchmark output\\\\turkish_benchmark_output.csv'], returncode=0)"
      ]
     },
     "execution_count": 3,
     "metadata": {},
     "output_type": "execute_result"
    }
   ],
   "source": [
    "subprocess.run([\n",
    "    \"python\", \"main.py\",\n",
    "    \"--tokenizer\", r\"D:\\Dropbox\\Bachelorarbeit\\tokenizers_intrinsic_benchmark-main\\turkish_tokenizers.txt\",\n",
    "    \"--linguistic_corpus\", r\"D:\\Dropbox\\Bachelorarbeit\\Datasets\\Turkish\\Segmentation\\turkish_segmentation.csv\",\n",
    "    \"--static_corpus\", r\"D:\\Dropbox\\Bachelorarbeit\\Datasets\\Turkish\\Test\\turkish_test.txt\",\n",
    "    \"--output\", r\"D:\\Dropbox\\Bachelorarbeit\\Tokenization by Word Tag\\Benchmark output\\turkish_benchmark_output.csv\"\n",
    "], cwd=r\"D:\\Dropbox\\Bachelorarbeit\\tokenizers_intrinsic_benchmark-main\")"
   ]
  }
 ],
 "metadata": {
  "kernelspec": {
   "display_name": "thesis",
   "language": "python",
   "name": "python3"
  },
  "language_info": {
   "codemirror_mode": {
    "name": "ipython",
    "version": 3
   },
   "file_extension": ".py",
   "mimetype": "text/x-python",
   "name": "python",
   "nbconvert_exporter": "python",
   "pygments_lexer": "ipython3",
   "version": "3.10.16"
  }
 },
 "nbformat": 4,
 "nbformat_minor": 5
}
