{
 "cells": [
  {
   "cell_type": "code",
   "execution_count": 1,
   "id": "4b144bbd",
   "metadata": {},
   "outputs": [],
   "source": [
    "import os\n",
    "import tokenizers\n",
    "import tokenization_scorer\n",
    "import datasets\n",
    "from lib import dataloading as dl\n",
    "from lib import tokenizer as tk\n",
    "import pandas as pd\n",
    "from pathlib import Path\n",
    "import ast\n",
    "import subprocess\n",
    "\n",
    "import sys\n",
    "sys.path.append(\"D:\\\\Dropbox\\\\Bachelorarbeit\\\\tokenizers_intrinsic_benchmark-main\")\n",
    "from benchmark_objects import BenchmarkTokenizer"
   ]
  },
  {
   "cell_type": "code",
   "execution_count": 2,
   "id": "f6dca7ec",
   "metadata": {},
   "outputs": [],
   "source": [
    "english_test_dir = Path(\"D:\\\\Dropbox\\\\Bachelorarbeit\\\\Datasets\\\\English\\\\Test\\\\\")\n",
    "txt_path = english_test_dir / \"english_test.txt\"\n",
    "\n",
    "with open(txt_path, \"w\", encoding=\"utf-8\") as f:\n",
    "    for filename in os.listdir(english_test_dir):\n",
    "        if filename.endswith(\".conllu\"):\n",
    "            path = os.path.join(english_test_dir, filename)\n",
    "            english_test = dl.conllu_to_list_of_sentences(path)\n",
    "            for sentence in english_test:\n",
    "                f.write(sentence + \"\\n\")\n",
    "\n",
    "turkish_test_dir = Path(\"D:\\\\Dropbox\\\\Bachelorarbeit\\\\Datasets\\\\Turkish\\\\Test\\\\\")\n",
    "txt_path = turkish_test_dir / \"turkish_test.txt\"\n",
    "\n",
    "with open(txt_path, \"w\", encoding=\"utf-8\") as f:\n",
    "    for filename in os.listdir(turkish_test_dir):\n",
    "        if filename.endswith(\".conllu\"):\n",
    "            path = os.path.join(turkish_test_dir, filename)\n",
    "            turkish_test = dl.conllu_to_list_of_sentences(path)\n",
    "            for sentence in turkish_test:\n",
    "                f.write(sentence + \"\\n\")"
   ]
  },
  {
   "cell_type": "code",
   "execution_count": 3,
   "id": "aba78f7a",
   "metadata": {},
   "outputs": [],
   "source": [
    "with open(\"D:\\\\Dropbox\\\\Bachelorarbeit\\\\tokenizers_intrinsic_benchmark-main\\\\english_tokenizers.txt\", \"w\", encoding=\"utf-8\") as f:\n",
    "    for filename in os.listdir(\"D:\\\\Dropbox\\\\Bachelorarbeit\\\\Tokenization by Word Tag\\\\Tokenizers\\\\English\"):\n",
    "        if filename.endswith(\".json\"):\n",
    "            file_path = os.path.join(\"D:\\\\Dropbox\\\\Bachelorarbeit\\\\Tokenization by Word Tag\\\\Tokenizers\\\\English\", filename)\n",
    "            f.write(file_path + \"\\n\")\n",
    "\n",
    "with open(\"D:\\\\Dropbox\\\\Bachelorarbeit\\\\tokenizers_intrinsic_benchmark-main\\\\turkish_tokenizers.txt\", \"w\", encoding=\"utf-8\") as f:\n",
    "    for filename in os.listdir(\"D:\\\\Dropbox\\\\Bachelorarbeit\\\\Tokenization by Word Tag\\\\Tokenizers\\\\Turkish\"):\n",
    "        if filename.endswith(\".json\"):\n",
    "            file_path = os.path.join(\"D:\\\\Dropbox\\\\Bachelorarbeit\\\\Tokenization by Word Tag\\\\Tokenizers\\\\Turkish\", filename)\n",
    "            f.write(file_path + \"\\n\")"
   ]
  },
  {
   "cell_type": "code",
   "execution_count": 4,
   "id": "47d56358",
   "metadata": {},
   "outputs": [
    {
     "data": {
      "text/plain": [
       "CompletedProcess(args=['python', 'main.py', '--tokenizer', 'D:\\\\Dropbox\\\\Bachelorarbeit\\\\tokenizers_intrinsic_benchmark-main\\\\english_tokenizers.txt', '--static_corpus', 'D:\\\\Dropbox\\\\Bachelorarbeit\\\\Datasets\\\\English\\\\Test\\\\english_test.txt', '--output', 'D:\\\\Dropbox\\\\Bachelorarbeit\\\\Tokenization by Word Tag\\\\Benchmark output\\\\english_benchmark_output.csv'], returncode=0)"
      ]
     },
     "execution_count": 4,
     "metadata": {},
     "output_type": "execute_result"
    }
   ],
   "source": [
    "subprocess.run([\n",
    "    \"python\", \"main.py\",\n",
    "    \"--tokenizer\", r\"D:\\Dropbox\\Bachelorarbeit\\tokenizers_intrinsic_benchmark-main\\english_tokenizers.txt\",\n",
    "    \"--static_corpus\", r\"D:\\Dropbox\\Bachelorarbeit\\Datasets\\English\\Test\\english_test.txt\",\n",
    "    \"--output\", r\"D:\\Dropbox\\Bachelorarbeit\\Tokenization by Word Tag\\Benchmark output\\english_benchmark_output.csv\"\n",
    "], cwd=r\"D:\\Dropbox\\Bachelorarbeit\\tokenizers_intrinsic_benchmark-main\")"
   ]
  },
  {
   "cell_type": "code",
   "execution_count": 5,
   "id": "21b04390",
   "metadata": {},
   "outputs": [
    {
     "data": {
      "text/plain": [
       "CompletedProcess(args=['python', 'main.py', '--tokenizer', 'D:\\\\Dropbox\\\\Bachelorarbeit\\\\tokenizers_intrinsic_benchmark-main\\\\turkish_tokenizers.txt', '--linguistic_corpus', 'D:\\\\Dropbox\\\\Bachelorarbeit\\\\Datasets\\\\Turkish\\\\Segmentation\\\\turkish_segmentation.csv', '--static_corpus', 'D:\\\\Dropbox\\\\Bachelorarbeit\\\\Datasets\\\\Turkish\\\\Test\\\\turkish_test.txt', '--output', 'D:\\\\Dropbox\\\\Bachelorarbeit\\\\Tokenization by Word Tag\\\\Benchmark output\\\\turkish_benchmark_output.csv'], returncode=0)"
      ]
     },
     "execution_count": 5,
     "metadata": {},
     "output_type": "execute_result"
    }
   ],
   "source": [
    "subprocess.run([\n",
    "    \"python\", \"main.py\",\n",
    "    \"--tokenizer\", r\"D:\\Dropbox\\Bachelorarbeit\\tokenizers_intrinsic_benchmark-main\\turkish_tokenizers.txt\",\n",
    "    \"--linguistic_corpus\", r\"D:\\Dropbox\\Bachelorarbeit\\Datasets\\Turkish\\Segmentation\\turkish_segmentation.csv\",\n",
    "    \"--static_corpus\", r\"D:\\Dropbox\\Bachelorarbeit\\Datasets\\Turkish\\Test\\turkish_test.txt\",\n",
    "    \"--output\", r\"D:\\Dropbox\\Bachelorarbeit\\Tokenization by Word Tag\\Benchmark output\\turkish_benchmark_output.csv\"\n",
    "], cwd=r\"D:\\Dropbox\\Bachelorarbeit\\tokenizers_intrinsic_benchmark-main\")"
   ]
  }
 ],
 "metadata": {
  "kernelspec": {
   "display_name": "thesis",
   "language": "python",
   "name": "python3"
  },
  "language_info": {
   "codemirror_mode": {
    "name": "ipython",
    "version": 3
   },
   "file_extension": ".py",
   "mimetype": "text/x-python",
   "name": "python",
   "nbconvert_exporter": "python",
   "pygments_lexer": "ipython3",
   "version": "3.10.16"
  }
 },
 "nbformat": 4,
 "nbformat_minor": 5
}
